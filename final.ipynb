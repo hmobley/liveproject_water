{
  "nbformat": 4,
  "nbformat_minor": 0,
  "metadata": {
    "colab": {
      "name": "5_Model_Optimization.ipynb",
      "provenance": [],
      "include_colab_link": true
    },
    "kernelspec": {
      "display_name": "Python 3",
      "language": "python",
      "name": "python3"
    },
    "language_info": {
      "codemirror_mode": {
        "name": "ipython",
        "version": 3
      },
      "file_extension": ".py",
      "mimetype": "text/x-python",
      "name": "python",
      "nbconvert_exporter": "python",
      "pygments_lexer": "ipython3",
      "version": "3.7.0"
    }
  },
  "cells": [
    {
      "cell_type": "markdown",
      "metadata": {
        "id": "view-in-github",
        "colab_type": "text"
      },
      "source": [
        "<a href=\"https://colab.research.google.com/github/hmobley/liveproject_water/blob/master/final.ipynb\" target=\"_parent\"><img src=\"https://colab.research.google.com/assets/colab-badge.svg\" alt=\"Open In Colab\"/></a>"
      ]
    },
    {
      "cell_type": "markdown",
      "metadata": {
        "id": "j0u6x-FlyUOp"
      },
      "source": [
        "#### Preliminaries for Colab\n",
        "\n",
        "Like Part 3 and 4, below are some convenience functions for those working on Google Colab with a GPU runtime"
      ]
    },
    {
      "cell_type": "code",
      "metadata": {
        "colab": {
          "base_uri": "https://localhost:8080/"
        },
        "id": "t2o_y1YvyUOy",
        "outputId": "6dbdbc4b-77e7-41cc-a61f-793ae03b1886"
      },
      "source": [
        "#colab = 0\n",
        "colab = 1\n",
        "\n",
        "if colab==1:\n",
        "    %tensorflow_version 2.x\n",
        "    !pip install --default-timeout=1000 tensorflow-gpu==2.0   "
      ],
      "execution_count": 1,
      "outputs": [
        {
          "output_type": "stream",
          "text": [
            "Collecting tensorflow-gpu==2.0\n",
            "\u001b[?25l  Downloading https://files.pythonhosted.org/packages/25/44/47f0722aea081697143fbcf5d2aa60d1aee4aaacb5869aee2b568974777b/tensorflow_gpu-2.0.0-cp36-cp36m-manylinux2010_x86_64.whl (380.8MB)\n",
            "\u001b[K     |████████████████████████████████| 380.8MB 37kB/s \n",
            "\u001b[?25hRequirement already satisfied: grpcio>=1.8.6 in /usr/local/lib/python3.6/dist-packages (from tensorflow-gpu==2.0) (1.34.0)\n",
            "Collecting keras-applications>=1.0.8\n",
            "\u001b[?25l  Downloading https://files.pythonhosted.org/packages/71/e3/19762fdfc62877ae9102edf6342d71b28fbfd9dea3d2f96a882ce099b03f/Keras_Applications-1.0.8-py3-none-any.whl (50kB)\n",
            "\u001b[K     |████████████████████████████████| 51kB 7.4MB/s \n",
            "\u001b[?25hRequirement already satisfied: wheel>=0.26 in /usr/local/lib/python3.6/dist-packages (from tensorflow-gpu==2.0) (0.36.1)\n",
            "Requirement already satisfied: astor>=0.6.0 in /usr/local/lib/python3.6/dist-packages (from tensorflow-gpu==2.0) (0.8.1)\n",
            "Requirement already satisfied: six>=1.10.0 in /usr/local/lib/python3.6/dist-packages (from tensorflow-gpu==2.0) (1.15.0)\n",
            "Requirement already satisfied: numpy<2.0,>=1.16.0 in /usr/local/lib/python3.6/dist-packages (from tensorflow-gpu==2.0) (1.18.5)\n",
            "Requirement already satisfied: termcolor>=1.1.0 in /usr/local/lib/python3.6/dist-packages (from tensorflow-gpu==2.0) (1.1.0)\n",
            "Requirement already satisfied: wrapt>=1.11.1 in /usr/local/lib/python3.6/dist-packages (from tensorflow-gpu==2.0) (1.12.1)\n",
            "Requirement already satisfied: opt-einsum>=2.3.2 in /usr/local/lib/python3.6/dist-packages (from tensorflow-gpu==2.0) (3.3.0)\n",
            "Collecting tensorflow-estimator<2.1.0,>=2.0.0\n",
            "\u001b[?25l  Downloading https://files.pythonhosted.org/packages/fc/08/8b927337b7019c374719145d1dceba21a8bb909b93b1ad6f8fb7d22c1ca1/tensorflow_estimator-2.0.1-py2.py3-none-any.whl (449kB)\n",
            "\u001b[K     |████████████████████████████████| 450kB 52.6MB/s \n",
            "\u001b[?25hRequirement already satisfied: keras-preprocessing>=1.0.5 in /usr/local/lib/python3.6/dist-packages (from tensorflow-gpu==2.0) (1.1.2)\n",
            "Requirement already satisfied: google-pasta>=0.1.6 in /usr/local/lib/python3.6/dist-packages (from tensorflow-gpu==2.0) (0.2.0)\n",
            "Requirement already satisfied: absl-py>=0.7.0 in /usr/local/lib/python3.6/dist-packages (from tensorflow-gpu==2.0) (0.10.0)\n",
            "Collecting gast==0.2.2\n",
            "  Downloading https://files.pythonhosted.org/packages/4e/35/11749bf99b2d4e3cceb4d55ca22590b0d7c2c62b9de38ac4a4a7f4687421/gast-0.2.2.tar.gz\n",
            "Collecting tensorboard<2.1.0,>=2.0.0\n",
            "\u001b[?25l  Downloading https://files.pythonhosted.org/packages/76/54/99b9d5d52d5cb732f099baaaf7740403e83fe6b0cedde940fabd2b13d75a/tensorboard-2.0.2-py3-none-any.whl (3.8MB)\n",
            "\u001b[K     |████████████████████████████████| 3.8MB 42.5MB/s \n",
            "\u001b[?25hRequirement already satisfied: protobuf>=3.6.1 in /usr/local/lib/python3.6/dist-packages (from tensorflow-gpu==2.0) (3.12.4)\n",
            "Requirement already satisfied: h5py in /usr/local/lib/python3.6/dist-packages (from keras-applications>=1.0.8->tensorflow-gpu==2.0) (2.10.0)\n",
            "Requirement already satisfied: google-auth<2,>=1.6.3 in /usr/local/lib/python3.6/dist-packages (from tensorboard<2.1.0,>=2.0.0->tensorflow-gpu==2.0) (1.17.2)\n",
            "Requirement already satisfied: requests<3,>=2.21.0 in /usr/local/lib/python3.6/dist-packages (from tensorboard<2.1.0,>=2.0.0->tensorflow-gpu==2.0) (2.23.0)\n",
            "Requirement already satisfied: google-auth-oauthlib<0.5,>=0.4.1 in /usr/local/lib/python3.6/dist-packages (from tensorboard<2.1.0,>=2.0.0->tensorflow-gpu==2.0) (0.4.2)\n",
            "Requirement already satisfied: werkzeug>=0.11.15 in /usr/local/lib/python3.6/dist-packages (from tensorboard<2.1.0,>=2.0.0->tensorflow-gpu==2.0) (1.0.1)\n",
            "Requirement already satisfied: markdown>=2.6.8 in /usr/local/lib/python3.6/dist-packages (from tensorboard<2.1.0,>=2.0.0->tensorflow-gpu==2.0) (3.3.3)\n",
            "Requirement already satisfied: setuptools>=41.0.0 in /usr/local/lib/python3.6/dist-packages (from tensorboard<2.1.0,>=2.0.0->tensorflow-gpu==2.0) (50.3.2)\n",
            "Requirement already satisfied: pyasn1-modules>=0.2.1 in /usr/local/lib/python3.6/dist-packages (from google-auth<2,>=1.6.3->tensorboard<2.1.0,>=2.0.0->tensorflow-gpu==2.0) (0.2.8)\n",
            "Requirement already satisfied: rsa<5,>=3.1.4; python_version >= \"3\" in /usr/local/lib/python3.6/dist-packages (from google-auth<2,>=1.6.3->tensorboard<2.1.0,>=2.0.0->tensorflow-gpu==2.0) (4.6)\n",
            "Requirement already satisfied: cachetools<5.0,>=2.0.0 in /usr/local/lib/python3.6/dist-packages (from google-auth<2,>=1.6.3->tensorboard<2.1.0,>=2.0.0->tensorflow-gpu==2.0) (4.1.1)\n",
            "Requirement already satisfied: urllib3!=1.25.0,!=1.25.1,<1.26,>=1.21.1 in /usr/local/lib/python3.6/dist-packages (from requests<3,>=2.21.0->tensorboard<2.1.0,>=2.0.0->tensorflow-gpu==2.0) (1.24.3)\n",
            "Requirement already satisfied: idna<3,>=2.5 in /usr/local/lib/python3.6/dist-packages (from requests<3,>=2.21.0->tensorboard<2.1.0,>=2.0.0->tensorflow-gpu==2.0) (2.10)\n",
            "Requirement already satisfied: certifi>=2017.4.17 in /usr/local/lib/python3.6/dist-packages (from requests<3,>=2.21.0->tensorboard<2.1.0,>=2.0.0->tensorflow-gpu==2.0) (2020.12.5)\n",
            "Requirement already satisfied: chardet<4,>=3.0.2 in /usr/local/lib/python3.6/dist-packages (from requests<3,>=2.21.0->tensorboard<2.1.0,>=2.0.0->tensorflow-gpu==2.0) (3.0.4)\n",
            "Requirement already satisfied: requests-oauthlib>=0.7.0 in /usr/local/lib/python3.6/dist-packages (from google-auth-oauthlib<0.5,>=0.4.1->tensorboard<2.1.0,>=2.0.0->tensorflow-gpu==2.0) (1.3.0)\n",
            "Requirement already satisfied: importlib-metadata; python_version < \"3.8\" in /usr/local/lib/python3.6/dist-packages (from markdown>=2.6.8->tensorboard<2.1.0,>=2.0.0->tensorflow-gpu==2.0) (3.1.1)\n",
            "Requirement already satisfied: pyasn1<0.5.0,>=0.4.6 in /usr/local/lib/python3.6/dist-packages (from pyasn1-modules>=0.2.1->google-auth<2,>=1.6.3->tensorboard<2.1.0,>=2.0.0->tensorflow-gpu==2.0) (0.4.8)\n",
            "Requirement already satisfied: oauthlib>=3.0.0 in /usr/local/lib/python3.6/dist-packages (from requests-oauthlib>=0.7.0->google-auth-oauthlib<0.5,>=0.4.1->tensorboard<2.1.0,>=2.0.0->tensorflow-gpu==2.0) (3.1.0)\n",
            "Requirement already satisfied: zipp>=0.5 in /usr/local/lib/python3.6/dist-packages (from importlib-metadata; python_version < \"3.8\"->markdown>=2.6.8->tensorboard<2.1.0,>=2.0.0->tensorflow-gpu==2.0) (3.4.0)\n",
            "Building wheels for collected packages: gast\n",
            "  Building wheel for gast (setup.py) ... \u001b[?25l\u001b[?25hdone\n",
            "  Created wheel for gast: filename=gast-0.2.2-cp36-none-any.whl size=7542 sha256=d444d597d18b8c14a4ac0bd9d0d82219d5517324d723814aa5cd48366d376de5\n",
            "  Stored in directory: /root/.cache/pip/wheels/5c/2e/7e/a1d4d4fcebe6c381f378ce7743a3ced3699feb89bcfbdadadd\n",
            "Successfully built gast\n",
            "\u001b[31mERROR: tensorflow 2.3.0 has requirement gast==0.3.3, but you'll have gast 0.2.2 which is incompatible.\u001b[0m\n",
            "\u001b[31mERROR: tensorflow 2.3.0 has requirement tensorboard<3,>=2.3.0, but you'll have tensorboard 2.0.2 which is incompatible.\u001b[0m\n",
            "\u001b[31mERROR: tensorflow 2.3.0 has requirement tensorflow-estimator<2.4.0,>=2.3.0, but you'll have tensorflow-estimator 2.0.1 which is incompatible.\u001b[0m\n",
            "\u001b[31mERROR: tensorflow-probability 0.11.0 has requirement gast>=0.3.2, but you'll have gast 0.2.2 which is incompatible.\u001b[0m\n",
            "Installing collected packages: keras-applications, tensorflow-estimator, gast, tensorboard, tensorflow-gpu\n",
            "  Found existing installation: tensorflow-estimator 2.3.0\n",
            "    Uninstalling tensorflow-estimator-2.3.0:\n",
            "      Successfully uninstalled tensorflow-estimator-2.3.0\n",
            "  Found existing installation: gast 0.3.3\n",
            "    Uninstalling gast-0.3.3:\n",
            "      Successfully uninstalled gast-0.3.3\n",
            "  Found existing installation: tensorboard 2.3.0\n",
            "    Uninstalling tensorboard-2.3.0:\n",
            "      Successfully uninstalled tensorboard-2.3.0\n",
            "Successfully installed gast-0.2.2 keras-applications-1.0.8 tensorboard-2.0.2 tensorflow-estimator-2.0.1 tensorflow-gpu-2.0.0\n"
          ],
          "name": "stdout"
        }
      ]
    },
    {
      "cell_type": "code",
      "metadata": {
        "id": "qXitQbvPzAnR"
      },
      "source": [
        "load_res_dice_mix_history = 1\n",
        "if load_res_dice_mix_history:\n",
        "  import pickle"
      ],
      "execution_count": 2,
      "outputs": []
    },
    {
      "cell_type": "code",
      "metadata": {
        "id": "cCSFK92Qyh4T"
      },
      "source": [
        "# must be a pre-written method for this!\n",
        "def clear_drive():\n",
        "  if colab == 1:\n",
        "    !rm -r nwpu_images\n",
        "    !rm -r nwpu_label_images\n",
        "    !rm -r s2cloudless_imagery\n",
        "    !rm -r s2cloudless_label_imagery\n",
        "    !rm nwpu_images.zip\n",
        "    !rm nwpu_label_images.zip\n",
        "    !rm opt_model_1_early\n",
        "    !rm opt_model_1_early_hist\n",
        "    !rm opt_model_2_big\n",
        "    !rm opt_model_2_big_hist\n",
        "    !rm opt_model_3_bn\n",
        "    !rm opt_model_3_bn_hist\n",
        "    !rm opt_model_4_res\n",
        "    !rm opt_model_4_res_hist\n",
        "    !rm opt_model_5_res_dice\n",
        "    !rm opt_model_5_res_dice_hist\n",
        "    !rm opt_model_6_res_dice2\n",
        "    !rm opt_model_6_res_dice2_hist\n",
        "    !rm s2cloudless_imagery.zip\n",
        "    !rm s2cloudless_label_imagery.zip\n",
        "    !rm res_unet8.h5\n",
        "    !rm res_dice_unet2.h5\n",
        "    !rm -r weights"
      ],
      "execution_count": 3,
      "outputs": []
    },
    {
      "cell_type": "code",
      "metadata": {
        "colab": {
          "base_uri": "https://localhost:8080/"
        },
        "id": "wZpK55RSy4n-",
        "outputId": "4a527547-41be-42c0-a6d3-17f73aeaf79d"
      },
      "source": [
        "clear_drive()"
      ],
      "execution_count": 4,
      "outputs": [
        {
          "output_type": "stream",
          "text": [
            "rm: cannot remove 'nwpu_images': No such file or directory\n",
            "rm: cannot remove 'nwpu_label_images': No such file or directory\n",
            "rm: cannot remove 's2cloudless_imagery': No such file or directory\n",
            "rm: cannot remove 's2cloudless_label_imagery': No such file or directory\n",
            "rm: cannot remove 'nwpu_images.zip': No such file or directory\n",
            "rm: cannot remove 'nwpu_label_images.zip': No such file or directory\n",
            "rm: cannot remove 'opt_model_1_early': No such file or directory\n",
            "rm: cannot remove 'opt_model_1_early_hist': No such file or directory\n",
            "rm: cannot remove 'opt_model_2_big': No such file or directory\n",
            "rm: cannot remove 'opt_model_2_big_hist': No such file or directory\n",
            "rm: cannot remove 'opt_model_3_bn': No such file or directory\n",
            "rm: cannot remove 'opt_model_3_bn_hist': No such file or directory\n",
            "rm: cannot remove 'opt_model_4_res': No such file or directory\n",
            "rm: cannot remove 'opt_model_4_res_hist': No such file or directory\n",
            "rm: cannot remove 'opt_model_5_res_dice': No such file or directory\n",
            "rm: cannot remove 'opt_model_5_res_dice_hist': No such file or directory\n",
            "rm: cannot remove 'opt_model_6_res_dice2': No such file or directory\n",
            "rm: cannot remove 'opt_model_6_res_dice2_hist': No such file or directory\n",
            "rm: cannot remove 's2cloudless_imagery.zip': No such file or directory\n",
            "rm: cannot remove 's2cloudless_label_imagery.zip': No such file or directory\n",
            "rm: cannot remove 'res_unet8.h5': No such file or directory\n",
            "rm: cannot remove 'res_dice_unet2.h5': No such file or directory\n",
            "rm: cannot remove 'weights': No such file or directory\n"
          ],
          "name": "stdout"
        }
      ]
    },
    {
      "cell_type": "code",
      "metadata": {
        "colab": {
          "base_uri": "https://localhost:8080/"
        },
        "id": "Adq0gEvuyUO2",
        "outputId": "fedc82be-5ad1-458c-c345-eff9750d3902"
      },
      "source": [
        "import tensorflow as tf\n",
        "print(tf.__version__)\n",
        "print(tf.test.is_gpu_available())"
      ],
      "execution_count": 5,
      "outputs": [
        {
          "output_type": "stream",
          "text": [
            "2.0.0\n",
            "True\n"
          ],
          "name": "stdout"
        }
      ]
    },
    {
      "cell_type": "markdown",
      "metadata": {
        "id": "_rEBeYB4yUO4"
      },
      "source": [
        "Convenience functions if you need to download example (minimal) imagery sets derived from NWPU and Sentinel-2 cloudless:"
      ]
    },
    {
      "cell_type": "code",
      "metadata": {
        "id": "s_AqPRPcyUPB"
      },
      "source": [
        "# from https://stackoverflow.com/questions/38511444/python-download-files-from-google-drive-using-url\n",
        "import requests\n",
        "\n",
        "def download_file_from_google_drive(id, destination):\n",
        "    URL = \"https://docs.google.com/uc?export=download\"\n",
        "\n",
        "    session = requests.Session()\n",
        "\n",
        "    response = session.get(URL, params = { 'id' : id }, stream = True)\n",
        "    token = get_confirm_token(response)\n",
        "\n",
        "    if token:\n",
        "        params = { 'id' : id, 'confirm' : token }\n",
        "        response = session.get(URL, params = params, stream = True)\n",
        "\n",
        "    save_response_content(response, destination)    \n",
        "\n",
        "def get_confirm_token(response):\n",
        "    for key, value in response.cookies.items():\n",
        "        if key.startswith('download_warning'):\n",
        "            return value\n",
        "\n",
        "    return None\n",
        "\n",
        "def save_response_content(response, destination):\n",
        "    CHUNK_SIZE = 32768\n",
        "\n",
        "    with open(destination, \"wb\") as f:\n",
        "        for chunk in response.iter_content(CHUNK_SIZE):\n",
        "            if chunk: # filter out keep-alive new chunks\n",
        "                f.write(chunk)\n",
        "\n",
        "\n",
        "#s2 cloudless imagery\n",
        "file_id = '1iMfIjr_ul49Ghs2ewazjCt8HMPfhY47h'\n",
        "destination = 's2cloudless_imagery.zip'\n",
        "if colab==1:\n",
        "    download_file_from_google_drive(file_id, destination)\n",
        "\n",
        "#s2 cloudless labels\n",
        "file_id = '1c7MpwKVejoUuW9F2UaF_vps8Vq2RZRfR'\n",
        "destination = 's2cloudless_label_imagery.zip'\n",
        "if colab==1:\n",
        "    download_file_from_google_drive(file_id, destination)\n",
        "\n",
        "#nwpu imagery\n",
        "file_id = '1gtuqy1VlU8-M5IEMnmiSuTlI5PxQPnGB'\n",
        "destination = 'nwpu_images.zip'\n",
        "if colab==1:\n",
        "    download_file_from_google_drive(file_id, destination)\n",
        "\n",
        "#nwpu labels\n",
        "file_id = '1W5LGbcYAcFbG5YjLgX_ekBn0u5Rno35x'\n",
        "destination = 'nwpu_label_images.zip'\n",
        "if colab==1:\n",
        "    download_file_from_google_drive(file_id, destination)                        "
      ],
      "execution_count": 6,
      "outputs": []
    },
    {
      "cell_type": "code",
      "metadata": {
        "id": "jM-HWaNZyUPK"
      },
      "source": [
        "import zipfile\n",
        "def unzip(f):\n",
        "    \"\"\"\n",
        "    f = file to be unzipped\n",
        "    \"\"\"    \n",
        "    with zipfile.ZipFile(f, 'r') as zip_ref:\n",
        "        zip_ref.extractall()\n",
        "        \n",
        "if colab==1:\n",
        "    unzip('s2cloudless_imagery.zip')\n",
        "    unzip('s2cloudless_label_imagery.zip')   \n",
        "    unzip('nwpu_images.zip')\n",
        "    unzip('nwpu_label_images.zip')       "
      ],
      "execution_count": 7,
      "outputs": []
    },
    {
      "cell_type": "markdown",
      "metadata": {
        "id": "Dt_OVZeYyUPM"
      },
      "source": [
        "#### Install libraries\n",
        "\n",
        "Uncomment below to install the module and its dependencies:"
      ]
    },
    {
      "cell_type": "code",
      "metadata": {
        "id": "7mE7m_1KyUPN",
        "colab": {
          "base_uri": "https://localhost:8080/"
        },
        "outputId": "bfaff8a3-d86c-425d-8d0e-720ad8e03ed7"
      },
      "source": [
        "!pip install cython\n",
        "!pip install git+https://github.com/lucasb-eyer/pydensecrf.git"
      ],
      "execution_count": 8,
      "outputs": [
        {
          "output_type": "stream",
          "text": [
            "Requirement already satisfied: cython in /usr/local/lib/python3.6/dist-packages (0.29.21)\n",
            "Collecting git+https://github.com/lucasb-eyer/pydensecrf.git\n",
            "  Cloning https://github.com/lucasb-eyer/pydensecrf.git to /tmp/pip-req-build-j56utooh\n",
            "  Running command git clone -q https://github.com/lucasb-eyer/pydensecrf.git /tmp/pip-req-build-j56utooh\n",
            "Building wheels for collected packages: pydensecrf\n",
            "  Building wheel for pydensecrf (setup.py) ... \u001b[?25l\u001b[?25hdone\n",
            "  Created wheel for pydensecrf: filename=pydensecrf-1.0rc2-cp36-cp36m-linux_x86_64.whl size=2226027 sha256=7cad3640bf95c7de6e6fc77cd4c1ed4d5181955c6dce9beb135b6b041125ee5a\n",
            "  Stored in directory: /tmp/pip-ephem-wheel-cache-11852o9u/wheels/81/ac/ed/09f1890b954ca1ff7f189518cc9a319138e50e7ea88937fae9\n",
            "Successfully built pydensecrf\n",
            "Installing collected packages: pydensecrf\n",
            "Successfully installed pydensecrf-1.0rc2\n"
          ],
          "name": "stdout"
        }
      ]
    },
    {
      "cell_type": "markdown",
      "metadata": {
        "id": "a7zCYr6XyUPO"
      },
      "source": [
        "Import the libraries we will need:"
      ]
    },
    {
      "cell_type": "code",
      "metadata": {
        "id": "CO_sRLgOyUPP"
      },
      "source": [
        "%matplotlib inline\n",
        "import tensorflow as tf\n",
        "from tensorflow.keras.layers import Input, Conv2D, MaxPooling2D, UpSampling2D, BatchNormalization\n",
        "from tensorflow.keras.layers import Concatenate, Conv2DTranspose, Flatten, Activation, Add\n",
        "from tensorflow.keras.models import Model\n",
        "from tensorflow.keras.callbacks import ReduceLROnPlateau, EarlyStopping, ModelCheckpoint\n",
        "import numpy as np\n",
        "import json, os\n",
        "from random import shuffle\n",
        "from PIL import Image\n",
        "import matplotlib\n",
        "import matplotlib.pyplot as plt\n",
        "from pydensecrf import densecrf\n",
        "from pydensecrf.utils import unary_from_labels\n",
        "import numpy as np"
      ],
      "execution_count": 9,
      "outputs": []
    },
    {
      "cell_type": "markdown",
      "metadata": {
        "id": "Bqp_9QXayUPQ"
      },
      "source": [
        "#### Define U-Resnet and CRF models"
      ]
    },
    {
      "cell_type": "code",
      "metadata": {
        "id": "Rp1tz-4syUPR"
      },
      "source": [
        "def batchnorm_act(x):\n",
        "    x = BatchNormalization()(x)\n",
        "    return Activation(\"relu\")(x)\n",
        "\n",
        "def conv_block(x, filters, kernel_size=(3, 3), padding=\"same\", strides=1):\n",
        "    conv = batchnorm_act(x)\n",
        "    return Conv2D(filters, kernel_size, padding=padding, strides=strides)(conv)\n",
        "\n",
        "def bottleneck_block(x, filters, kernel_size=(3, 3), padding=\"same\", strides=1):\n",
        "    conv = Conv2D(filters, kernel_size, padding=padding, strides=strides)(x)\n",
        "    conv = conv_block(conv, filters, kernel_size=kernel_size, padding=padding, strides=strides)\n",
        "    \n",
        "    bottleneck = Conv2D(filters, kernel_size=(1, 1), padding=padding, strides=strides)(x)\n",
        "    bottleneck = batchnorm_act(bottleneck)\n",
        "    \n",
        "    return Add()([conv, bottleneck])\n",
        "\n",
        "def res_block(x, filters, kernel_size=(3, 3), padding=\"same\", strides=1):\n",
        "    res = conv_block(x, filters, kernel_size=kernel_size, padding=padding, strides=strides)\n",
        "    res = conv_block(res, filters, kernel_size=kernel_size, padding=padding, strides=1)\n",
        "    \n",
        "    bottleneck = Conv2D(filters, kernel_size=(1, 1), padding=padding, strides=strides)(x)\n",
        "    bottleneck = batchnorm_act(bottleneck)\n",
        "    \n",
        "    return Add()([bottleneck, res])\n",
        "\n",
        "def upsamp_concat_block(x, xskip):\n",
        "    u = UpSampling2D((2, 2))(x)\n",
        "    return Concatenate()([u, xskip])\n",
        "\n",
        "def res_unet(sz, f):\n",
        "    inputs = Input(sz)\n",
        "    \n",
        "    ## downsample  \n",
        "    e1 = bottleneck_block(inputs, f); f = int(f*2)\n",
        "    e2 = res_block(e1, f, strides=2); f = int(f*2)\n",
        "    e3 = res_block(e2, f, strides=2); f = int(f*2)\n",
        "    e4 = res_block(e3, f, strides=2); f = int(f*2)\n",
        "    _ = res_block(e4, f, strides=2)\n",
        "    \n",
        "    ## bottleneck\n",
        "    b0 = conv_block(_, f, strides=1)\n",
        "    _ = conv_block(b0, f, strides=1)\n",
        "    \n",
        "    ## upsample\n",
        "    _ = upsamp_concat_block(_, e4)\n",
        "    _ = res_block(_, f); f = int(f/2)\n",
        "    \n",
        "    _ = upsamp_concat_block(_, e3)\n",
        "    _ = res_block(_, f); f = int(f/2)\n",
        "    \n",
        "    _ = upsamp_concat_block(_, e2)\n",
        "    _ = res_block(_, f); f = int(f/2)\n",
        "    \n",
        "    _ = upsamp_concat_block(_, e1)\n",
        "    _ = res_block(_, f)\n",
        "    \n",
        "    ## classify\n",
        "    outputs = Conv2D(1, (1, 1), padding=\"same\", activation=\"sigmoid\")(_)\n",
        "    \n",
        "    #model creation \n",
        "    model = Model(inputs=[inputs], outputs=[outputs])\n",
        "    return model"
      ],
      "execution_count": 10,
      "outputs": []
    },
    {
      "cell_type": "code",
      "metadata": {
        "id": "8JyDfSPi_VU8"
      },
      "source": [
        "smooth = 1.\n",
        "\n",
        "def dice_coef(y_true, y_pred):\n",
        "    y_true_f = tf.reshape(tf.dtypes.cast(y_true, tf.float32), [-1])\n",
        "    y_pred_f = tf.reshape(tf.dtypes.cast(y_pred, tf.float32), [-1])\n",
        "    intersection = tf.reduce_sum(y_true_f * y_pred_f)\n",
        "    return (2. * intersection + smooth) / (tf.reduce_sum(y_true_f) + tf.reduce_sum(y_pred_f) + smooth)\n",
        "\n",
        "def dice_coef_loss(y_true, y_pred):\n",
        "    return 1.0 - dice_coef(y_true, y_pred)"
      ],
      "execution_count": 11,
      "outputs": []
    },
    {
      "cell_type": "code",
      "metadata": {
        "id": "K1YTg6kxyUPR"
      },
      "source": [
        "def crf_labelrefine(input_image, predicted_labels):\n",
        "    \n",
        "    compat_spat=10\n",
        "    compat_col=30\n",
        "    theta_spat = 20\n",
        "    theta_col = 80\n",
        "    num_iter = 7\n",
        "    num_classes = 2\n",
        "    \n",
        "    h, w = input_image.shape[:2] #get image dimensions\n",
        "    \n",
        "    d = densecrf.DenseCRF2D(w, h, 2) #create a CRF object\n",
        "\n",
        "    # For the predictions, densecrf needs 'unary potentials' which are labels (water or no water)\n",
        "    predicted_unary = unary_from_labels(predicted_labels.astype('int')+1, num_classes, gt_prob= 0.51)\n",
        "    \n",
        "    # set the unary potentials to CRF object\n",
        "    d.setUnaryEnergy(predicted_unary)\n",
        "\n",
        "    # to add the color-independent term, where features are the locations only:\n",
        "    d.addPairwiseGaussian(sxy=(theta_spat, theta_spat), compat=compat_spat, kernel=densecrf.DIAG_KERNEL,\n",
        "                          normalization=densecrf.NORMALIZE_SYMMETRIC)\n",
        "\n",
        "    input_image_uint = (input_image * 255).astype(np.uint8) #enfore unsigned 8-bit\n",
        "    # to add the color-dependent term, i.e. 5-dimensional features are (x,y,r,g,b) based on the input image:    \n",
        "    d.addPairwiseBilateral(sxy=(theta_col, theta_col), srgb=(5, 5, 5), rgbim=input_image_uint,\n",
        "                           compat=compat_col, kernel=densecrf.DIAG_KERNEL, \n",
        "                           normalization=densecrf.NORMALIZE_SYMMETRIC)\n",
        "\n",
        "    # Finally, we run inference to obtain the refined predictions:\n",
        "    refined_predictions = np.array(d.inference(num_iter)).reshape(num_classes, h, w)\n",
        "    \n",
        "    # since refined_predictions will be a 2 x width x height array, \n",
        "    # each slice respresenting probability of each class (water and no water)\n",
        "    # therefore we return the argmax over the zeroth dimension to return a mask\n",
        "    return np.argmax(refined_predictions,axis=0)"
      ],
      "execution_count": 12,
      "outputs": []
    },
    {
      "cell_type": "markdown",
      "metadata": {
        "id": "pSRA98Z6yUPR"
      },
      "source": [
        "#### Define Training functions (generators and callbacks)"
      ]
    },
    {
      "cell_type": "code",
      "metadata": {
        "id": "KVuq2A9UyUPS"
      },
      "source": [
        "def image_batch_generator(files, batch_size = 32, sz = (512, 512)):\n",
        "  \n",
        "  while True: # this is here because it will be called repeatedly by the training function\n",
        "    \n",
        "    #extract a random subset of files of length \"batch_size\"\n",
        "    batch = np.random.choice(files, size = batch_size)    \n",
        "    \n",
        "    #variables for collecting batches of inputs (x) and outputs (y)\n",
        "    batch_x = []\n",
        "    batch_y = []\n",
        "    \n",
        "    #cycle through each image in the batch\n",
        "    for f in batch:\n",
        "\n",
        "        #preprocess the raw images \n",
        "        rawfile = f'nwpu_images/data/{f}'\n",
        "        raw = Image.open(rawfile)\n",
        "        raw = raw.resize(sz)\n",
        "        raw = np.array(raw)\n",
        "\n",
        "        #check the number of channels because some of the images are RGBA or GRAY\n",
        "        if len(raw.shape) == 2:\n",
        "            raw = np.stack((raw,)*3, axis=-1)\n",
        "\n",
        "        else:\n",
        "            raw = raw[:,:,0:3]\n",
        "            \n",
        "        #get the image dimensions, find the min dimension, then square the image off    \n",
        "        nx, ny, nz = np.shape(raw)\n",
        "        n = np.minimum(nx,ny)\n",
        "        raw = raw[:n,:n,:] \n",
        "            \n",
        "        batch_x.append(raw)\n",
        "        \n",
        "        #get the masks. \n",
        "        maskfile = rawfile.replace('nwpu_images','nwpu_label_images')+'_mask.jpg'\n",
        "        mask = Image.open(maskfile)\n",
        "        # the mask is 3-dimensional so get the max in each channel to flatten to 2D\n",
        "        mask = np.max(np.array(mask.resize(sz)),axis=2)\n",
        "        # water pixels are always greater than 100\n",
        "        mask = (mask>200).astype('int')\n",
        "        \n",
        "        mask = mask[:n,:n]\n",
        "        \n",
        "        # use CRF to refine mask before it is used as a label\n",
        "        mask = crf_labelrefine(raw, mask).squeeze()\n",
        "\n",
        "        batch_y.append(mask)\n",
        "\n",
        "    #preprocess a batch of images and masks \n",
        "    batch_x = np.array(batch_x)/255. #divide image by 255 to normalize\n",
        "    batch_y = np.array(batch_y)\n",
        "    batch_y = np.expand_dims(batch_y,3) #add singleton dimension to batch_y\n",
        "\n",
        "    yield (batch_x, batch_y) #yield both the image and the label together"
      ],
      "execution_count": 13,
      "outputs": []
    },
    {
      "cell_type": "code",
      "metadata": {
        "id": "iyxXniEmyUPT"
      },
      "source": [
        "# inheritance for training process plot \n",
        "class PlotLearning(tf.keras.callbacks.Callback):\n",
        "\n",
        "    def on_train_begin(self, logs={}):\n",
        "        self.i = 0\n",
        "        self.x = []\n",
        "        self.losses = []\n",
        "        self.val_losses = []\n",
        "        self.acc = []\n",
        "        self.val_acc = []\n",
        "        #self.fig = plt.figure()\n",
        "        self.logs = []\n",
        "    def on_epoch_end(self, epoch, logs={}):\n",
        "        self.logs.append(logs)\n",
        "        self.x.append(self.i)\n",
        "        self.losses.append(logs.get('loss'))\n",
        "        self.val_losses.append(logs.get('val_loss'))\n",
        "        self.acc.append(logs.get('dice_coef'))\n",
        "        self.val_acc.append(logs.get('val_dice_coef'))\n",
        "        self.i += 1\n",
        "        print('i=',self.i,'loss=',logs.get('loss'),'val_loss=',logs.get('val_loss'),'dice_coef=',logs.get('dice_coef'),'val_dice_coef=',logs.get('val_dice_coef'))\n",
        "        \n",
        "        #choose a random test image and preprocess\n",
        "        path = np.random.choice(test_files)\n",
        "        infile = f's2cloudless_imagery/data/{path}'\n",
        "        raw = Image.open(infile)\n",
        "        raw = np.array(raw.resize((512, 512)))/255.\n",
        "        raw = raw[:,:,0:3]\n",
        "        \n",
        "        #predict the mask \n",
        "        pred = 255*model.predict(np.expand_dims(raw, 0)).squeeze()\n",
        "        print(np.max(pred))\n",
        "                \n",
        "        #mask post-processing \n",
        "        msk  = (pred>60).astype('int') #100    \n",
        "        \n",
        "        # use CRF to refine mask before it is used as a label\n",
        "        msk = crf_labelrefine(raw, msk).squeeze()\n",
        "      \n",
        "        msk = np.stack((msk,)*3, axis=-1)\n",
        "          \n",
        "        #show the mask and the segmented image \n",
        "        combined = np.concatenate([raw, msk, raw* msk], axis = 1)\n",
        "        plt.axis('off')\n",
        "        plt.imshow(combined)\n",
        "        plt.show()      "
      ],
      "execution_count": 14,
      "outputs": []
    },
    {
      "cell_type": "code",
      "metadata": {
        "id": "fORoCGc3yUPU"
      },
      "source": [
        "def build_callbacks(filepath, min_delta, min_lr, factor):\n",
        "\n",
        "    earlystop = EarlyStopping(monitor=\"val_loss\", \n",
        "                                  mode=\"min\", patience=5) \n",
        "    \n",
        "    # reduction of learning rate if and when validation scores plateau upon successive epochs\n",
        "    reduceloss_plat = ReduceLROnPlateau(monitor='val_loss', factor=factor, patience=5, \n",
        "                                    verbose=1, mode='auto', min_delta=min_delta, \n",
        "                                    cooldown=5, min_lr=min_lr)\n",
        "\n",
        "    # set checkpoint file \n",
        "    model_checkpoint = ModelCheckpoint(filepath, monitor='val_loss', \n",
        "                                   verbose=0, save_best_only=True, mode='min', \n",
        "                                   save_weights_only = True)\n",
        "        \n",
        "    callbacks = [model_checkpoint, reduceloss_plat, earlystop, PlotLearning()]\n",
        "\n",
        "    return callbacks  "
      ],
      "execution_count": 15,
      "outputs": []
    },
    {
      "cell_type": "markdown",
      "metadata": {
        "id": "FusacgylyUPW"
      },
      "source": [
        "#### Define the loss function and compile the ResidualUNet model"
      ]
    },
    {
      "cell_type": "code",
      "metadata": {
        "id": "kms4M9KbyUPW"
      },
      "source": [
        "smooth = 1.\n",
        "\n",
        "def dice_coef(y_true, y_pred):\n",
        "    y_true_f = tf.reshape(tf.dtypes.cast(y_true, tf.float32), [-1])\n",
        "    y_pred_f = tf.reshape(tf.dtypes.cast(y_pred, tf.float32), [-1])\n",
        "    intersection = tf.reduce_sum(y_true_f * y_pred_f)\n",
        "    return (2. * intersection + smooth) / (tf.reduce_sum(y_true_f) + tf.reduce_sum(y_pred_f) + smooth)\n",
        "\n",
        "def dice_coef_loss(y_true, y_pred):\n",
        "    return 1.0 - dice_coef(y_true, y_pred)"
      ],
      "execution_count": 16,
      "outputs": []
    },
    {
      "cell_type": "code",
      "metadata": {
        "id": "8dywrMFYyUPW"
      },
      "source": [
        "model = res_unet((512, 512, 3), 32)\n",
        "model.compile(optimizer = 'rmsprop', loss = dice_coef_loss, metrics = [dice_coef])"
      ],
      "execution_count": 17,
      "outputs": []
    },
    {
      "cell_type": "markdown",
      "metadata": {
        "id": "lGxP5XV-yUPW"
      },
      "source": [
        "#### Define training hyper-parameters, test/train files and such"
      ]
    },
    {
      "cell_type": "code",
      "metadata": {
        "id": "nNRFILvzyUPX"
      },
      "source": [
        "#split into training and testing\n",
        "train_files = os.listdir('nwpu_images/data')\n",
        "test_files  = os.listdir('s2cloudless_imagery/data')\n",
        "\n",
        "# a tolerance for the training. \n",
        "min_delta = 0.0001\n",
        "\n",
        "# minimum learning rate (lambda)\n",
        "min_lr = 0.0001\n",
        "\n",
        "# the factor applied to the learning rate when the appropriate triggers are made\n",
        "factor = 0.8\n",
        "\n",
        "batch_size = 2\n",
        "\n",
        "filepath = 'res_dice_crf_unet'+str(batch_size)+'.h5'"
      ],
      "execution_count": 18,
      "outputs": []
    },
    {
      "cell_type": "markdown",
      "metadata": {
        "id": "UiI7A_25yUPX"
      },
      "source": [
        "#### Create file generators and run model training"
      ]
    },
    {
      "cell_type": "markdown",
      "metadata": {
        "id": "CNSV038KyUPY"
      },
      "source": [
        "#### Test NWPU model on S2 imagery\n",
        "\n",
        "First, set up a new generator function to generate batches of S2 augmented imagery and associated labels. Then, define a function that will use the model (trained on NWPU imagery) to estimate the binary semantic segmentation mask for 100 images. Finally, we'll look at the mean IOU score, and their distribution"
      ]
    },
    {
      "cell_type": "code",
      "metadata": {
        "id": "1rfhb8w5yUPZ"
      },
      "source": [
        "def image_batch_generatorS2(files, batch_size = 32, sz = (512, 512)):\n",
        "  \n",
        "  while True: # this is here because it will be called repeatedly by the training function\n",
        "    \n",
        "    #extract a random subset of files of length \"batch_size\"\n",
        "    batch = np.random.choice(files, size = batch_size)    \n",
        "    \n",
        "    #variables for collecting batches of inputs (x) and outputs (y)\n",
        "    batch_x = []\n",
        "    batch_y = []\n",
        "    \n",
        "    #cycle through each image in the batch\n",
        "    for f in batch:\n",
        "\n",
        "        #preprocess the raw images \n",
        "        rawfile = f's2cloudless_imagery/data/{f}'\n",
        "        raw = Image.open(rawfile)\n",
        "        raw = raw.resize(sz)\n",
        "        raw = np.array(raw)\n",
        "\n",
        "        #check the number of channels because some of the images are RGBA or GRAY\n",
        "        if len(raw.shape) == 2:\n",
        "            raw = np.stack((raw,)*3, axis=-1)\n",
        "\n",
        "        else:\n",
        "            raw = raw[:,:,0:3]\n",
        "            \n",
        "        #get the image dimensions, find the min dimension, then square the image off    \n",
        "        nx, ny, nz = np.shape(raw)\n",
        "        n = np.minimum(nx,ny)\n",
        "        raw = raw[:n,:n,:] \n",
        "            \n",
        "        batch_x.append(raw)\n",
        "        \n",
        "        #get the masks. \n",
        "        maskfile = rawfile.replace('s2cloudless_imagery','s2cloudless_label_imagery')+'_mask.jpg'\n",
        "        mask = Image.open(maskfile)\n",
        "        # the mask is 3-dimensional so get the max in each channel to flatten to 2D\n",
        "        mask = np.max(np.array(mask.resize(sz)),axis=2)\n",
        "        # water pixels are always greater than 100\n",
        "        mask = (mask>100).astype('int')\n",
        "\n",
        "        # use CRF to refine mask before it is used as a label\n",
        "        mask = crf_labelrefine(raw, mask).squeeze()\n",
        "    \n",
        "        mask = mask[:n,:n]\n",
        "\n",
        "        batch_y.append(mask)\n",
        "\n",
        "    #preprocess a batch of images and masks \n",
        "    batch_x = np.array(batch_x)/255. #divide image by 255 to normalize\n",
        "    batch_y = np.array(batch_y)\n",
        "    batch_y = np.expand_dims(batch_y,3) #add singleton dimension to batch_y\n",
        "\n",
        "    yield (batch_x, batch_y) #yield both the image and the label together"
      ],
      "execution_count": 19,
      "outputs": []
    },
    {
      "cell_type": "code",
      "metadata": {
        "colab": {
          "base_uri": "https://localhost:8080/"
        },
        "id": "pMRVuUgTyUPa",
        "outputId": "184238bf-be08-4c13-c949-5deefd326c74"
      },
      "source": [
        "train_generator = image_batch_generator(train_files, batch_size = batch_size)\n",
        "test_generator  = image_batch_generatorS2(test_files, batch_size = batch_size)\n",
        "train_steps = len(train_files) //batch_size\n",
        "test_steps = len(test_files) //batch_size\n",
        "print(train_steps)\n",
        "print(test_steps)"
      ],
      "execution_count": 20,
      "outputs": [
        {
          "output_type": "stream",
          "text": [
            "285\n",
            "20\n"
          ],
          "name": "stdout"
        }
      ]
    },
    {
      "cell_type": "code",
      "metadata": {
        "id": "dCUPqWuLyUPb"
      },
      "source": [
        "if load_res_dice_mix_history:\n",
        "  file_id = '116D4NpWzp_lXksXBD7kgL3KD_MFDNBLF'\n",
        "  destination = 'opt_model_7_res_dice_mix_hist'\n",
        "  if colab == 1:\n",
        "    download_file_from_google_drive(file_id, destination)\n",
        "  with open(\"opt_model_7_res_dice_mix_hist\", \"rb\") as file_pi:\n",
        "    res_dice_history = pickle.load(file_pi)\n",
        "  file_id = '1lH_fSh3AV-vC3W1kCmLGUeXr51ngxvZ_'\n",
        "  destination = 'opt_model_7_res_dice_mix'\n",
        "  if colab == 1:\n",
        "    download_file_from_google_drive(file_id, destination)\n",
        "  model = tf.keras.models.load_model('opt_model_7_res_dice_mix',\n",
        "                                     custom_objects={'dice_coef_loss': dice_coef_loss,\n",
        "                                                     'dice_coef': dice_coef})\n",
        "elif colab == 1:\n",
        "  res_dice_history = model.fit_generator(train_generator,\n",
        "                                         epochs = 100, \n",
        "                                         steps_per_epoch = train_steps,\n",
        "                                         validation_data = test_generator, \n",
        "                                         validation_steps = test_steps,\n",
        "                                         callbacks = build_callbacks(filepath, \n",
        "                                                                     min_delta, \n",
        "                                                                     min_lr, \n",
        "                                                                     factor), \n",
        "                                         verbose = 0,\n",
        "                                         use_multiprocessing=True)"
      ],
      "execution_count": 21,
      "outputs": []
    },
    {
      "cell_type": "code",
      "metadata": {
        "id": "0DAGzFpsw_dZ"
      },
      "source": [
        "if load_res_dice_mix_history == 0 and colab == 1:\n",
        "  #save model and history to load or graph later\n",
        "  model.save(\"opt_model_7_res_dice_mix\",save_format=\"h5\")\n",
        "  \n",
        "  with open('opt_model_7_res_dice_mix_hist', 'wb') as file_pi:\n",
        "    pickle.dump(res_dice_history.history, file_pi)# save model and history to load or graph later\n",
        "  \n",
        "  #del model"
      ],
      "execution_count": 22,
      "outputs": []
    },
    {
      "cell_type": "code",
      "metadata": {
        "id": "DOiJZMdQyUPb"
      },
      "source": [
        "def mean_iou(y_true, y_pred):\n",
        "    yt0 = y_true.squeeze()\n",
        "    yp0 = tf.keras.backend.cast(y_pred.squeeze() > 0.5, 'float32')\n",
        "    inter = tf.math.count_nonzero(tf.logical_and(tf.equal(yt0, 1), tf.equal(yp0, 1)))\n",
        "    union = tf.math.count_nonzero(tf.add(yt0, yp0))\n",
        "    iou = tf.where(tf.equal(union, 0), 1., tf.cast(inter/union, 'float32'))\n",
        "    return iou\n",
        "\n",
        "# a function for getting a CRF-refined estimated water mask from an input image, \n",
        "# and IOU score evaluated against the real mask\n",
        "def get_pred(x, y):\n",
        "    #predict the mask \n",
        "    pred = model.predict(np.expand_dims(x, 0))\n",
        "    \n",
        "    #mask post-processing \n",
        "    msk  = pred.squeeze()\n",
        "    # binarize\n",
        "    msk[msk >= 0.5] = 1 \n",
        "    msk[msk < 0.5] = 0\n",
        "    \n",
        "    # use CRF to refine mask before it is used as a label\n",
        "    msk = crf_labelrefine(x.squeeze(), msk).squeeze()\n",
        "        \n",
        "    # return the prediction and the IOU score of the prediction\n",
        "    return msk, mean_iou(y, msk)"
      ],
      "execution_count": 23,
      "outputs": []
    },
    {
      "cell_type": "code",
      "metadata": {
        "id": "Rm6CqUxOyUPc"
      },
      "source": [
        "all_files = os.listdir('s2cloudless_imagery/data')\n",
        "shuffle(all_files)"
      ],
      "execution_count": 24,
      "outputs": []
    },
    {
      "cell_type": "markdown",
      "metadata": {
        "id": "8giFxKJNyUPd"
      },
      "source": [
        "Let's see how this will work:"
      ]
    },
    {
      "cell_type": "code",
      "metadata": {
        "colab": {
          "base_uri": "https://localhost:8080/",
          "height": 216
        },
        "id": "4n67q1GtyUPe",
        "outputId": "b6e2cdd5-ff01-4d00-ce8d-c2c5de362aa6"
      },
      "source": [
        "# run the S2 generator function\n",
        "test_generatorS2  = image_batch_generatorS2(all_files, batch_size = batch_size)\n",
        "\n",
        "#get a batch of S2 imagery and labels\n",
        "x, y = next(test_generatorS2) \n",
        "#get the predicted mask and iou score for the first\n",
        "ypred, iou = get_pred(x[0], y[0]) \n",
        "\n",
        "#make a plot side-by-side of label ...\n",
        "plt.subplot(121)\n",
        "plt.imshow(x[0])\n",
        "plt.imshow(y[0].squeeze(), alpha=0.5, cmap='gray')\n",
        "plt.axis('off')\n",
        "\n",
        "# ... and estimated label\n",
        "plt.subplot(122)\n",
        "plt.imshow(x[0])\n",
        "plt.imshow(ypred.squeeze(), alpha=0.5, cmap='gray')\n",
        "plt.title('IoU = '+str(iou.numpy())[:4])\n",
        "plt.axis('off')"
      ],
      "execution_count": 25,
      "outputs": [
        {
          "output_type": "execute_result",
          "data": {
            "text/plain": [
              "(-0.5, 511.5, 511.5, -0.5)"
            ]
          },
          "metadata": {
            "tags": []
          },
          "execution_count": 25
        },
        {
          "output_type": "display_data",
          "data": {
            "image/png": "[encoded data removed]",
            "text/plain": [
              "<Figure size 432x288 with 2 Axes>"
            ]
          },
          "metadata": {
            "tags": [],
            "needs_background": "light"
          }
        }
      ]
    },
    {
      "cell_type": "markdown",
      "metadata": {
        "id": "_cU1-_lwyUPf"
      },
      "source": [
        "For up to 100 images, make a prediction and store the mean iou statistic. Print a validation example every 5th image"
      ]
    },
    {
      "cell_type": "code",
      "metadata": {
        "id": "5IbEhUSnyUPf"
      },
      "source": [
        "%matplotlib inline\n",
        "IOU = [] #initialize list\n",
        "counter = 0 #initialize counter\n",
        "# uncomment to essentially disable\n",
        "counter = 100 \n",
        "while counter < 100: # compare 100 images\n",
        "    x, y = next(test_generatorS2)\n",
        "    ypred, iou = get_pred(x[0], y[0])\n",
        "    IOU.append(iou) #update list\n",
        "\n",
        "    if counter % 5 == 0: #print every 5th comparison\n",
        "        plt.figure(figsize=(4,6))\n",
        "        plt.subplot(121)\n",
        "        plt.imshow(x[0])\n",
        "        plt.imshow(y[0].squeeze(), alpha=0.5, cmap='gray')\n",
        "        plt.axis('off')\n",
        "\n",
        "        plt.subplot(122)\n",
        "        plt.imshow(x[0])\n",
        "        plt.imshow(ypred.squeeze(), alpha=0.5, cmap='gray')\n",
        "        plt.title(str(iou.numpy())[:4])\n",
        "        plt.axis('off')\n",
        "        print(counter)  \n",
        "        \n",
        "    counter += 1 #update counter"
      ],
      "execution_count": 26,
      "outputs": []
    },
    {
      "cell_type": "markdown",
      "metadata": {
        "id": "04qhvHv3yUPj"
      },
      "source": [
        "Print the median IOU score to screen and make a histogram plot of the distribution of IOU scores"
      ]
    },
    {
      "cell_type": "code",
      "metadata": {
        "colab": {
          "base_uri": "https://localhost:8080/"
        },
        "id": "prA8kvFYyUPk",
        "outputId": "89e64b7c-d780-4aa9-bc72-a0b4a088f478"
      },
      "source": [
        "print(np.median(IOU))"
      ],
      "execution_count": 27,
      "outputs": [
        {
          "output_type": "stream",
          "text": [
            "nan\n"
          ],
          "name": "stdout"
        },
        {
          "output_type": "stream",
          "text": [
            "/usr/local/lib/python3.6/dist-packages/numpy/core/fromnumeric.py:3335: RuntimeWarning: Mean of empty slice.\n",
            "  out=out, **kwargs)\n",
            "/usr/local/lib/python3.6/dist-packages/numpy/core/_methods.py:161: RuntimeWarning: invalid value encountered in double_scalars\n",
            "  ret = ret.dtype.type(ret / rcount)\n"
          ],
          "name": "stderr"
        }
      ]
    },
    {
      "cell_type": "markdown",
      "metadata": {
        "id": "D6lNLDcnyUPl"
      },
      "source": [
        "There are 3 peaks in the histogram; the first at IoU ~ 0 where the algorithm didn't detect a lake at all (about 10% of samples), the second around ~0.5 where only one lake out of many were detected, and finally the biggest peak around ~0.95 accoting for about 70% of samples"
      ]
    },
    {
      "cell_type": "code",
      "metadata": {
        "colab": {
          "base_uri": "https://localhost:8080/",
          "height": 366
        },
        "id": "yx64DG3xyUPm",
        "outputId": "8c1bf446-7ef5-488d-ce77-6f28dce29f48"
      },
      "source": [
        "%matplotlib inline\n",
        "fliers = dict(markerfacecolor='g', marker='p')\n",
        "plt.figure(figsize=(8,4))\n",
        "plt.hist(IOU)\n",
        "plt.xlabel('IOU scores')\n",
        "plt.axvline(np.median(IOU), color='r')"
      ],
      "execution_count": 28,
      "outputs": [
        {
          "output_type": "stream",
          "text": [
            "/usr/local/lib/python3.6/dist-packages/numpy/core/fromnumeric.py:3335: RuntimeWarning: Mean of empty slice.\n",
            "  out=out, **kwargs)\n",
            "/usr/local/lib/python3.6/dist-packages/numpy/core/_methods.py:161: RuntimeWarning: invalid value encountered in double_scalars\n",
            "  ret = ret.dtype.type(ret / rcount)\n"
          ],
          "name": "stderr"
        },
        {
          "output_type": "execute_result",
          "data": {
            "text/plain": [
              "<matplotlib.lines.Line2D at 0x7feaf9522b38>"
            ]
          },
          "metadata": {
            "tags": []
          },
          "execution_count": 28
        },
        {
          "output_type": "display_data",
          "data": {
            "image/png": "[encoded data removed]",
            "text/plain": [
              "<Figure size 576x288 with 1 Axes>"
            ]
          },
          "metadata": {
            "tags": [],
            "needs_background": "light"
          }
        }
      ]
    },
    {
      "cell_type": "markdown",
      "metadata": {
        "id": "xwH-vP8FyUPm"
      },
      "source": [
        "#### Combine two models in an ensemble prediction\n",
        "\n",
        "Create two models and use the ```load_weights``` utility to load the weights contained in the h5 files (the product of model training)"
      ]
    },
    {
      "cell_type": "code",
      "metadata": {
        "id": "cNGDe5f264BA"
      },
      "source": [
        "#file_id = '1BEw63yYh1Wt6Dbz85gm-U1wmi2Nyddbo'\n",
        "#destination = 'opt_model_5_res_dice'\n",
        "#if colab==1:\n",
        "#    download_file_from_google_drive(file_id, destination)\n",
        "file_id = '1QgJqz2el-9it4e9rAUUeQgWMpZbcMlKL'\n",
        "destination = 'opt_model_6_res_dice2'\n",
        "if colab==1:\n",
        "    download_file_from_google_drive(file_id, destination)"
      ],
      "execution_count": 29,
      "outputs": []
    },
    {
      "cell_type": "code",
      "metadata": {
        "id": "AlKlKDx-7SW_"
      },
      "source": [
        "if colab==1:\n",
        "  m1 = tf.keras.models.load_model('opt_model_6_res_dice2',\n",
        "                                  custom_objects = {\"dice_coef_loss\":dice_coef_loss,\n",
        "                                                    \"dice_coef\":dice_coef})\n",
        "#m2 = tf.keras.models.load_model('opt_model_7_res_dice_mix',\n",
        "#                               custom_objects = {\"dice_coef_loss\":dice_coef_loss,\n",
        "#                                                \"dice_coef\":dice_coef})\n",
        "#m2 = tf.keras.models.load_model('opt_model_5_res_dice',\n",
        "#                               custom_objects = {\"dice_coef_loss\":dice_coef_loss,\n",
        "#                                                \"dice_coef\":dice_coef})\n"
      ],
      "execution_count": 30,
      "outputs": []
    },
    {
      "cell_type": "code",
      "metadata": {
        "id": "gKV0OTTH8AEr"
      },
      "source": [
        "if colab==1:\n",
        "    #!mkdir weights\n",
        "    m1.save_weights('res_dice_crf_unet1.h5')\n",
        "    model.save_weights('res_dice_crf_unet2.h5')\n",
        "    #m2.save_weights('res_dice_unet2.h5')"
      ],
      "execution_count": 31,
      "outputs": []
    },
    {
      "cell_type": "code",
      "metadata": {
        "id": "45vicqp5yUPm"
      },
      "source": [
        "model1 = res_unet((512, 512, 3), 32)\n",
        "model1.compile(optimizer = 'rmsprop', loss = dice_coef_loss, metrics = [dice_coef])\n",
        "model1.load_weights('res_dice_crf_unet1.h5')\n",
        "\n",
        "model2 = res_unet((512, 512, 3), 32)\n",
        "model2.compile(optimizer = 'rmsprop', loss = dice_coef_loss, metrics = [dice_coef])\n",
        "model2.load_weights('res_dice_crf_unet2.h5')"
      ],
      "execution_count": 32,
      "outputs": []
    },
    {
      "cell_type": "markdown",
      "metadata": {
        "id": "2ZSt5KbdyUPm"
      },
      "source": [
        "Now update the `get_pred` function to use the maximum of the two model outputs on an input image"
      ]
    },
    {
      "cell_type": "code",
      "metadata": {
        "id": "HtaB1UGwyUPn"
      },
      "source": [
        "# a function for getting a CRF-refined estimated water mask from an input image, \n",
        "# and IOU score evaluated against the real mask\n",
        "def get_pred(x, y, model1, model2):\n",
        "    #predict the mask \n",
        "    pred1 = model1.predict(np.expand_dims(x, 0))\n",
        "    pred2 = model2.predict(np.expand_dims(x, 0))\n",
        "    \n",
        "    #mask post-processing \n",
        "    msk  = np.maximum(pred1.squeeze(), pred2.squeeze())\n",
        "    # binarize\n",
        "    msk[msk >= 0.5] = 1 \n",
        "    msk[msk < 0.5] = 0\n",
        "    \n",
        "    # use CRF to refine mask before it is used as a label\n",
        "    msk = crf_labelrefine(x.squeeze(), msk).squeeze()\n",
        "        \n",
        "    # return the prediction and the IOU score of the prediction\n",
        "    return msk, mean_iou(y, msk)"
      ],
      "execution_count": 33,
      "outputs": []
    },
    {
      "cell_type": "markdown",
      "metadata": {
        "id": "lJefRrHpyUPo"
      },
      "source": [
        "Test things, like you did earlier"
      ]
    },
    {
      "cell_type": "code",
      "metadata": {
        "colab": {
          "base_uri": "https://localhost:8080/",
          "height": 216
        },
        "id": "Ar8BepjJyUPo",
        "outputId": "44e7418f-3554-4abe-cd27-6ad056cf394b"
      },
      "source": [
        "# run the S2 generator function\n",
        "test_generatorS2  = image_batch_generatorS2(all_files, batch_size = batch_size)\n",
        "\n",
        "#get a batch of S2 imagery and labels\n",
        "x, y = next(test_generatorS2) \n",
        "#get the predicted mask and iou score for the first\n",
        "ypred, iou = get_pred(x[0], y[0], model1, model2) \n",
        "\n",
        "#make a plot side-by-side of label ...\n",
        "plt.subplot(121)\n",
        "plt.imshow(x[0])\n",
        "plt.imshow(y[0].squeeze(), alpha=0.5, cmap='gray')\n",
        "plt.axis('off')\n",
        "\n",
        "# ... and estimated label\n",
        "plt.subplot(122)\n",
        "plt.imshow(x[0])\n",
        "plt.imshow(ypred.squeeze(), alpha=0.5, cmap='gray')\n",
        "plt.title('IoU = '+str(iou.numpy())[:4])\n",
        "plt.axis('off')"
      ],
      "execution_count": 34,
      "outputs": [
        {
          "output_type": "execute_result",
          "data": {
            "text/plain": [
              "(-0.5, 511.5, 511.5, -0.5)"
            ]
          },
          "metadata": {
            "tags": []
          },
          "execution_count": 34
        },
        {
          "output_type": "display_data",
          "data": {
            "image/png": "[encoded data removed]",
            "text/plain": [
              "<Figure size 432x288 with 2 Axes>"
            ]
          },
          "metadata": {
            "tags": [],
            "needs_background": "light"
          }
        }
      ]
    },
    {
      "cell_type": "markdown",
      "metadata": {
        "id": "NsfaTwAtyUPo"
      },
      "source": [
        "Just like before, for up to 100 images, make a prediction using both models, and store the mean iou statistic. Print a validation example every 5th image"
      ]
    },
    {
      "cell_type": "code",
      "metadata": {
        "id": "3iRPzeD2yUPp"
      },
      "source": [
        "%matplotlib inline\n",
        "IOU = [] #initialize list\n",
        "counter = 0 #initialize counter\n",
        "# uncomment to essentially disable\n",
        "counter = 100 \n",
        "\n",
        "while counter < 100: # compare 100 images\n",
        "    x, y = next(test_generatorS2)\n",
        "    ypred, iou = get_pred(x[0], y[0], model1, model2)\n",
        "    IOU.append(iou) #update list\n",
        "\n",
        "    if counter % 5 == 0: #print every 5th comparison\n",
        "        plt.figure(figsize=(4,6))\n",
        "        plt.subplot(121)\n",
        "        plt.imshow(x[0])\n",
        "        plt.imshow(y[0].squeeze(), alpha=0.5, cmap='gray')\n",
        "        plt.axis('off')\n",
        "\n",
        "        plt.subplot(122)\n",
        "        plt.imshow(x[0])\n",
        "        plt.imshow(ypred.squeeze(), alpha=0.5, cmap='gray')\n",
        "        plt.title(str(iou.numpy())[:4])\n",
        "        plt.axis('off')\n",
        "        print(counter)  \n",
        "        \n",
        "    counter += 1 #update counter"
      ],
      "execution_count": 35,
      "outputs": []
    },
    {
      "cell_type": "markdown",
      "metadata": {
        "id": "iaEZ_WKkyUPq"
      },
      "source": [
        "compute the median, and show the histograms of IOUs. As you can see, ensemble predictions are a very simple way to improve predictions"
      ]
    },
    {
      "cell_type": "code",
      "metadata": {
        "colab": {
          "base_uri": "https://localhost:8080/"
        },
        "id": "SUW6RryeyUPq",
        "outputId": "eeee472d-2c35-4e6a-e94b-686519d5afc5"
      },
      "source": [
        "print(np.median(IOU))    "
      ],
      "execution_count": 36,
      "outputs": [
        {
          "output_type": "stream",
          "text": [
            "nan\n"
          ],
          "name": "stdout"
        },
        {
          "output_type": "stream",
          "text": [
            "/usr/local/lib/python3.6/dist-packages/numpy/core/fromnumeric.py:3335: RuntimeWarning: Mean of empty slice.\n",
            "  out=out, **kwargs)\n",
            "/usr/local/lib/python3.6/dist-packages/numpy/core/_methods.py:161: RuntimeWarning: invalid value encountered in double_scalars\n",
            "  ret = ret.dtype.type(ret / rcount)\n"
          ],
          "name": "stderr"
        }
      ]
    },
    {
      "cell_type": "code",
      "metadata": {
        "colab": {
          "base_uri": "https://localhost:8080/",
          "height": 366
        },
        "id": "GvQeU6S-yUPr",
        "outputId": "a0161054-4f49-4a86-d14b-22cb2edbf290"
      },
      "source": [
        "%matplotlib inline\n",
        "fliers = dict(markerfacecolor='g', marker='p')\n",
        "plt.figure(figsize=(8,4))\n",
        "plt.hist(IOU)\n",
        "plt.xlabel('IOU scores')\n",
        "plt.axvline(np.median(IOU), color='r')"
      ],
      "execution_count": 37,
      "outputs": [
        {
          "output_type": "stream",
          "text": [
            "/usr/local/lib/python3.6/dist-packages/numpy/core/fromnumeric.py:3335: RuntimeWarning: Mean of empty slice.\n",
            "  out=out, **kwargs)\n",
            "/usr/local/lib/python3.6/dist-packages/numpy/core/_methods.py:161: RuntimeWarning: invalid value encountered in double_scalars\n",
            "  ret = ret.dtype.type(ret / rcount)\n"
          ],
          "name": "stderr"
        },
        {
          "output_type": "execute_result",
          "data": {
            "text/plain": [
              "<matplotlib.lines.Line2D at 0x7fe93d96c320>"
            ]
          },
          "metadata": {
            "tags": []
          },
          "execution_count": 37
        },
        {
          "output_type": "display_data",
          "data": {
            "image/png": "[encoded data removed]",
            "text/plain": [
              "<Figure size 576x288 with 1 Axes>"
            ]
          },
          "metadata": {
            "tags": [],
            "needs_background": "light"
          }
        }
      ]
    },
    {
      "cell_type": "markdown",
      "metadata": {
        "id": "-WDEuK-SW0Bz"
      },
      "source": [
        "Create a new generator to generate 2016 and 2017/2018 images\n"
      ]
    },
    {
      "cell_type": "code",
      "metadata": {
        "id": "IamwFHG9yUPr"
      },
      "source": [
        "def loadmask(f):\n",
        "  rawfile = rawfile = f's2cloudless_imagery/data/{f}'\n",
        "  maskfile = maskfile = rawfile.replace('s2cloudless_imagery',\n",
        "                                        's2cloudless_label_imagery')+'_mask.jpg'\n",
        "  mask = Image.open(maskfile)\n",
        "  mask = np.max(np.array(mask.resize(sz)),axis=2)\n",
        "  mask = (mask>100).astype('int')\n",
        "  return (mask,sum(sum(mask)))\n",
        "\n",
        "def calc_change(f1,f2):\n",
        "  md1 = loadmask(f1)\n",
        "  md2 = loadmask(f2)\n",
        "  chg = md2[1] - md1[1]\n",
        "  rt = chg/md1[1]\n",
        "  return (chg,rt,md1,md2)\n",
        "  \n",
        "basenames = ['aral_sea','balaton','burdur','copais','elephant_butte',\n",
        "             'faguibine','koroneia','mead_mojave','mendocino','mono','poopo',\n",
        "             'qinghai','ramganga','salda','salton_sea','urmia','walker']\n",
        "\n",
        "def get_diffs(basenames):\n",
        "  for bn in basenames:\n",
        "    bn16 = f\"{bn}_s2cloudless-2016.jpg\"\n",
        "    bn18 = f\"{bn}_s2cloudless-2018.jpg\"\n",
        "    chg = calc_change(bn16,bn18)\n",
        "    print(f\"{bn} change: {chg[1]*100.0:.2f}% ({chg[0]} pixels)\")\n",
        "\n",
        "def preprocess_img_and_label(img,sz=(512, 512)):\n",
        "  raw = Image.open(f's2cloudless_imagery/data/{img}')\n",
        "  raw = raw.resize(sz)\n",
        "  raw = np.array(raw)\n",
        "\n",
        "  #check the number of channels because some of the images are RGBA or GRAY\n",
        "  if len(raw.shape) == 2:\n",
        "    raw = np.stack((raw,)*3, axis=-1)\n",
        "  else:\n",
        "    raw = raw[:,:,0:3]\n",
        "            \n",
        "  #get the image dimensions, find the min dimension, then square the image off    \n",
        "  nx, ny, nz = np.shape(raw)\n",
        "  n = np.minimum(nx,ny)\n",
        "  raw = raw[:n,:n,:]\n",
        "  \n",
        "  maskfile = rawfile.replace('s2cloudless_imagery',\n",
        "                             's2cloudless_label_imagery')+'_mask.jpg'\n",
        "  mask = Image.open(maskfile)\n",
        "  # the mask is 3-dimensional so get the max in each channel to flatten to 2D\n",
        "  mask = np.max(np.array(mask.resize(sz)),axis=2)\n",
        "  # water pixels are always greater than 100\n",
        "  mask = (mask>100).astype('int')\n",
        "\n",
        "  # use CRF to refine mask before it is used as a label\n",
        "  mask = crf_labelrefine(raw, mask).squeeze()\n",
        "    \n",
        "  mask = mask[:n,:n]\n",
        "\n",
        "  return (raw,mask)"
      ],
      "execution_count": 37,
      "outputs": []
    },
    {
      "cell_type": "code",
      "metadata": {
        "id": "c9Yhr-Yul0mX"
      },
      "source": [
        "for bn in basenames:\n",
        "  img2016 = preprocess_img(f\"{bn}_s2cloudless-2016.jpg\", sz)\n",
        "  img2018 = preprocess_img(f\"{bn}_s2cloudless-2018.jpg\", sz)\n",
        "\n",
        "  f's2cloudless_imagery/data/{f}'  \n",
        "    #variables for collecting batches of inputs (x) and outputs (y)\n",
        "    batch_x = []\n",
        "    batch_y = []\n",
        "    \n",
        "    #cycle through each image in the batch\n",
        "    for f in batch:\n",
        "\n",
        "        #preprocess the raw images \n",
        "        rawfile = f's2cloudless_imagery/data/{f}'\n",
        "        raw = Image.open(rawfile)\n",
        "        raw = raw.resize(sz)\n",
        "        raw = np.array(raw)\n",
        "\n",
        "        #check the number of channels because some of the images are RGBA or GRAY\n",
        "        if len(raw.shape) == 2:\n",
        "            raw = np.stack((raw,)*3, axis=-1)\n",
        "\n",
        "        else:\n",
        "            raw = raw[:,:,0:3]\n",
        "            \n",
        "        #get the image dimensions, find the min dimension, then square the image off    \n",
        "        nx, ny, nz = np.shape(raw)\n",
        "        n = np.minimum(nx,ny)\n",
        "        raw = raw[:n,:n,:] \n",
        "            \n",
        "        batch_x.append(raw)\n",
        "        \n",
        "        #get the masks. \n",
        "        maskfile = rawfile.replace('s2cloudless_imagery','s2cloudless_label_imagery')+'_mask.jpg'\n",
        "        mask = Image.open(maskfile)\n",
        "        # the mask is 3-dimensional so get the max in each channel to flatten to 2D\n",
        "        mask = np.max(np.array(mask.resize(sz)),axis=2)\n",
        "        # water pixels are always greater than 100\n",
        "        mask = (mask>100).astype('int')\n",
        "\n",
        "        # use CRF to refine mask before it is used as a label\n",
        "        mask = crf_labelrefine(raw, mask).squeeze()\n",
        "    \n",
        "        mask = mask[:n,:n]\n",
        "\n",
        "        batch_y.append(mask)\n",
        "\n",
        "    #preprocess a batch of images and masks \n",
        "    batch_x = np.array(batch_x)/255. #divide image by 255 to normalize\n",
        "    batch_y = np.array(batch_y)\n",
        "    batch_y = np.expand_dims(batch_y,3) #add singleton dimension to batch_y\n",
        "\n",
        "    yield (batch_x, batch_y) #yield both the image and the label together"
      ],
      "execution_count": null,
      "outputs": []
    }
  ]
}