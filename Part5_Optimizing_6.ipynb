{
  "nbformat": 4,
  "nbformat_minor": 0,
  "metadata": {
    "colab": {
      "name": "Part5_Optimizing.ipynb",
      "provenance": [],
      "collapsed_sections": [],
      "include_colab_link": true
    },
    "kernelspec": {
      "display_name": "Python 3",
      "language": "python",
      "name": "python3"
    },
    "language_info": {
      "codemirror_mode": {
        "name": "ipython",
        "version": 3
      },
      "file_extension": ".py",
      "mimetype": "text/x-python",
      "name": "python",
      "nbconvert_exporter": "python",
      "pygments_lexer": "ipython3",
      "version": "3.7.0"
    }
  },
  "cells": [
    {
      "cell_type": "markdown",
      "metadata": {
        "id": "view-in-github",
        "colab_type": "text"
      },
      "source": [
        "<a href=\"https://colab.research.google.com/github/hmobley/liveproject_water/blob/master/Part5_Optimizing_6.ipynb\" target=\"_parent\"><img src=\"https://colab.research.google.com/assets/colab-badge.svg\" alt=\"Open In Colab\"/></a>"
      ]
    },
    {
      "cell_type": "markdown",
      "metadata": {
        "id": "SGhkrMQX9KPn"
      },
      "source": [
        "<table style=\"font-size: 1em; padding: 0; margin: 0;\">\n",
        "\n",
        "<tr style=\"vertical-align: top; padding: 0; margin: 0;background-color: #ffffff\">\n",
        "        <td style=\"vertical-align: top; padding: 0; margin: 0; padding-right: 15px;\">\n",
        "    <p style=\"background: #182AEB; color:#ffffff; text-align:justify; padding: 10px 25px;\">\n",
        "        <strong style=\"font-size: 1.0em;\"><span style=\"font-size: 1.2em;\"><span style=\"color: #ffffff;\">Deep Learning </span> for Satellite Image Classification (Manning Publications)</span><br/>by <em>Daniel Buscombe</em></strong><br/><br/>\n",
        "        <strong>> Chapter 5: Model Optimization </strong><br/>\n",
        "    </p>           \n",
        "        \n",
        "<p style=\"border: 1px solid #182AEB; border-left: 15px solid #182AEB; padding: 10px; text-align:justify;\">\n",
        "    <strong style=\"color: #182AEB\">What you learned in Part 4.</strong>  \n",
        "    <br/>In Part 4, you trained U-Net models to segment water pixels in imagery\n",
        "    </p>\n",
        "    \n",
        "<p style=\"border: 1px solid #ff5733; border-left: 15px solid #ff5733; padding: 10px; text-align:justify;\">\n",
        "    <strong style=\"color: #ff5733\">What you will learn in this Part.</strong>  \n",
        "    <br/>In Part 5, you will optimize the models you made in Part 4. You will first learn how to tune hyper-parameters, add regularization and modify model architectures in several ways, and deal with class imbalance. Then, you will learn how to use a machine learning model known as a ‘fully-connected conditional random field” to refine label images, so labels are as accurate as possible.\n",
        "    </p>    "
      ]
    },
    {
      "cell_type": "markdown",
      "metadata": {
        "id": "ROJhVuY4_VOB"
      },
      "source": [
        "#### Preliminaries for Colab\n",
        "\n",
        "Like Part 3 and 4 previously, below are some convenience functions for those working on Google Colab with a GPU runtime"
      ]
    },
    {
      "cell_type": "code",
      "metadata": {
        "id": "_HuoHrJbRUad"
      },
      "source": [
        "# must be a pre-written method for this!\n",
        "def clear_drive():\n",
        "  !rm -r nwpu_images\n",
        "  !rm -r nwpu_label_images\n",
        "  !rm -r s2cloudless_imagery\n",
        "  !rm -r s2cloudless_label_imagery\n",
        "  !rm nwpu_images.zip\n",
        "  !rm nwpu_label_images.zip\n",
        "  !rm opt_model_1_early\n",
        "  !rm opt_model_1_early_hist\n",
        "  !rm opt_model_2_big\n",
        "  !rm opt_model_2_big_hist\n",
        "  !rm opt_model_3_bn\n",
        "  !rm opt_model_3_bn_hist\n",
        "  !rm opt_model_4_res\n",
        "  !rm opt_model_4_res_hist\n",
        "  !rm opt_model_5_res_dice\n",
        "  !rm opt_model_5_res_dice_hist\n",
        "  !rm opt_model_6_res_dice2\n",
        "  !rm opt_model_6_res_dice2_hist\n",
        "  !rm s2cloudless_imagery.zip\n",
        "  !rm s2cloudless_label_imagery.zip\n",
        "  !rm res_unet8.h5\n",
        "  !rm res_dice_unet2.h5\n",
        "  !rm -r weights"
      ],
      "execution_count": 1,
      "outputs": []
    },
    {
      "cell_type": "code",
      "metadata": {
        "colab": {
          "base_uri": "https://localhost:8080/"
        },
        "id": "6cCa4xxdRVyL",
        "outputId": "f24531e5-a045-409f-fc6b-4e6992f7a3fd"
      },
      "source": [
        "clear_drive()"
      ],
      "execution_count": 2,
      "outputs": [
        {
          "output_type": "stream",
          "text": [
            "rm: cannot remove 'opt_model_1_early': No such file or directory\n",
            "rm: cannot remove 'opt_model_1_early_hist': No such file or directory\n",
            "rm: cannot remove 'opt_model_2_big': No such file or directory\n",
            "rm: cannot remove 'opt_model_2_big_hist': No such file or directory\n",
            "rm: cannot remove 'opt_model_3_bn': No such file or directory\n",
            "rm: cannot remove 'opt_model_3_bn_hist': No such file or directory\n",
            "rm: cannot remove 'opt_model_4_res': No such file or directory\n",
            "rm: cannot remove 'opt_model_4_res_hist': No such file or directory\n",
            "rm: cannot remove 'opt_model_5_res_dice_hist': No such file or directory\n",
            "rm: cannot remove 'opt_model_6_res_dice2_hist': No such file or directory\n",
            "rm: cannot remove 'res_unet8.h5': No such file or directory\n",
            "rm: cannot remove 'res_dice_unet2.h5': No such file or directory\n"
          ],
          "name": "stdout"
        }
      ]
    },
    {
      "cell_type": "code",
      "metadata": {
        "id": "SAdEegfAQ8FI"
      },
      "source": [
        "#colab = 0\n",
        "colab = 1"
      ],
      "execution_count": 3,
      "outputs": []
    },
    {
      "cell_type": "code",
      "metadata": {
        "colab": {
          "base_uri": "https://localhost:8080/"
        },
        "id": "I-lc86ey-HOb",
        "outputId": "e22aef40-27db-4d9b-d1fe-906a89a93b3f"
      },
      "source": [
        "if colab==1:\n",
        "    %tensorflow_version 2.x\n",
        "    !pip install --default-timeout=1000 tensorflow-gpu==2.0   "
      ],
      "execution_count": 4,
      "outputs": [
        {
          "output_type": "stream",
          "text": [
            "Requirement already satisfied: tensorflow-gpu==2.0 in /usr/local/lib/python3.6/dist-packages (2.0.0)\n",
            "Requirement already satisfied: gast==0.2.2 in /usr/local/lib/python3.6/dist-packages (from tensorflow-gpu==2.0) (0.2.2)\n",
            "Requirement already satisfied: numpy<2.0,>=1.16.0 in /usr/local/lib/python3.6/dist-packages (from tensorflow-gpu==2.0) (1.18.5)\n",
            "Requirement already satisfied: tensorflow-estimator<2.1.0,>=2.0.0 in /usr/local/lib/python3.6/dist-packages (from tensorflow-gpu==2.0) (2.0.1)\n",
            "Requirement already satisfied: termcolor>=1.1.0 in /usr/local/lib/python3.6/dist-packages (from tensorflow-gpu==2.0) (1.1.0)\n",
            "Requirement already satisfied: grpcio>=1.8.6 in /usr/local/lib/python3.6/dist-packages (from tensorflow-gpu==2.0) (1.34.0)\n",
            "Requirement already satisfied: tensorboard<2.1.0,>=2.0.0 in /usr/local/lib/python3.6/dist-packages (from tensorflow-gpu==2.0) (2.0.2)\n",
            "Requirement already satisfied: keras-applications>=1.0.8 in /usr/local/lib/python3.6/dist-packages (from tensorflow-gpu==2.0) (1.0.8)\n",
            "Requirement already satisfied: google-pasta>=0.1.6 in /usr/local/lib/python3.6/dist-packages (from tensorflow-gpu==2.0) (0.2.0)\n",
            "Requirement already satisfied: keras-preprocessing>=1.0.5 in /usr/local/lib/python3.6/dist-packages (from tensorflow-gpu==2.0) (1.1.2)\n",
            "Requirement already satisfied: wrapt>=1.11.1 in /usr/local/lib/python3.6/dist-packages (from tensorflow-gpu==2.0) (1.12.1)\n",
            "Requirement already satisfied: six>=1.10.0 in /usr/local/lib/python3.6/dist-packages (from tensorflow-gpu==2.0) (1.15.0)\n",
            "Requirement already satisfied: wheel>=0.26 in /usr/local/lib/python3.6/dist-packages (from tensorflow-gpu==2.0) (0.36.1)\n",
            "Requirement already satisfied: astor>=0.6.0 in /usr/local/lib/python3.6/dist-packages (from tensorflow-gpu==2.0) (0.8.1)\n",
            "Requirement already satisfied: protobuf>=3.6.1 in /usr/local/lib/python3.6/dist-packages (from tensorflow-gpu==2.0) (3.12.4)\n",
            "Requirement already satisfied: opt-einsum>=2.3.2 in /usr/local/lib/python3.6/dist-packages (from tensorflow-gpu==2.0) (3.3.0)\n",
            "Requirement already satisfied: absl-py>=0.7.0 in /usr/local/lib/python3.6/dist-packages (from tensorflow-gpu==2.0) (0.10.0)\n",
            "Requirement already satisfied: setuptools>=41.0.0 in /usr/local/lib/python3.6/dist-packages (from tensorboard<2.1.0,>=2.0.0->tensorflow-gpu==2.0) (50.3.2)\n",
            "Requirement already satisfied: requests<3,>=2.21.0 in /usr/local/lib/python3.6/dist-packages (from tensorboard<2.1.0,>=2.0.0->tensorflow-gpu==2.0) (2.23.0)\n",
            "Requirement already satisfied: werkzeug>=0.11.15 in /usr/local/lib/python3.6/dist-packages (from tensorboard<2.1.0,>=2.0.0->tensorflow-gpu==2.0) (1.0.1)\n",
            "Requirement already satisfied: markdown>=2.6.8 in /usr/local/lib/python3.6/dist-packages (from tensorboard<2.1.0,>=2.0.0->tensorflow-gpu==2.0) (3.3.3)\n",
            "Requirement already satisfied: google-auth<2,>=1.6.3 in /usr/local/lib/python3.6/dist-packages (from tensorboard<2.1.0,>=2.0.0->tensorflow-gpu==2.0) (1.17.2)\n",
            "Requirement already satisfied: google-auth-oauthlib<0.5,>=0.4.1 in /usr/local/lib/python3.6/dist-packages (from tensorboard<2.1.0,>=2.0.0->tensorflow-gpu==2.0) (0.4.2)\n",
            "Requirement already satisfied: h5py in /usr/local/lib/python3.6/dist-packages (from keras-applications>=1.0.8->tensorflow-gpu==2.0) (2.10.0)\n",
            "Requirement already satisfied: certifi>=2017.4.17 in /usr/local/lib/python3.6/dist-packages (from requests<3,>=2.21.0->tensorboard<2.1.0,>=2.0.0->tensorflow-gpu==2.0) (2020.12.5)\n",
            "Requirement already satisfied: urllib3!=1.25.0,!=1.25.1,<1.26,>=1.21.1 in /usr/local/lib/python3.6/dist-packages (from requests<3,>=2.21.0->tensorboard<2.1.0,>=2.0.0->tensorflow-gpu==2.0) (1.24.3)\n",
            "Requirement already satisfied: chardet<4,>=3.0.2 in /usr/local/lib/python3.6/dist-packages (from requests<3,>=2.21.0->tensorboard<2.1.0,>=2.0.0->tensorflow-gpu==2.0) (3.0.4)\n",
            "Requirement already satisfied: idna<3,>=2.5 in /usr/local/lib/python3.6/dist-packages (from requests<3,>=2.21.0->tensorboard<2.1.0,>=2.0.0->tensorflow-gpu==2.0) (2.10)\n",
            "Requirement already satisfied: importlib-metadata; python_version < \"3.8\" in /usr/local/lib/python3.6/dist-packages (from markdown>=2.6.8->tensorboard<2.1.0,>=2.0.0->tensorflow-gpu==2.0) (3.1.1)\n",
            "Requirement already satisfied: rsa<5,>=3.1.4; python_version >= \"3\" in /usr/local/lib/python3.6/dist-packages (from google-auth<2,>=1.6.3->tensorboard<2.1.0,>=2.0.0->tensorflow-gpu==2.0) (4.6)\n",
            "Requirement already satisfied: pyasn1-modules>=0.2.1 in /usr/local/lib/python3.6/dist-packages (from google-auth<2,>=1.6.3->tensorboard<2.1.0,>=2.0.0->tensorflow-gpu==2.0) (0.2.8)\n",
            "Requirement already satisfied: cachetools<5.0,>=2.0.0 in /usr/local/lib/python3.6/dist-packages (from google-auth<2,>=1.6.3->tensorboard<2.1.0,>=2.0.0->tensorflow-gpu==2.0) (4.1.1)\n",
            "Requirement already satisfied: requests-oauthlib>=0.7.0 in /usr/local/lib/python3.6/dist-packages (from google-auth-oauthlib<0.5,>=0.4.1->tensorboard<2.1.0,>=2.0.0->tensorflow-gpu==2.0) (1.3.0)\n",
            "Requirement already satisfied: zipp>=0.5 in /usr/local/lib/python3.6/dist-packages (from importlib-metadata; python_version < \"3.8\"->markdown>=2.6.8->tensorboard<2.1.0,>=2.0.0->tensorflow-gpu==2.0) (3.4.0)\n",
            "Requirement already satisfied: pyasn1>=0.1.3 in /usr/local/lib/python3.6/dist-packages (from rsa<5,>=3.1.4; python_version >= \"3\"->google-auth<2,>=1.6.3->tensorboard<2.1.0,>=2.0.0->tensorflow-gpu==2.0) (0.4.8)\n",
            "Requirement already satisfied: oauthlib>=3.0.0 in /usr/local/lib/python3.6/dist-packages (from requests-oauthlib>=0.7.0->google-auth-oauthlib<0.5,>=0.4.1->tensorboard<2.1.0,>=2.0.0->tensorflow-gpu==2.0) (3.1.0)\n"
          ],
          "name": "stdout"
        }
      ]
    },
    {
      "cell_type": "markdown",
      "metadata": {
        "id": "F8ruWT7u_ZLB"
      },
      "source": [
        "You may have to restart the runtime and/or change runtime type here, if the following doesn't show Tensorflow version 2, and a GPU available"
      ]
    },
    {
      "cell_type": "code",
      "metadata": {
        "colab": {
          "base_uri": "https://localhost:8080/"
        },
        "id": "v7gY9Wi2_aHF",
        "outputId": "f77e8946-409b-4d78-da77-bd3578e8a80d"
      },
      "source": [
        "import tensorflow as tf\n",
        "print(tf.__version__)\n",
        "print(tf.test.is_gpu_available())"
      ],
      "execution_count": 5,
      "outputs": [
        {
          "output_type": "stream",
          "text": [
            "2.0.0\n",
            "False\n"
          ],
          "name": "stdout"
        }
      ]
    },
    {
      "cell_type": "markdown",
      "metadata": {
        "id": "Z7i8OMteVsrG"
      },
      "source": [
        "Convenience functions if you need to download example (minimal) imagery sets derived from NWPU and Sentinel-2 cloudless:"
      ]
    },
    {
      "cell_type": "code",
      "metadata": {
        "id": "Pt7x8mRRVs7m"
      },
      "source": [
        "# from https://stackoverflow.com/questions/38511444/python-download-files-from-google-drive-using-url\n",
        "import requests\n",
        "\n",
        "def download_file_from_google_drive(id, destination):\n",
        "    URL = \"https://docs.google.com/uc?export=download\"\n",
        "\n",
        "    session = requests.Session()\n",
        "\n",
        "    response = session.get(URL, params = { 'id' : id }, stream = True)\n",
        "    token = get_confirm_token(response)\n",
        "\n",
        "    if token:\n",
        "        params = { 'id' : id, 'confirm' : token }\n",
        "        response = session.get(URL, params = params, stream = True)\n",
        "\n",
        "    save_response_content(response, destination)    \n",
        "\n",
        "def get_confirm_token(response):\n",
        "    for key, value in response.cookies.items():\n",
        "        if key.startswith('download_warning'):\n",
        "            return value\n",
        "\n",
        "    return None\n",
        "\n",
        "def save_response_content(response, destination):\n",
        "    CHUNK_SIZE = 32768\n",
        "\n",
        "    with open(destination, \"wb\") as f:\n",
        "        for chunk in response.iter_content(CHUNK_SIZE):\n",
        "            if chunk: # filter out keep-alive new chunks\n",
        "                f.write(chunk)\n",
        "\n",
        "\n",
        "#s2 cloudless imagery\n",
        "file_id = '1iMfIjr_ul49Ghs2ewazjCt8HMPfhY47h'\n",
        "destination = 's2cloudless_imagery.zip'\n",
        "if colab==1:\n",
        "    download_file_from_google_drive(file_id, destination)\n",
        "\n",
        "#s2 cloudless labels\n",
        "file_id = '1c7MpwKVejoUuW9F2UaF_vps8Vq2RZRfR'\n",
        "destination = 's2cloudless_label_imagery.zip'\n",
        "if colab==1:\n",
        "    download_file_from_google_drive(file_id, destination)\n",
        "\n",
        "#nwpu imagery\n",
        "file_id = '1gtuqy1VlU8-M5IEMnmiSuTlI5PxQPnGB'\n",
        "destination = 'nwpu_images.zip'\n",
        "if colab==1:\n",
        "    download_file_from_google_drive(file_id, destination)\n",
        "\n",
        "#nwpu labels\n",
        "file_id = '1W5LGbcYAcFbG5YjLgX_ekBn0u5Rno35x'\n",
        "destination = 'nwpu_label_images.zip'\n",
        "if colab==1:\n",
        "    download_file_from_google_drive(file_id, destination)                        "
      ],
      "execution_count": 6,
      "outputs": []
    },
    {
      "cell_type": "code",
      "metadata": {
        "id": "Sommbr0GVy_F"
      },
      "source": [
        "import zipfile\n",
        "def unzip(f):\n",
        "    \"\"\"\n",
        "    f = file to be unzipped\n",
        "    \"\"\"    \n",
        "    with zipfile.ZipFile(f, 'r') as zip_ref:\n",
        "        zip_ref.extractall()\n",
        "        \n",
        "if colab==1:\n",
        "    unzip('s2cloudless_imagery.zip')\n",
        "    unzip('s2cloudless_label_imagery.zip')   \n",
        "    unzip('nwpu_images.zip')\n",
        "    unzip('nwpu_label_images.zip')       "
      ],
      "execution_count": 7,
      "outputs": []
    },
    {
      "cell_type": "markdown",
      "metadata": {
        "id": "oa9K6-E2T4fR"
      },
      "source": [
        "Import the libraries we will need:"
      ]
    },
    {
      "cell_type": "code",
      "metadata": {
        "id": "cvYaMkSR-JKj"
      },
      "source": [
        "%matplotlib inline\n",
        "import tensorflow as tf\n",
        "from tensorflow.keras.layers import Input, Conv2D, MaxPooling2D, UpSampling2D\n",
        "from tensorflow.keras.layers import Concatenate, Conv2DTranspose\n",
        "from tensorflow.keras.models import Model\n",
        "import numpy as np\n",
        "import json, os\n",
        "from random import shuffle\n",
        "from PIL import Image\n",
        "import matplotlib\n",
        "import matplotlib.pyplot as plt"
      ],
      "execution_count": 8,
      "outputs": []
    },
    {
      "cell_type": "markdown",
      "metadata": {
        "id": "KYgpaO2O9KPr"
      },
      "source": [
        "<table style=\"font-size: 1em; padding: 0; margin: 0;\">\n",
        "\n",
        "<h1 style=\"width: 100%; text-align: left; padding: 0px 25px;\"><small style=\"color: #182AEB;\">\n",
        "    </small><br/>Training tuning strategies</h1>\n",
        "<br/>\n",
        "<p style=\"border-left: 15px solid #182AEB; text-align:justify; padding: 0 10px;\">\n",
        "We will set up a baseline model with no optimization using the NWPU imagery, then explore the following training optimization strategies:\n",
        "<ul>\n",
        "  <li>Building a bigger model with more layers</li>    \n",
        "  <li>Using Early Stopping and Adaptive Learning Rates</li> \n",
        "  <li>Using a bigger model (and dropout)</li> \n",
        "  <li>Using regularization (Batch Normalization)</li> \n",
        "  <li>Using residual connections</li> \n",
        "</ul>\n",
        "</p>\n",
        "        </tr>\n",
        "        </table>"
      ]
    },
    {
      "cell_type": "markdown",
      "metadata": {
        "id": "PsLTcU6OJMAh"
      },
      "source": [
        "#### Getting things set up with a baseline model\n",
        "Zip through all these functions that we defined in the last Part. \n",
        "\n",
        "Like in the last Part, we will define the ```unet``` model, create model training callbacks, and generate augmented imagery"
      ]
    },
    {
      "cell_type": "markdown",
      "metadata": {
        "id": "HkJBCYCWM6qi"
      },
      "source": [
        "We use Keras callbacks to implement learning rate decay if the validation loss does not improve for 5 continues epochs. Called \"reduce loss on plateau\"\n",
        "\n",
        "Also, we implement early stopping if the validation loss does not improve for 5 continuous epochs."
      ]
    },
    {
      "cell_type": "code",
      "metadata": {
        "id": "yzFyFjK_Tanl"
      },
      "source": [
        "def mean_iou(y_true, y_pred):\n",
        "    if len(np.shape(y_true)) == 3:\n",
        "      yt0 = y_true[:,:,0]\n",
        "    else:\n",
        "      yt0 = y_true[:,:,:,0]  \n",
        "    #yt0 = y_true[:,:,:,0]\n",
        "    if len(np.shape(y_pred)) == 3:\n",
        "      yp0_prep = y_pred[:,:,0]\n",
        "    elif len(np.shape(y_pred)) == 2:\n",
        "      yp0_prep = y_pred[:,0]\n",
        "    else:\n",
        "      yp0_prep = y_pred[:,:,:,0]\n",
        "    yp0 = tf.keras.backend.cast(yp0_prep > 0.5, 'float32')\n",
        "    #yp0 = tf.keras.backend.cast(y_pred[:,:,:,0] > 0.5, 'float32')\n",
        "    inter = tf.math.count_nonzero(tf.logical_and(tf.equal(yt0, 1), tf.equal(yp0, 1)))\n",
        "    union = tf.math.count_nonzero(tf.add(yt0, yp0))\n",
        "    iou = tf.where(tf.equal(union, 0), 1., tf.cast(inter/union, 'float32'))\n",
        "    return iou\n",
        "\n",
        "def unet(sz = (512, 512, 3)):\n",
        "  inputs = Input(sz)\n",
        "  _ = inputs\n",
        "  \n",
        "  #down sampling \n",
        "  f = 8\n",
        "  layers = []\n",
        "  \n",
        "  for i in range(0, 6):\n",
        "    _ = Conv2D(f, 3, activation='relu', padding='same') (_)\n",
        "    _ = Conv2D(f, 3, activation='relu', padding='same') (_)\n",
        "    layers.append(_)\n",
        "    _ = MaxPooling2D() (_)\n",
        "    f = f*2\n",
        "  ff2 = 64 \n",
        "  \n",
        "  #bottleneck \n",
        "  j = len(layers) - 1\n",
        "  _ = Conv2D(f, 3, activation='relu', padding='same') (_)\n",
        "  _ = Conv2D(f, 3, activation='relu', padding='same') (_)\n",
        "  _ = Conv2DTranspose(ff2, 2, strides=(2, 2), padding='same') (_)\n",
        "  _ = Concatenate(axis=3)([_, layers[j]])\n",
        "  j = j -1 \n",
        "  \n",
        "  #upsampling \n",
        "  for i in range(0, 5):\n",
        "    ff2 = ff2//2\n",
        "    f = f // 2 \n",
        "    _ = Conv2D(f, 3, activation='relu', padding='same') (_)\n",
        "    _ = Conv2D(f, 3, activation='relu', padding='same') (_)\n",
        "    _ = Conv2DTranspose(ff2, 2, strides=(2, 2), padding='same') (_)\n",
        "    _ = Concatenate(axis=3)([_, layers[j]])\n",
        "    j = j -1 \n",
        "    \n",
        "  #classification \n",
        "  _ = Conv2D(f, 3, activation='relu', padding='same') (_)\n",
        "  _ = Conv2D(f, 3, activation='relu', padding='same') (_)\n",
        "  outputs = Conv2D(1, 1, activation='sigmoid') (_)\n",
        "  \n",
        "  #model creation \n",
        "  model = Model(inputs=[inputs], outputs=[outputs])\n",
        "  model.compile(optimizer = 'rmsprop', loss = 'binary_crossentropy', metrics = [mean_iou])\n",
        "  \n",
        "  return model "
      ],
      "execution_count": 9,
      "outputs": []
    },
    {
      "cell_type": "code",
      "metadata": {
        "id": "Fo2ls1vA9KPy"
      },
      "source": [
        "def image_batch_generator(files, batch_size = 32, sz = (512, 512)):\n",
        "  \n",
        "  while True: # this is here because it will be called repeatedly by the training function\n",
        "    \n",
        "    #extract a random subset of files of length \"batch_size\"\n",
        "    batch = np.random.choice(files, size = batch_size)    \n",
        "    \n",
        "    #variables for collecting batches of inputs (x) and outputs (y)\n",
        "    batch_x = []\n",
        "    batch_y = []\n",
        "    \n",
        "    #cycle through each image in the batch\n",
        "    for f in batch:\n",
        "\n",
        "        #preprocess the raw images \n",
        "        rawfile = f'nwpu_images/data/{f}'\n",
        "        raw = Image.open(rawfile)\n",
        "        raw = raw.resize(sz)\n",
        "        raw = np.array(raw)\n",
        "\n",
        "        #check the number of channels because some of the images are RGBA or GRAY\n",
        "        if len(raw.shape) == 2:\n",
        "            raw = np.stack((raw,)*3, axis=-1)\n",
        "\n",
        "        else:\n",
        "            raw = raw[:,:,0:3]\n",
        "            \n",
        "        #get the image dimensions, find the min dimension, then square the image off    \n",
        "        nx, ny, nz = np.shape(raw)\n",
        "        n = np.minimum(nx,ny)\n",
        "        raw = raw[:n,:n,:] \n",
        "            \n",
        "        batch_x.append(raw)\n",
        "        \n",
        "        #get the masks. \n",
        "        maskfile = rawfile.replace('nwpu_images','nwpu_label_images')+'_mask.jpg'\n",
        "        mask = Image.open(maskfile)\n",
        "        # the mask is 3-dimensional so get the max in each channel to flatten to 2D\n",
        "        mask = np.max(np.array(mask.resize(sz)),axis=2)\n",
        "        # water pixels are always greater than 100\n",
        "        mask = (mask>200).astype('int')\n",
        "        \n",
        "        mask = mask[:n,:n]\n",
        "\n",
        "        batch_y.append(mask)\n",
        "\n",
        "    #preprocess a batch of images and masks \n",
        "    batch_x = np.array(batch_x)/255. #divide image by 255 to normalize\n",
        "    batch_y = np.array(batch_y)\n",
        "    batch_y = np.expand_dims(batch_y,3) #add singleton dimension to batch_y\n",
        "\n",
        "    yield (batch_x, batch_y) #yield both the image and the label together"
      ],
      "execution_count": 10,
      "outputs": []
    },
    {
      "cell_type": "markdown",
      "metadata": {
        "id": "WR_LULokT4ff"
      },
      "source": [
        "We've seen code like the below in the previous Part, setting up batch size, proportion of the dataset to train with, getting randomized lists of test and train file names, and finally setting up generators for model training and testing"
      ]
    },
    {
      "cell_type": "code",
      "metadata": {
        "id": "-3Fu3vdZ-nsN"
      },
      "source": [
        "batch_size = 8\n",
        "\n",
        "prop_train = 0.6\n",
        "\n",
        "all_files = os.listdir('nwpu_images/data')\n",
        "shuffle(all_files)\n",
        "\n",
        "split = int(prop_train * len(all_files))\n",
        "\n",
        "#split into training and testing\n",
        "train_files = all_files[0:split]\n",
        "test_files  = all_files[split:]\n",
        "\n",
        "train_generator = image_batch_generator(train_files, batch_size = batch_size)\n",
        "test_generator  = image_batch_generator(test_files, batch_size = batch_size)"
      ],
      "execution_count": 11,
      "outputs": []
    },
    {
      "cell_type": "markdown",
      "metadata": {
        "id": "2U2y96CiT4fi"
      },
      "source": [
        "A customary check that things worked"
      ]
    },
    {
      "cell_type": "code",
      "metadata": {
        "colab": {
          "base_uri": "https://localhost:8080/",
          "height": 286
        },
        "id": "8rIwVxdIIWEV",
        "outputId": "b07b8976-aae1-4c9a-baf8-8f236925578b"
      },
      "source": [
        "x, y = next(train_generator)\n",
        "plt.imshow(x[0])\n",
        "plt.imshow(y[0].squeeze(), cmap='gray', alpha=0.5)"
      ],
      "execution_count": 12,
      "outputs": [
        {
          "output_type": "execute_result",
          "data": {
            "text/plain": [
              "<matplotlib.image.AxesImage at 0x7ff8b7d73908>"
            ]
          },
          "metadata": {
            "tags": []
          },
          "execution_count": 12
        },
        {
          "output_type": "display_data",
          "data": {
            "image/png": "[encoded data removed]",
            "text/plain": [
              "<Figure size 432x288 with 1 Axes>"
            ]
          },
          "metadata": {
            "tags": [],
            "needs_background": "light"
          }
        }
      ]
    },
    {
      "cell_type": "code",
      "metadata": {
        "id": "Ajq5OJsUT4fo"
      },
      "source": [
        "from tensorflow.keras.callbacks import ReduceLROnPlateau, EarlyStopping, ModelCheckpoint"
      ],
      "execution_count": 13,
      "outputs": []
    },
    {
      "cell_type": "code",
      "metadata": {
        "id": "GKPDSbt3T4ft"
      },
      "source": [
        "# a tolerance for the training.\n",
        "min_delta = 0.0001\n",
        "\n",
        "# minimum learning rate (lambda)\n",
        "min_lr = 0.0001\n",
        "\n",
        "# the factor applied to the learning rate when the appropriate triggers are made\n",
        "factor = 0.8\n",
        "\n",
        "batch_size = 8\n",
        "\n",
        "filepath = 'unet'+str(batch_size)+'.h5'"
      ],
      "execution_count": 14,
      "outputs": []
    },
    {
      "cell_type": "code",
      "metadata": {
        "colab": {
          "base_uri": "https://localhost:8080/"
        },
        "id": "haW5J3F1-xax",
        "outputId": "2082de17-8ca2-40b3-b38f-1cb537ecf8d1"
      },
      "source": [
        "train_generator = image_batch_generator(train_files, batch_size = batch_size)\n",
        "test_generator  = image_batch_generator(test_files, batch_size = batch_size)\n",
        "train_steps = len(train_files) //batch_size\n",
        "test_steps = len(test_files) //batch_size\n",
        "print(train_steps)\n",
        "print(test_steps)"
      ],
      "execution_count": 15,
      "outputs": [
        {
          "output_type": "stream",
          "text": [
            "42\n",
            "28\n"
          ],
          "name": "stdout"
        }
      ]
    },
    {
      "cell_type": "code",
      "metadata": {
        "id": "piK1buhaSqdG"
      },
      "source": [
        "from tensorflow.keras.layers import BatchNormalization"
      ],
      "execution_count": 16,
      "outputs": []
    },
    {
      "cell_type": "markdown",
      "metadata": {
        "id": "jmoMd5t7T4gi"
      },
      "source": [
        "<table style=\"font-size: 1em; padding: 0; margin: 0;\">\n",
        "\n",
        "<h1 style=\"width: 100%; text-align: left; padding: 0px 25px;\"><small style=\"color: #182AEB;\">\n",
        "    </small><br/>Optimization strategy: changing model architecture <br/>using residual connections</h1>\n",
        "<br/>\n",
        "<p style=\"border-left: 15px solid #182AEB; text-align:justify; padding: 0 10px;\">\n",
        "A standard approach is to pass the input image goes through multiple convolutions and obtain high-level features. In a network architecture with <em>residual layers</em> or connections, each layer gets to see both the output from the previous layer (standard) as well as the inputs to that layer. So it not only sees the ouputs but also the data used to learn that output\n",
        "</p>\n",
        "        </tr>\n",
        "        </table>"
      ]
    },
    {
      "cell_type": "markdown",
      "metadata": {
        "id": "566oTTdYT4gj"
      },
      "source": [
        "![](https://cdn-images-1.medium.com/max/1000/1*4wx7szWCBse9-7eemGQJSw.png)\n",
        "\n",
        "Import `Activation` and `Add` layers from keras"
      ]
    },
    {
      "cell_type": "code",
      "metadata": {
        "id": "BUPYE3s5T4gj"
      },
      "source": [
        "from tensorflow.keras.layers import Activation, Add"
      ],
      "execution_count": 17,
      "outputs": []
    },
    {
      "cell_type": "markdown",
      "metadata": {
        "id": "g7B6b4HWT4gm"
      },
      "source": [
        "Create a new UNet model function. This time we'll use a few convenience functions"
      ]
    },
    {
      "cell_type": "code",
      "metadata": {
        "id": "drSnciIsQ8Fy"
      },
      "source": [
        "def batchnorm_act(x):\n",
        "    x = BatchNormalization()(x)\n",
        "    return Activation(\"relu\")(x)\n",
        "\n",
        "def conv_block(x, filters, kernel_size=(3, 3), padding=\"same\", strides=1):\n",
        "    conv = batchnorm_act(x)\n",
        "    return Conv2D(filters, kernel_size, padding=padding, strides=strides)(conv)\n",
        "\n",
        "def bottleneck_block(x, filters, kernel_size=(3, 3), padding=\"same\", strides=1):\n",
        "    conv = Conv2D(filters, kernel_size, padding=padding, strides=strides)(x)\n",
        "    conv = conv_block(conv, filters, kernel_size=kernel_size, padding=padding, strides=strides)\n",
        "    \n",
        "    bottleneck = Conv2D(filters, kernel_size=(1, 1), padding=padding, strides=strides)(x)\n",
        "    bottleneck = batchnorm_act(bottleneck)\n",
        "    \n",
        "    return Add()([conv, bottleneck])\n",
        "\n",
        "def res_block(x, filters, kernel_size=(3, 3), padding=\"same\", strides=1):\n",
        "    res = conv_block(x, filters, kernel_size=kernel_size, padding=padding, strides=strides)\n",
        "    res = conv_block(res, filters, kernel_size=kernel_size, padding=padding, strides=1)\n",
        "    \n",
        "    bottleneck = Conv2D(filters, kernel_size=(1, 1), padding=padding, strides=strides)(x)\n",
        "    bottleneck = batchnorm_act(bottleneck)\n",
        "    \n",
        "    return Add()([bottleneck, res])\n",
        "\n",
        "def upsamp_concat_block(x, xskip):\n",
        "    u = UpSampling2D((2, 2))(x)\n",
        "    return Concatenate()([u, xskip])\n",
        "\n",
        "def res_unet(sz, f):\n",
        "    inputs = Input(sz)\n",
        "    \n",
        "    ## downsample  \n",
        "    e1 = bottleneck_block(inputs, f); f = int(f*2)\n",
        "    e2 = res_block(e1, f, strides=2); f = int(f*2)\n",
        "    e3 = res_block(e2, f, strides=2); f = int(f*2)\n",
        "    e4 = res_block(e3, f, strides=2); f = int(f*2)\n",
        "    _ = res_block(e4, f, strides=2)\n",
        "    \n",
        "    ## bottleneck\n",
        "    b0 = conv_block(_, f, strides=1)\n",
        "    _ = conv_block(b0, f, strides=1)\n",
        "    \n",
        "    ## upsample\n",
        "    _ = upsamp_concat_block(_, e4)\n",
        "    _ = res_block(_, f); f = int(f/2)\n",
        "    \n",
        "    _ = upsamp_concat_block(_, e3)\n",
        "    _ = res_block(_, f); f = int(f/2)\n",
        "    \n",
        "    _ = upsamp_concat_block(_, e2)\n",
        "    _ = res_block(_, f); f = int(f/2)\n",
        "    \n",
        "    _ = upsamp_concat_block(_, e1)\n",
        "    _ = res_block(_, f)\n",
        "    \n",
        "    ## classify\n",
        "    outputs = Conv2D(1, (1, 1), padding=\"same\", activation=\"sigmoid\")(_)\n",
        "    \n",
        "    #model creation \n",
        "    model = Model(inputs=[inputs], outputs=[outputs])\n",
        "    return model"
      ],
      "execution_count": 18,
      "outputs": []
    },
    {
      "cell_type": "markdown",
      "metadata": {
        "id": "tdjw9DNG9KRE"
      },
      "source": [
        "<table style=\"font-size: 1em; padding: 0; margin: 0;\">\n",
        "\n",
        "<h1 style=\"width: 100%; text-align: left; padding: 0px 25px;\"><small style=\"color: #182AEB;\">\n",
        "    </small><br/>Optimization strategy: Dealing with class imbalance <br/> using dice loss</h1>\n",
        "<br/>\n",
        "<p style=\"border-left: 15px solid #182AEB; text-align:justify; padding: 0 10px;\">\n",
        "    the network tends to <b>ignore smaller classes</b>. A soft dice loss could be used to train a model. Unlike the IoU metric, the numerator is the number of correctly classified pixels, and the denominator is the total number of pixels in a class that is in both estimated and ground truth. Thus it is insensitive to the number of pixels total in each class.  \n",
        "        </tr>\n",
        "        </table>"
      ]
    },
    {
      "cell_type": "code",
      "metadata": {
        "id": "zb_wsYWCT4g3"
      },
      "source": [
        "from tensorflow.keras.layers import Flatten"
      ],
      "execution_count": 19,
      "outputs": []
    },
    {
      "cell_type": "code",
      "metadata": {
        "id": "RyYChIOdT4g5"
      },
      "source": [
        "smooth = 1.\n",
        "\n",
        "def dice_coef(y_true, y_pred):\n",
        "    y_true_f = tf.reshape(tf.dtypes.cast(y_true, tf.float32), [-1])\n",
        "    y_pred_f = tf.reshape(tf.dtypes.cast(y_pred, tf.float32), [-1])\n",
        "    intersection = tf.reduce_sum(y_true_f * y_pred_f)\n",
        "    return (2. * intersection + smooth) / (tf.reduce_sum(y_true_f) + tf.reduce_sum(y_pred_f) + smooth)\n",
        "\n",
        "def dice_coef_loss(y_true, y_pred):\n",
        "    return 1.0 - dice_coef(y_true, y_pred)"
      ],
      "execution_count": 20,
      "outputs": []
    },
    {
      "cell_type": "markdown",
      "metadata": {
        "id": "rYBMlohv9KP2"
      },
      "source": [
        "<table style=\"font-size: 1em; padding: 0; margin: 0;\">\n",
        "\n",
        "<h1 style=\"width: 100%; text-align: left; padding: 0px 25px;\"><small style=\"color: #182AEB;\">\n",
        "    </small><br/>Optimization strategy: Refining label images <br/> using conditional random fields</h1>\n",
        "<br/>\n",
        "<p style=\"border-left: 15px solid #182AEB; text-align:justify; padding: 0 10px;\">\n",
        "It is common to use some form of post-processing algorithm to refine either labels for training, or model predictions, on an image-by-image basis. A popular approach is called a fully connected or dense conditional random field or CRF. Each image is paired with a label image and the label image is refined based on the image. The CRF makes a model for the label given the image, then assesses the likelihood of each label given the CRF model. The model can be based on relative color differences between a label and the CRF model's idea of what color that label is (within a tolerance), and/or relative spatial differences (i.e. location within the image) between a given label and the CRF model's idea of the location of that label, again within a tolerance.\n",
        "</p>\n",
        "<p style=\"border-left: 15px solid #6019D6; padding: 0 10px; text-align:justify;\">\n",
        "    <strong style=\"color: #6019D6;\">Tip.</strong> \n",
        "    We're using the CRF to correct a pixelwise (dense) label image. It can also be used as an 'inpainting' algorithm if only sparse areas of the image have labels. This was the approach proposed by <a href=\"https://www.mdpi.com/2076-3263/8/7/244\">Buscombe and Ritchie (2018)</a> \n",
        "</p>\n",
        "        </tr>\n",
        "        </table>"
      ]
    },
    {
      "cell_type": "markdown",
      "metadata": {
        "id": "FJQcdKlET4hQ"
      },
      "source": [
        "Uncomment below to install the module and its dependencies:"
      ]
    },
    {
      "cell_type": "code",
      "metadata": {
        "colab": {
          "base_uri": "https://localhost:8080/"
        },
        "id": "eeQEUblY9KP3",
        "outputId": "edcf3060-1d1d-458a-d909-d9fa61ec527f"
      },
      "source": [
        "!pip install cython\n",
        "!pip install git+https://github.com/lucasb-eyer/pydensecrf.git"
      ],
      "execution_count": 21,
      "outputs": [
        {
          "output_type": "stream",
          "text": [
            "Requirement already satisfied: cython in /usr/local/lib/python3.6/dist-packages (0.29.21)\n",
            "Collecting git+https://github.com/lucasb-eyer/pydensecrf.git\n",
            "  Cloning https://github.com/lucasb-eyer/pydensecrf.git to /tmp/pip-req-build-651svrsw\n",
            "  Running command git clone -q https://github.com/lucasb-eyer/pydensecrf.git /tmp/pip-req-build-651svrsw\n",
            "Requirement already satisfied (use --upgrade to upgrade): pydensecrf==1.0rc2 from git+https://github.com/lucasb-eyer/pydensecrf.git in /usr/local/lib/python3.6/dist-packages\n",
            "Building wheels for collected packages: pydensecrf\n",
            "  Building wheel for pydensecrf (setup.py) ... \u001b[?25l\u001b[?25hdone\n",
            "  Created wheel for pydensecrf: filename=pydensecrf-1.0rc2-cp36-cp36m-linux_x86_64.whl size=2225946 sha256=5ab9112413438bc0600948f751c4af42afbc78daea09565541b97703a00dd2b2\n",
            "  Stored in directory: /tmp/pip-ephem-wheel-cache-5ujwvec2/wheels/81/ac/ed/09f1890b954ca1ff7f189518cc9a319138e50e7ea88937fae9\n",
            "Successfully built pydensecrf\n"
          ],
          "name": "stdout"
        }
      ]
    },
    {
      "cell_type": "code",
      "metadata": {
        "id": "0Ebw5D7L9KP6"
      },
      "source": [
        "from pydensecrf import densecrf\n",
        "from pydensecrf.utils import unary_from_labels\n",
        "import numpy as np"
      ],
      "execution_count": 22,
      "outputs": []
    },
    {
      "cell_type": "markdown",
      "metadata": {
        "id": "O6NbzlDpQ8F-"
      },
      "source": [
        "The function below will refine a label image based on an undelying image, using a dense CRF. The model's hyperparameters (i.e. specified by you, not by training) are:\n",
        " \n",
        "```compat_spat``` is a non-dimensional parameter that penalizes small pieces of segmentation that are spatially isolated -- it enforces more spatially consistent segmentations. Larger values means larger pieces of segmentation are allowed.\n",
        "\n",
        "```compat_col``` is a non-dimensional parameter that penalizes pieces of segmentation that are less uniform in color -- it enforces more consistent segmentations in colorspace. Larger values means pieces of segmentation with less similar image intesity are allowed.\n",
        "\n",
        "`theta_spat` and `theta_col` are tolerances in location and intensity, respectively. Larger values means pixel pairs can be considered to be the same class label with less similar location or intensity.\n",
        "\n",
        "`num_iter` is the number of iterations to run the CRF model inference"
      ]
    },
    {
      "cell_type": "code",
      "metadata": {
        "id": "AxLTPfE-9KP-"
      },
      "source": [
        "def crf_labelrefine(input_image, predicted_labels):\n",
        "    \n",
        "    compat_spat=10\n",
        "    compat_col=30\n",
        "    theta_spat = 20\n",
        "    theta_col = 80\n",
        "    num_iter = 7\n",
        "    num_classes = 2\n",
        "    \n",
        "    h, w = input_image.shape[:2] #get image dimensions\n",
        "    \n",
        "    d = densecrf.DenseCRF2D(w, h, 2) #create a CRF object\n",
        "\n",
        "    # For the predictions, densecrf needs 'unary potentials' which are labels (water or no water)\n",
        "    predicted_unary = unary_from_labels(predicted_labels.astype('int')+1, num_classes, gt_prob= 0.51)\n",
        "    \n",
        "    # set the unary potentials to CRF object\n",
        "    d.setUnaryEnergy(predicted_unary)\n",
        "\n",
        "    # to add the color-independent term, where features are the locations only:\n",
        "    d.addPairwiseGaussian(sxy=(theta_spat, theta_spat), compat=compat_spat, kernel=densecrf.DIAG_KERNEL,\n",
        "                          normalization=densecrf.NORMALIZE_SYMMETRIC)\n",
        "\n",
        "    input_image_uint = (input_image * 255).astype(np.uint8) #enfore unsigned 8-bit\n",
        "    # to add the color-dependent term, i.e. 5-dimensional features are (x,y,r,g,b) based on the input image:    \n",
        "    d.addPairwiseBilateral(sxy=(theta_col, theta_col), srgb=(5, 5, 5), rgbim=input_image_uint,\n",
        "                           compat=compat_col, kernel=densecrf.DIAG_KERNEL, \n",
        "                           normalization=densecrf.NORMALIZE_SYMMETRIC)\n",
        "\n",
        "    # Finally, we run inference to obtain the refined predictions:\n",
        "    refined_predictions = np.array(d.inference(num_iter)).reshape(num_classes, h, w)\n",
        "    \n",
        "    # since refined_predictions will be a 2 x width x height array, \n",
        "    # each slice respresenting probability of each class (water and no water)\n",
        "    # therefore we return the argmax over the zeroth dimension to return a mask\n",
        "    return np.argmax(refined_predictions,axis=0)"
      ],
      "execution_count": 23,
      "outputs": []
    },
    {
      "cell_type": "markdown",
      "metadata": {
        "id": "m9ujmkrWQ8GA"
      },
      "source": [
        "We've seen this function before, but this time we'll need to add a line that carries out the CRF post-processing on the input (training) mask"
      ]
    },
    {
      "cell_type": "code",
      "metadata": {
        "id": "wtGg45HxQ8GB"
      },
      "source": [
        "def image_batch_generator(files, batch_size = 32, sz = (512, 512)):\n",
        "  \n",
        "  while True: # this is here because it will be called repeatedly by the training function\n",
        "    \n",
        "    #extract a random subset of files of length \"batch_size\"\n",
        "    batch = np.random.choice(files, size = batch_size)    \n",
        "    \n",
        "    #variables for collecting batches of inputs (x) and outputs (y)\n",
        "    batch_x = []\n",
        "    batch_y = []\n",
        "    \n",
        "    #cycle through each image in the batch\n",
        "    for f in batch:\n",
        "\n",
        "        #preprocess the raw images \n",
        "        rawfile = f'nwpu_images/data/{f}'\n",
        "        raw = Image.open(rawfile)\n",
        "        raw = raw.resize(sz)\n",
        "        raw = np.array(raw)\n",
        "\n",
        "        #check the number of channels because some of the images are RGBA or GRAY\n",
        "        if len(raw.shape) == 2:\n",
        "            raw = np.stack((raw,)*3, axis=-1)\n",
        "\n",
        "        else:\n",
        "            raw = raw[:,:,0:3]\n",
        "            \n",
        "        #get the image dimensions, find the min dimension, then square the image off    \n",
        "        nx, ny, nz = np.shape(raw)\n",
        "        n = np.minimum(nx,ny)\n",
        "        raw = raw[:n,:n,:] \n",
        "            \n",
        "        batch_x.append(raw)\n",
        "        \n",
        "        #get the masks. \n",
        "        maskfile = rawfile.replace('nwpu_images','nwpu_label_images')+'_mask.jpg'\n",
        "        mask = Image.open(maskfile)\n",
        "        # the mask is 3-dimensional so get the max in each channel to flatten to 2D\n",
        "        mask = np.max(np.array(mask.resize(sz)),axis=2)\n",
        "        # water pixels are always greater than 100\n",
        "        mask = (mask>200).astype('int')\n",
        "        \n",
        "        mask = mask[:n,:n]\n",
        "        \n",
        "        # use CRF to refine mask before it is used as a label\n",
        "        mask = crf_labelrefine(raw, mask).squeeze()\n",
        "\n",
        "        batch_y.append(mask)\n",
        "\n",
        "    #preprocess a batch of images and masks \n",
        "    batch_x = np.array(batch_x)/255. #divide image by 255 to normalize\n",
        "    batch_y = np.array(batch_y)\n",
        "    batch_y = np.expand_dims(batch_y,3) #add singleton dimension to batch_y\n",
        "\n",
        "    yield (batch_x, batch_y) #yield both the image and the label together"
      ],
      "execution_count": 24,
      "outputs": []
    },
    {
      "cell_type": "markdown",
      "metadata": {
        "id": "y2jm7SqcQ8GB"
      },
      "source": [
        "Train the model like previously. This time both input and output masks of an image will be hopefully improved using the CRF algorithm"
      ]
    },
    {
      "cell_type": "markdown",
      "metadata": {
        "id": "uesT47hwQ8GB"
      },
      "source": [
        "<table style=\"font-size: 1em; padding: 0; margin: 0;\">\n",
        "\n",
        "<h1 style=\"width: 100%; text-align: left; padding: 0px 25px;\"><small style=\"color: #182AEB;\">\n",
        "    </small><br/>Optimization strategy: <br/> using ensemble predictions</h1>\n",
        "<br/>\n",
        "<p style=\"border-left: 15px solid #182AEB; text-align:justify; padding: 0 10px;\">\n",
        "    It is common to train several models and average their predictions. This is called <b>ensemble</b> modeling because you are using the group of models to make a single prediction. \n",
        "</p>\n",
        "<p style=\"border-left: 15px solid #6019D6; padding: 0 10px; text-align:justify;\">\n",
        "    <strong style=\"color: #6019D6;\">Tip.</strong> \n",
        "    We have several trained models. Here we will apply them all to the same imagery and average the masks, to see if that produces a more stable estimate\n",
        "</p>\n",
        "        </tr>\n",
        "        </table>"
      ]
    },
    {
      "cell_type": "markdown",
      "metadata": {
        "id": "UH-z-Bv4Q8GB"
      },
      "source": [
        "Define two models, compile them, and assign them the weights from two different 'h5' files saved during model training using the `load_weights` utility"
      ]
    },
    {
      "cell_type": "code",
      "metadata": {
        "id": "tlv9yak2Q8GD"
      },
      "source": [
        "file_id = '1BEw63yYh1Wt6Dbz85gm-U1wmi2Nyddbo'\n",
        "destination = 'opt_model_5_res_dice'\n",
        "if colab==1:\n",
        "    download_file_from_google_drive(file_id, destination)\n",
        "\n",
        "#s2 cloudless labels\n",
        "file_id = '1QgJqz2el-9it4e9rAUUeQgWMpZbcMlKL'\n",
        "destination = 'opt_model_6_res_dice2'\n",
        "if colab==1:\n",
        "    download_file_from_google_drive(file_id, destination)\n",
        "\n",
        "m1 = tf.keras.models.load_model('opt_model_6_res_dice2',\n",
        "                               custom_objects = {\"dice_coef_loss\":dice_coef_loss,\n",
        "                                                \"dice_coef\":dice_coef})\n",
        "m2 = tf.keras.models.load_model('opt_model_5_res_dice',\n",
        "                               custom_objects = {\"dice_coef_loss\":dice_coef_loss,\n",
        "                                                \"dice_coef\":dice_coef})\n",
        "#m1 = tf.keras.models.load_model('/Users/hankmobley/Downloads/opt_model_6_res_dice2',\n",
        "#                               custom_objects = {\"dice_coef_loss\":dice_coef_loss,\n",
        "#                                                \"dice_coef\":dice_coef})\n",
        "#m2 = tf.keras.models.load_model('/Users/hankmobley/Downloads/opt_model_5_res_dice',\n",
        "#                               custom_objects = {\"dice_coef_loss\":dice_coef_loss,\n",
        "#                                                \"dice_coef\":dice_coef})"
      ],
      "execution_count": 25,
      "outputs": []
    },
    {
      "cell_type": "code",
      "metadata": {
        "id": "G7TwnzJBQ8GD"
      },
      "source": [
        "if colab==1:\n",
        "    !mkdir weights\n",
        "    m1.save_weights('weights/res_dice_crf_unet2.h5')\n",
        "    m2.save_weights('weights/res_dice_unet2.h5')"
      ],
      "execution_count": 26,
      "outputs": []
    },
    {
      "cell_type": "code",
      "metadata": {
        "id": "ehg1bG2NQ8GD"
      },
      "source": [
        "model1 = res_unet((512, 512, 3), 32)\n",
        "model1.compile(optimizer = 'rmsprop', loss = dice_coef_loss, metrics = [dice_coef])\n",
        "model1.load_weights('weights/res_dice_crf_unet2.h5')\n",
        "#model1 = tf.model1.load_model('/Users/hankmobley/Downloads/opt_model_6_res_dice2')\n",
        "\n",
        "model2 = res_unet((512, 512, 3), 32)\n",
        "model2.compile(optimizer = 'rmsprop', loss = dice_coef_loss, metrics = [dice_coef])\n",
        "model2.load_weights('weights/res_dice_unet2.h5')"
      ],
      "execution_count": 27,
      "outputs": []
    },
    {
      "cell_type": "markdown",
      "metadata": {
        "id": "vDjswkjxQ8GE"
      },
      "source": [
        "Define a function for 1) getting estimates from models 1 and 2; 2) take the pixelwise maximum of the two; 3) obtain a CRF-refined estimated water mask, and 4) compute an IOU score evaluated against the real mask"
      ]
    },
    {
      "cell_type": "code",
      "metadata": {
        "id": "FtEpSUQ7Q8GE"
      },
      "source": [
        "def get_pred(x, y, model1, model2):\n",
        "    #predict the mask \n",
        "    pred1 = model1.predict(np.expand_dims(x, 0))\n",
        "    pred2 = model2.predict(np.expand_dims(x, 0))\n",
        "    \n",
        "    #mask post-processing \n",
        "    msk  = np.maximum(pred1.squeeze(), pred2.squeeze())\n",
        "    # binarize\n",
        "    msk[msk >= 0.5] = 1 \n",
        "    msk[msk < 0.5] = 0\n",
        "    \n",
        "    # use CRF to refine mask before it is used as a label\n",
        "    msk = crf_labelrefine(x.squeeze(), msk).squeeze()\n",
        "        \n",
        "    # return the prediction and the IOU score of the prediction\n",
        "    return msk, mean_iou(y, msk)"
      ],
      "execution_count": 28,
      "outputs": []
    },
    {
      "cell_type": "markdown",
      "metadata": {
        "id": "H_LxabKlQ8GF"
      },
      "source": [
        "Get a batch of images and labels and run the `get_pred` command on the first pair"
      ]
    },
    {
      "cell_type": "code",
      "metadata": {
        "id": "U8KwQftCQ8GF"
      },
      "source": [
        "x, y = next(test_generator)\n",
        "ypred = get_pred(x[0], y[0], model1, model2)"
      ],
      "execution_count": 37,
      "outputs": []
    },
    {
      "cell_type": "markdown",
      "metadata": {
        "id": "RbCwSpOjQ8GH"
      },
      "source": [
        "Show the label mask and the ensemble estimate side-by-side"
      ]
    },
    {
      "cell_type": "code",
      "metadata": {
        "colab": {
          "base_uri": "https://localhost:8080/",
          "height": 183
        },
        "id": "e_ssYrI_Q8GI",
        "outputId": "e6048903-4193-4ff8-faaf-814474778920"
      },
      "source": [
        "plt.subplot(121)\n",
        "plt.imshow(x[0])\n",
        "plt.imshow(y[0].squeeze(), cmap='gray', alpha=0.5)\n",
        "tmp = plt.axis('off')\n",
        "\n",
        "plt.subplot(122)\n",
        "plt.imshow(x[0])\n",
        "plt.imshow(ypred[0].squeeze(), cmap='gray', alpha=0.5)\n",
        "tmp = plt.axis('off')"
      ],
      "execution_count": 36,
      "outputs": [
        {
          "output_type": "display_data",
          "data": {
            "image/png": "[encoded data removed]",
            "text/plain": [
              "<Figure size 432x288 with 2 Axes>"
            ]
          },
          "metadata": {
            "tags": [],
            "needs_background": "light"
          }
        }
      ]
    },
    {
      "cell_type": "markdown",
      "metadata": {
        "id": "N7pff5C89KRM"
      },
      "source": [
        "<table style=\"font-size: 1em; padding: 0; margin: 0;\">\n",
        "<p style=\"border: 1px solid #ff5733; border-left: 15px solid #ff5733; padding: 10px; text-align:justify;\">\n",
        "    <strong style=\"color: #ff5733\">Deliverable</strong>  \n",
        "    <br/>The deliverable for Part 5 is a jupyter notebook showing a workflow to optimize the training of a model using the NWPU-RESISC45 lake images and corresponding labels, for the purposes of estimating lake area over time at sites represented in the Sentinel-2 imagery. The notebook will also show how to refine image labels based on a CRF model using both image color and relative spatial location in the image to make predictions, using optimized tunable parameters. This will mostly test your understanding of the generic yet complex workflow of optimizing model training, and applying a model trained on one dataset to another similar dataset, for the operational purpose of developing a time-series of lake areas at critical sites. \n",
        "    </p>"
      ]
    },
    {
      "cell_type": "code",
      "metadata": {
        "id": "JwQJwE4EQ8GJ"
      },
      "source": [
        ""
      ],
      "execution_count": 32,
      "outputs": []
    }
  ]
}