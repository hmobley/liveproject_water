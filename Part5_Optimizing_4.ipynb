{
  "nbformat": 4,
  "nbformat_minor": 0,
  "metadata": {
    "colab": {
      "name": "Part5_Optimizing.ipynb",
      "provenance": [],
      "collapsed_sections": []
    },
    "kernelspec": {
      "display_name": "Python 3",
      "language": "python",
      "name": "python3"
    },
    "language_info": {
      "codemirror_mode": {
        "name": "ipython",
        "version": 3
      },
      "file_extension": ".py",
      "mimetype": "text/x-python",
      "name": "python",
      "nbconvert_exporter": "python",
      "pygments_lexer": "ipython3",
      "version": "3.8.3"
    }
  },
  "cells": [
    {
      "cell_type": "markdown",
      "metadata": {
        "id": "SGhkrMQX9KPn"
      },
      "source": [
        "<table style=\"font-size: 1em; padding: 0; margin: 0;\">\n",
        "\n",
        "<tr style=\"vertical-align: top; padding: 0; margin: 0;background-color: #ffffff\">\n",
        "        <td style=\"vertical-align: top; padding: 0; margin: 0; padding-right: 15px;\">\n",
        "    <p style=\"background: #182AEB; color:#ffffff; text-align:justify; padding: 10px 25px;\">\n",
        "        <strong style=\"font-size: 1.0em;\"><span style=\"font-size: 1.2em;\"><span style=\"color: #ffffff;\">Deep Learning </span> for Satellite Image Classification (Manning Publications)</span><br/>by <em>Daniel Buscombe</em></strong><br/><br/>\n",
        "        <strong>> Chapter 5: Model Optimization </strong><br/>\n",
        "    </p>           \n",
        "        \n",
        "<p style=\"border: 1px solid #182AEB; border-left: 15px solid #182AEB; padding: 10px; text-align:justify;\">\n",
        "    <strong style=\"color: #182AEB\">What you learned in Part 4.</strong>  \n",
        "    <br/>In Part 4, you trained U-Net models to segment water pixels in imagery\n",
        "    </p>\n",
        "    \n",
        "<p style=\"border: 1px solid #ff5733; border-left: 15px solid #ff5733; padding: 10px; text-align:justify;\">\n",
        "    <strong style=\"color: #ff5733\">What you will learn in this Part.</strong>  \n",
        "    <br/>In Part 5, you will optimize the models you made in Part 4. You will first learn how to tune hyper-parameters, add regularization and modify model architectures in several ways, and deal with class imbalance. Then, you will learn how to use a machine learning model known as a ‘fully-connected conditional random field” to refine label images, so labels are as accurate as possible.\n",
        "    </p>    "
      ]
    },
    {
      "cell_type": "markdown",
      "metadata": {
        "id": "ROJhVuY4_VOB"
      },
      "source": [
        "#### Preliminaries for Colab\n",
        "\n",
        "Like Part 3 and 4 previously, below are some convenience functions for those working on Google Colab with a GPU runtime"
      ]
    },
    {
      "cell_type": "code",
      "metadata": {
        "id": "ZdVeWz_QlrZV"
      },
      "source": [
        "# must be a pre-written method for this!\n",
        "def clear_drive():\n",
        "  !rm -r nwpu_images\n",
        "  !rm -r nwpu_label_images\n",
        "  !rm -r s2cloudless_imagery\n",
        "  !rm -r s2cloudless_label_imagery\n",
        "  !rm nwpu_images.zip\n",
        "  !rm nwpu_label_images.zip\n",
        "  !rm opt_model_1_early\n",
        "  !rm opt_model_1_early_hist\n",
        "  !rm opt_model_2_big\n",
        "  !rm opt_model_2_big_hist\n",
        "  !rm opt_model_3_bn\n",
        "  !rm opt_model_3_bn_hist\n",
        "  !rm opt_model_4_res\n",
        "  !rm opt_model_4_res_hist\n",
        "  !rm opt_model_5_res_dice\n",
        "  !rm opt_model_4_res_dice_hist\n",
        "  !rm s2cloudless_imagery.zip\n",
        "  !rm s2cloudless_label_imagery.zip\n",
        "  !rm res_unet8.h5\n",
        "  !rm res_dice_unet2.h5"
      ],
      "execution_count": 1,
      "outputs": []
    },
    {
      "cell_type": "code",
      "metadata": {
        "id": "2v3iR00FnR4j",
        "outputId": "f0f14b47-ebc4-45fd-cc36-1abc98c6de3e",
        "colab": {
          "base_uri": "https://localhost:8080/"
        }
      },
      "source": [
        "clear_drive()"
      ],
      "execution_count": 2,
      "outputs": [
        {
          "output_type": "stream",
          "text": [
            "rm: cannot remove 'nwpu_images': No such file or directory\n",
            "rm: cannot remove 'nwpu_label_images': No such file or directory\n",
            "rm: cannot remove 's2cloudless_imagery': No such file or directory\n",
            "rm: cannot remove 's2cloudless_label_imagery': No such file or directory\n",
            "rm: cannot remove 'nwpu_images.zip': No such file or directory\n",
            "rm: cannot remove 'nwpu_label_images.zip': No such file or directory\n",
            "rm: cannot remove 'opt_model_1_early': No such file or directory\n",
            "rm: cannot remove 'opt_model_1_early_hist': No such file or directory\n",
            "rm: cannot remove 'opt_model_2_big': No such file or directory\n",
            "rm: cannot remove 'opt_model_2_big_hist': No such file or directory\n",
            "rm: cannot remove 'opt_model_3_bn': No such file or directory\n",
            "rm: cannot remove 'opt_model_3_bn_hist': No such file or directory\n",
            "rm: cannot remove 'opt_model_4_res': No such file or directory\n",
            "rm: cannot remove 'opt_model_4_res_hist': No such file or directory\n",
            "rm: cannot remove 'opt_model_5_res_dice': No such file or directory\n",
            "rm: cannot remove 'opt_model_4_res_dice_hist': No such file or directory\n",
            "rm: cannot remove 's2cloudless_imagery.zip': No such file or directory\n",
            "rm: cannot remove 's2cloudless_label_imagery.zip': No such file or directory\n",
            "rm: cannot remove 'res_unet8.h5': No such file or directory\n",
            "rm: cannot remove 'res_dice_unet2.h5': No such file or directory\n"
          ],
          "name": "stdout"
        }
      ]
    },
    {
      "cell_type": "code",
      "metadata": {
        "id": "i-esw4L5ho3F"
      },
      "source": [
        "load_res_history = 1\n",
        "load_res_dice_history = 1\n",
        "#load_large_history = 1\n",
        "if load_res_history or load_res_dice_history:\n",
        "  import pickle"
      ],
      "execution_count": 3,
      "outputs": []
    },
    {
      "cell_type": "code",
      "metadata": {
        "colab": {
          "base_uri": "https://localhost:8080/"
        },
        "id": "I-lc86ey-HOb",
        "outputId": "f27ce22d-ba0e-4fe7-a203-5d2c0524af32"
      },
      "source": [
        "#colab = 0\n",
        "colab = 1\n",
        "\n",
        "if colab==1:\n",
        "    %tensorflow_version 2.x\n",
        "    !pip install --default-timeout=1000 tensorflow-gpu==2.0   "
      ],
      "execution_count": 4,
      "outputs": [
        {
          "output_type": "stream",
          "text": [
            "Collecting tensorflow-gpu==2.0\n",
            "\u001b[?25l  Downloading https://files.pythonhosted.org/packages/25/44/47f0722aea081697143fbcf5d2aa60d1aee4aaacb5869aee2b568974777b/tensorflow_gpu-2.0.0-cp36-cp36m-manylinux2010_x86_64.whl (380.8MB)\n",
            "\u001b[K     |████████████████████████████████| 380.8MB 42kB/s \n",
            "\u001b[?25hRequirement already satisfied: google-pasta>=0.1.6 in /usr/local/lib/python3.6/dist-packages (from tensorflow-gpu==2.0) (0.2.0)\n",
            "Requirement already satisfied: six>=1.10.0 in /usr/local/lib/python3.6/dist-packages (from tensorflow-gpu==2.0) (1.15.0)\n",
            "Collecting tensorflow-estimator<2.1.0,>=2.0.0\n",
            "\u001b[?25l  Downloading https://files.pythonhosted.org/packages/fc/08/8b927337b7019c374719145d1dceba21a8bb909b93b1ad6f8fb7d22c1ca1/tensorflow_estimator-2.0.1-py2.py3-none-any.whl (449kB)\n",
            "\u001b[K     |████████████████████████████████| 450kB 16.6MB/s \n",
            "\u001b[?25hCollecting tensorboard<2.1.0,>=2.0.0\n",
            "\u001b[?25l  Downloading https://files.pythonhosted.org/packages/76/54/99b9d5d52d5cb732f099baaaf7740403e83fe6b0cedde940fabd2b13d75a/tensorboard-2.0.2-py3-none-any.whl (3.8MB)\n",
            "\u001b[K     |████████████████████████████████| 3.8MB 30.3MB/s \n",
            "\u001b[?25hRequirement already satisfied: protobuf>=3.6.1 in /usr/local/lib/python3.6/dist-packages (from tensorflow-gpu==2.0) (3.12.4)\n",
            "Requirement already satisfied: grpcio>=1.8.6 in /usr/local/lib/python3.6/dist-packages (from tensorflow-gpu==2.0) (1.33.2)\n",
            "Collecting keras-applications>=1.0.8\n",
            "\u001b[?25l  Downloading https://files.pythonhosted.org/packages/71/e3/19762fdfc62877ae9102edf6342d71b28fbfd9dea3d2f96a882ce099b03f/Keras_Applications-1.0.8-py3-none-any.whl (50kB)\n",
            "\u001b[K     |████████████████████████████████| 51kB 5.3MB/s \n",
            "\u001b[?25hRequirement already satisfied: keras-preprocessing>=1.0.5 in /usr/local/lib/python3.6/dist-packages (from tensorflow-gpu==2.0) (1.1.2)\n",
            "Requirement already satisfied: numpy<2.0,>=1.16.0 in /usr/local/lib/python3.6/dist-packages (from tensorflow-gpu==2.0) (1.18.5)\n",
            "Requirement already satisfied: wheel>=0.26 in /usr/local/lib/python3.6/dist-packages (from tensorflow-gpu==2.0) (0.35.1)\n",
            "Collecting gast==0.2.2\n",
            "  Downloading https://files.pythonhosted.org/packages/4e/35/11749bf99b2d4e3cceb4d55ca22590b0d7c2c62b9de38ac4a4a7f4687421/gast-0.2.2.tar.gz\n",
            "Requirement already satisfied: termcolor>=1.1.0 in /usr/local/lib/python3.6/dist-packages (from tensorflow-gpu==2.0) (1.1.0)\n",
            "Requirement already satisfied: opt-einsum>=2.3.2 in /usr/local/lib/python3.6/dist-packages (from tensorflow-gpu==2.0) (3.3.0)\n",
            "Requirement already satisfied: astor>=0.6.0 in /usr/local/lib/python3.6/dist-packages (from tensorflow-gpu==2.0) (0.8.1)\n",
            "Requirement already satisfied: wrapt>=1.11.1 in /usr/local/lib/python3.6/dist-packages (from tensorflow-gpu==2.0) (1.12.1)\n",
            "Requirement already satisfied: absl-py>=0.7.0 in /usr/local/lib/python3.6/dist-packages (from tensorflow-gpu==2.0) (0.10.0)\n",
            "Requirement already satisfied: google-auth-oauthlib<0.5,>=0.4.1 in /usr/local/lib/python3.6/dist-packages (from tensorboard<2.1.0,>=2.0.0->tensorflow-gpu==2.0) (0.4.2)\n",
            "Requirement already satisfied: markdown>=2.6.8 in /usr/local/lib/python3.6/dist-packages (from tensorboard<2.1.0,>=2.0.0->tensorflow-gpu==2.0) (3.3.3)\n",
            "Requirement already satisfied: werkzeug>=0.11.15 in /usr/local/lib/python3.6/dist-packages (from tensorboard<2.1.0,>=2.0.0->tensorflow-gpu==2.0) (1.0.1)\n",
            "Requirement already satisfied: requests<3,>=2.21.0 in /usr/local/lib/python3.6/dist-packages (from tensorboard<2.1.0,>=2.0.0->tensorflow-gpu==2.0) (2.23.0)\n",
            "Requirement already satisfied: setuptools>=41.0.0 in /usr/local/lib/python3.6/dist-packages (from tensorboard<2.1.0,>=2.0.0->tensorflow-gpu==2.0) (50.3.2)\n",
            "Requirement already satisfied: google-auth<2,>=1.6.3 in /usr/local/lib/python3.6/dist-packages (from tensorboard<2.1.0,>=2.0.0->tensorflow-gpu==2.0) (1.17.2)\n",
            "Requirement already satisfied: h5py in /usr/local/lib/python3.6/dist-packages (from keras-applications>=1.0.8->tensorflow-gpu==2.0) (2.10.0)\n",
            "Requirement already satisfied: requests-oauthlib>=0.7.0 in /usr/local/lib/python3.6/dist-packages (from google-auth-oauthlib<0.5,>=0.4.1->tensorboard<2.1.0,>=2.0.0->tensorflow-gpu==2.0) (1.3.0)\n",
            "Requirement already satisfied: importlib-metadata; python_version < \"3.8\" in /usr/local/lib/python3.6/dist-packages (from markdown>=2.6.8->tensorboard<2.1.0,>=2.0.0->tensorflow-gpu==2.0) (2.0.0)\n",
            "Requirement already satisfied: chardet<4,>=3.0.2 in /usr/local/lib/python3.6/dist-packages (from requests<3,>=2.21.0->tensorboard<2.1.0,>=2.0.0->tensorflow-gpu==2.0) (3.0.4)\n",
            "Requirement already satisfied: urllib3!=1.25.0,!=1.25.1,<1.26,>=1.21.1 in /usr/local/lib/python3.6/dist-packages (from requests<3,>=2.21.0->tensorboard<2.1.0,>=2.0.0->tensorflow-gpu==2.0) (1.24.3)\n",
            "Requirement already satisfied: idna<3,>=2.5 in /usr/local/lib/python3.6/dist-packages (from requests<3,>=2.21.0->tensorboard<2.1.0,>=2.0.0->tensorflow-gpu==2.0) (2.10)\n",
            "Requirement already satisfied: certifi>=2017.4.17 in /usr/local/lib/python3.6/dist-packages (from requests<3,>=2.21.0->tensorboard<2.1.0,>=2.0.0->tensorflow-gpu==2.0) (2020.11.8)\n",
            "Requirement already satisfied: cachetools<5.0,>=2.0.0 in /usr/local/lib/python3.6/dist-packages (from google-auth<2,>=1.6.3->tensorboard<2.1.0,>=2.0.0->tensorflow-gpu==2.0) (4.1.1)\n",
            "Requirement already satisfied: rsa<5,>=3.1.4; python_version >= \"3\" in /usr/local/lib/python3.6/dist-packages (from google-auth<2,>=1.6.3->tensorboard<2.1.0,>=2.0.0->tensorflow-gpu==2.0) (4.6)\n",
            "Requirement already satisfied: pyasn1-modules>=0.2.1 in /usr/local/lib/python3.6/dist-packages (from google-auth<2,>=1.6.3->tensorboard<2.1.0,>=2.0.0->tensorflow-gpu==2.0) (0.2.8)\n",
            "Requirement already satisfied: oauthlib>=3.0.0 in /usr/local/lib/python3.6/dist-packages (from requests-oauthlib>=0.7.0->google-auth-oauthlib<0.5,>=0.4.1->tensorboard<2.1.0,>=2.0.0->tensorflow-gpu==2.0) (3.1.0)\n",
            "Requirement already satisfied: zipp>=0.5 in /usr/local/lib/python3.6/dist-packages (from importlib-metadata; python_version < \"3.8\"->markdown>=2.6.8->tensorboard<2.1.0,>=2.0.0->tensorflow-gpu==2.0) (3.4.0)\n",
            "Requirement already satisfied: pyasn1>=0.1.3 in /usr/local/lib/python3.6/dist-packages (from rsa<5,>=3.1.4; python_version >= \"3\"->google-auth<2,>=1.6.3->tensorboard<2.1.0,>=2.0.0->tensorflow-gpu==2.0) (0.4.8)\n",
            "Building wheels for collected packages: gast\n",
            "  Building wheel for gast (setup.py) ... \u001b[?25l\u001b[?25hdone\n",
            "  Created wheel for gast: filename=gast-0.2.2-cp36-none-any.whl size=7542 sha256=042872aa9d36485b2b99a19ae9dc721bb1d6d82f35f5afce643a9f87f7b4dcaf\n",
            "  Stored in directory: /root/.cache/pip/wheels/5c/2e/7e/a1d4d4fcebe6c381f378ce7743a3ced3699feb89bcfbdadadd\n",
            "Successfully built gast\n",
            "\u001b[31mERROR: tensorflow 2.3.0 has requirement gast==0.3.3, but you'll have gast 0.2.2 which is incompatible.\u001b[0m\n",
            "\u001b[31mERROR: tensorflow 2.3.0 has requirement tensorboard<3,>=2.3.0, but you'll have tensorboard 2.0.2 which is incompatible.\u001b[0m\n",
            "\u001b[31mERROR: tensorflow 2.3.0 has requirement tensorflow-estimator<2.4.0,>=2.3.0, but you'll have tensorflow-estimator 2.0.1 which is incompatible.\u001b[0m\n",
            "\u001b[31mERROR: tensorflow-probability 0.11.0 has requirement gast>=0.3.2, but you'll have gast 0.2.2 which is incompatible.\u001b[0m\n",
            "Installing collected packages: tensorflow-estimator, tensorboard, keras-applications, gast, tensorflow-gpu\n",
            "  Found existing installation: tensorflow-estimator 2.3.0\n",
            "    Uninstalling tensorflow-estimator-2.3.0:\n",
            "      Successfully uninstalled tensorflow-estimator-2.3.0\n",
            "  Found existing installation: tensorboard 2.3.0\n",
            "    Uninstalling tensorboard-2.3.0:\n",
            "      Successfully uninstalled tensorboard-2.3.0\n",
            "  Found existing installation: gast 0.3.3\n",
            "    Uninstalling gast-0.3.3:\n",
            "      Successfully uninstalled gast-0.3.3\n",
            "Successfully installed gast-0.2.2 keras-applications-1.0.8 tensorboard-2.0.2 tensorflow-estimator-2.0.1 tensorflow-gpu-2.0.0\n"
          ],
          "name": "stdout"
        }
      ]
    },
    {
      "cell_type": "markdown",
      "metadata": {
        "id": "F8ruWT7u_ZLB"
      },
      "source": [
        "You may have to restart the runtime and/or change runtime type here, if the following doesn't show Tensorflow version 2, and a GPU available"
      ]
    },
    {
      "cell_type": "code",
      "metadata": {
        "colab": {
          "base_uri": "https://localhost:8080/"
        },
        "id": "v7gY9Wi2_aHF",
        "outputId": "550d910c-2509-4552-aad9-3eae125f6377"
      },
      "source": [
        "import tensorflow as tf\n",
        "print(tf.__version__)\n",
        "print(tf.test.is_gpu_available())"
      ],
      "execution_count": 5,
      "outputs": [
        {
          "output_type": "stream",
          "text": [
            "2.0.0\n",
            "False\n"
          ],
          "name": "stdout"
        }
      ]
    },
    {
      "cell_type": "markdown",
      "metadata": {
        "id": "Z7i8OMteVsrG"
      },
      "source": [
        "Convenience functions if you need to download example (minimal) imagery sets derived from NWPU and Sentinel-2 cloudless:"
      ]
    },
    {
      "cell_type": "code",
      "metadata": {
        "id": "Pt7x8mRRVs7m"
      },
      "source": [
        "# from https://stackoverflow.com/questions/38511444/python-download-files-from-google-drive-using-url\n",
        "import requests\n",
        "\n",
        "def download_file_from_google_drive(id, destination):\n",
        "    URL = \"https://docs.google.com/uc?export=download\"\n",
        "\n",
        "    session = requests.Session()\n",
        "\n",
        "    response = session.get(URL, params = { 'id' : id }, stream = True)\n",
        "    token = get_confirm_token(response)\n",
        "\n",
        "    if token:\n",
        "        params = { 'id' : id, 'confirm' : token }\n",
        "        response = session.get(URL, params = params, stream = True)\n",
        "\n",
        "    save_response_content(response, destination)    \n",
        "\n",
        "def get_confirm_token(response):\n",
        "    for key, value in response.cookies.items():\n",
        "        if key.startswith('download_warning'):\n",
        "            return value\n",
        "\n",
        "    return None\n",
        "\n",
        "def save_response_content(response, destination):\n",
        "    CHUNK_SIZE = 32768\n",
        "\n",
        "    with open(destination, \"wb\") as f:\n",
        "        for chunk in response.iter_content(CHUNK_SIZE):\n",
        "            if chunk: # filter out keep-alive new chunks\n",
        "                f.write(chunk)\n",
        "\n",
        "\n",
        "#s2 cloudless imagery\n",
        "file_id = '1iMfIjr_ul49Ghs2ewazjCt8HMPfhY47h'\n",
        "destination = 's2cloudless_imagery.zip'\n",
        "if colab==1:\n",
        "    download_file_from_google_drive(file_id, destination)\n",
        "\n",
        "#s2 cloudless labels\n",
        "file_id = '1c7MpwKVejoUuW9F2UaF_vps8Vq2RZRfR'\n",
        "destination = 's2cloudless_label_imagery.zip'\n",
        "if colab==1:\n",
        "    download_file_from_google_drive(file_id, destination)\n",
        "\n",
        "#nwpu imagery\n",
        "file_id = '1gtuqy1VlU8-M5IEMnmiSuTlI5PxQPnGB'\n",
        "destination = 'nwpu_images.zip'\n",
        "if colab==1:\n",
        "    download_file_from_google_drive(file_id, destination)\n",
        "\n",
        "#nwpu labels\n",
        "file_id = '1W5LGbcYAcFbG5YjLgX_ekBn0u5Rno35x'\n",
        "destination = 'nwpu_label_images.zip'\n",
        "if colab==1:\n",
        "    download_file_from_google_drive(file_id, destination)                        "
      ],
      "execution_count": 6,
      "outputs": []
    },
    {
      "cell_type": "code",
      "metadata": {
        "id": "Sommbr0GVy_F"
      },
      "source": [
        "import zipfile\n",
        "def unzip(f):\n",
        "    \"\"\"\n",
        "    f = file to be unzipped\n",
        "    \"\"\"    \n",
        "    with zipfile.ZipFile(f, 'r') as zip_ref:\n",
        "        zip_ref.extractall()\n",
        "        \n",
        "if colab==1:\n",
        "    unzip('s2cloudless_imagery.zip')\n",
        "    unzip('s2cloudless_label_imagery.zip')   \n",
        "    unzip('nwpu_images.zip')\n",
        "    unzip('nwpu_label_images.zip')       "
      ],
      "execution_count": 7,
      "outputs": []
    },
    {
      "cell_type": "markdown",
      "metadata": {
        "id": "oa9K6-E2T4fR"
      },
      "source": [
        "Import the libraries we will need:"
      ]
    },
    {
      "cell_type": "code",
      "metadata": {
        "id": "cvYaMkSR-JKj"
      },
      "source": [
        "%matplotlib inline\n",
        "import tensorflow as tf\n",
        "from tensorflow.keras.layers import Input, Conv2D, MaxPooling2D, UpSampling2D\n",
        "from tensorflow.keras.layers import Concatenate, Conv2DTranspose\n",
        "from tensorflow.keras.models import Model\n",
        "import numpy as np\n",
        "import json, os\n",
        "from random import shuffle\n",
        "from PIL import Image\n",
        "import matplotlib\n",
        "import matplotlib.pyplot as plt"
      ],
      "execution_count": 8,
      "outputs": []
    },
    {
      "cell_type": "markdown",
      "metadata": {
        "id": "KYgpaO2O9KPr"
      },
      "source": [
        "<table style=\"font-size: 1em; padding: 0; margin: 0;\">\n",
        "\n",
        "<h1 style=\"width: 100%; text-align: left; padding: 0px 25px;\"><small style=\"color: #182AEB;\">\n",
        "    </small><br/>Training tuning strategies</h1>\n",
        "<br/>\n",
        "<p style=\"border-left: 15px solid #182AEB; text-align:justify; padding: 0 10px;\">\n",
        "We will set up a baseline model with no optimization using the NWPU imagery, then explore the following training optimization strategies:\n",
        "<ul>\n",
        "  <li>Building a bigger model with more layers</li>    \n",
        "  <li>Using Early Stopping and Adaptive Learning Rates</li> \n",
        "  <li>Using a bigger model (and dropout)</li> \n",
        "  <li>Using regularization (Batch Normalization)</li> \n",
        "  <li>Using residual connections</li> \n",
        "</ul>\n",
        "</p>\n",
        "        </tr>\n",
        "        </table>"
      ]
    },
    {
      "cell_type": "markdown",
      "metadata": {
        "id": "PsLTcU6OJMAh"
      },
      "source": [
        "#### Getting things set up with a baseline model\n",
        "Zip through all these functions that we defined in the last Part. \n",
        "\n",
        "Like in the last Part, we will define the ```unet``` model, create model training callbacks, and generate augmented imagery"
      ]
    },
    {
      "cell_type": "code",
      "metadata": {
        "id": "oVAJUzEt-Iqq"
      },
      "source": [
        "def mean_iou(y_true, y_pred):\n",
        "    yt0 = y_true[:,:,:,0]\n",
        "    yp0 = tf.keras.backend.cast(y_pred[:,:,:,0] > 0.5, 'float32')\n",
        "    inter = tf.math.count_nonzero(tf.logical_and(tf.equal(yt0, 1), tf.equal(yp0, 1)))\n",
        "    union = tf.math.count_nonzero(tf.add(yt0, yp0))\n",
        "    iou = tf.where(tf.equal(union, 0), 1., tf.cast(inter/union, 'float32'))\n",
        "    return iou\n",
        "\n",
        "def unet(sz = (512, 512, 3)):\n",
        "  inputs = Input(sz)\n",
        "  _ = inputs\n",
        "  \n",
        "  #down sampling \n",
        "  f = 8\n",
        "  layers = []\n",
        "  \n",
        "  for i in range(0, 6):\n",
        "    _ = Conv2D(f, 3, activation='relu', padding='same') (_)\n",
        "    _ = Conv2D(f, 3, activation='relu', padding='same') (_)\n",
        "    layers.append(_)\n",
        "    _ = MaxPooling2D() (_)\n",
        "    f = f*2\n",
        "  ff2 = 64 \n",
        "  \n",
        "  #bottleneck \n",
        "  j = len(layers) - 1\n",
        "  _ = Conv2D(f, 3, activation='relu', padding='same') (_)\n",
        "  _ = Conv2D(f, 3, activation='relu', padding='same') (_)\n",
        "  _ = Conv2DTranspose(ff2, 2, strides=(2, 2), padding='same') (_)\n",
        "  _ = Concatenate(axis=3)([_, layers[j]])\n",
        "  j = j -1 \n",
        "  \n",
        "  #upsampling \n",
        "  for i in range(0, 5):\n",
        "    ff2 = ff2//2\n",
        "    f = f // 2 \n",
        "    _ = Conv2D(f, 3, activation='relu', padding='same') (_)\n",
        "    _ = Conv2D(f, 3, activation='relu', padding='same') (_)\n",
        "    _ = Conv2DTranspose(ff2, 2, strides=(2, 2), padding='same') (_)\n",
        "    _ = Concatenate(axis=3)([_, layers[j]])\n",
        "    j = j -1 \n",
        "    \n",
        "  #classification \n",
        "  _ = Conv2D(f, 3, activation='relu', padding='same') (_)\n",
        "  _ = Conv2D(f, 3, activation='relu', padding='same') (_)\n",
        "  outputs = Conv2D(1, 1, activation='sigmoid') (_)\n",
        "  \n",
        "  #model creation \n",
        "  model = Model(inputs=[inputs], outputs=[outputs])\n",
        "  model.compile(optimizer = 'rmsprop', loss = 'binary_crossentropy', metrics = [mean_iou])\n",
        "  \n",
        "  return model \n",
        "\n",
        "model = unet()      "
      ],
      "execution_count": 9,
      "outputs": []
    },
    {
      "cell_type": "code",
      "metadata": {
        "id": "nNDTrZom9KPt"
      },
      "source": [
        "# inheritance for training process plot \n",
        "class PlotLearning(tf.keras.callbacks.Callback):\n",
        "\n",
        "    def on_train_begin(self, logs={}):\n",
        "        self.i = 0\n",
        "        self.x = []\n",
        "        self.losses = []\n",
        "        self.val_losses = []\n",
        "        self.acc = []\n",
        "        self.val_acc = []\n",
        "        #self.fig = plt.figure()\n",
        "        self.logs = []\n",
        "    def on_epoch_end(self, epoch, logs={}):\n",
        "        self.logs.append(logs)\n",
        "        self.x.append(self.i)\n",
        "        self.losses.append(logs.get('loss'))\n",
        "        self.val_losses.append(logs.get('val_loss'))\n",
        "        self.acc.append(logs.get('mean_iou'))\n",
        "        self.val_acc.append(logs.get('val_mean_iou'))\n",
        "        self.i += 1\n",
        "        print('i=',self.i,'loss=',logs.get('loss'),'val_loss=',logs.get('val_loss'),'mean_iou=',logs.get('mean_iou'),'val_mean_iou=',logs.get('val_mean_iou'))\n",
        "        \n",
        "        #choose a random test image and preprocess\n",
        "        path = np.random.choice(test_files)\n",
        "        infile = f'nwpu_images/data/{path}'\n",
        "        raw = Image.open(infile)\n",
        "        raw = np.array(raw.resize((512, 512)))/255.\n",
        "        raw = raw[:,:,0:3]\n",
        "        \n",
        "        #predict the mask \n",
        "        pred = 255*model.predict(np.expand_dims(raw, 0)).squeeze()\n",
        "        print(np.max(pred))\n",
        "                \n",
        "        #mask post-processing \n",
        "        msk  = (pred>60).astype('int') #100       \n",
        "        msk = np.stack((msk,)*3, axis=-1)\n",
        "        #msk[msk >= 0.5] = 1 \n",
        "        #msk[msk < 0.5] = 0 \n",
        "        \n",
        "        #show the mask and the segmented image \n",
        "        combined = np.concatenate([raw, msk, raw* msk], axis = 1)\n",
        "        plt.axis('off')\n",
        "        plt.imshow(combined)\n",
        "        plt.show()      "
      ],
      "execution_count": 10,
      "outputs": []
    },
    {
      "cell_type": "markdown",
      "metadata": {
        "id": "HkJBCYCWM6qi"
      },
      "source": [
        "We use Keras callbacks to implement learning rate decay if the validation loss does not improve for 5 continues epochs. Called \"reduce loss on plateau\"\n",
        "\n",
        "Also, we implement early stopping if the validation loss does not improve for 5 continuous epochs."
      ]
    },
    {
      "cell_type": "code",
      "metadata": {
        "id": "Fo2ls1vA9KPy"
      },
      "source": [
        "def image_batch_generator(files, batch_size = 32, sz = (512, 512)):\n",
        "  \n",
        "  while True: # this is here because it will be called repeatedly by the training function\n",
        "    \n",
        "    #extract a random subset of files of length \"batch_size\"\n",
        "    batch = np.random.choice(files, size = batch_size)    \n",
        "    \n",
        "    #variables for collecting batches of inputs (x) and outputs (y)\n",
        "    batch_x = []\n",
        "    batch_y = []\n",
        "    \n",
        "    #cycle through each image in the batch\n",
        "    for f in batch:\n",
        "\n",
        "        #preprocess the raw images \n",
        "        rawfile = f'nwpu_images/data/{f}'\n",
        "        raw = Image.open(rawfile)\n",
        "        raw = raw.resize(sz)\n",
        "        raw = np.array(raw)\n",
        "\n",
        "        #check the number of channels because some of the images are RGBA or GRAY\n",
        "        if len(raw.shape) == 2:\n",
        "            raw = np.stack((raw,)*3, axis=-1)\n",
        "\n",
        "        else:\n",
        "            raw = raw[:,:,0:3]\n",
        "            \n",
        "        #get the image dimensions, find the min dimension, then square the image off    \n",
        "        nx, ny, nz = np.shape(raw)\n",
        "        n = np.minimum(nx,ny)\n",
        "        raw = raw[:n,:n,:] \n",
        "            \n",
        "        batch_x.append(raw)\n",
        "        \n",
        "        #get the masks. \n",
        "        maskfile = rawfile.replace('nwpu_images','nwpu_label_images')+'_mask.jpg'\n",
        "        mask = Image.open(maskfile)\n",
        "        # the mask is 3-dimensional so get the max in each channel to flatten to 2D\n",
        "        mask = np.max(np.array(mask.resize(sz)),axis=2)\n",
        "        # water pixels are always greater than 100\n",
        "        mask = (mask>200).astype('int')\n",
        "        \n",
        "        mask = mask[:n,:n]\n",
        "\n",
        "        batch_y.append(mask)\n",
        "\n",
        "    #preprocess a batch of images and masks \n",
        "    batch_x = np.array(batch_x)/255. #divide image by 255 to normalize\n",
        "    batch_y = np.array(batch_y)\n",
        "    batch_y = np.expand_dims(batch_y,3) #add singleton dimension to batch_y\n",
        "\n",
        "    yield (batch_x, batch_y) #yield both the image and the label together"
      ],
      "execution_count": 11,
      "outputs": []
    },
    {
      "cell_type": "markdown",
      "metadata": {
        "id": "WR_LULokT4ff"
      },
      "source": [
        "We've seen code like the below in the previous Part, setting up batch size, proportion of the dataset to train with, getting randomized lists of test and train file names, and finally setting up generators for model training and testing"
      ]
    },
    {
      "cell_type": "code",
      "metadata": {
        "id": "-3Fu3vdZ-nsN"
      },
      "source": [
        "batch_size = 8\n",
        "\n",
        "prop_train = 0.6\n",
        "\n",
        "all_files = os.listdir('nwpu_images/data')\n",
        "shuffle(all_files)\n",
        "\n",
        "split = int(prop_train * len(all_files))\n",
        "\n",
        "#split into training and testing\n",
        "train_files = all_files[0:split]\n",
        "test_files  = all_files[split:]\n",
        "\n",
        "train_generator = image_batch_generator(train_files, batch_size = batch_size)\n",
        "test_generator  = image_batch_generator(test_files, batch_size = batch_size)"
      ],
      "execution_count": 12,
      "outputs": []
    },
    {
      "cell_type": "markdown",
      "metadata": {
        "id": "2U2y96CiT4fi"
      },
      "source": [
        "A customary check that things worked"
      ]
    },
    {
      "cell_type": "code",
      "metadata": {
        "colab": {
          "base_uri": "https://localhost:8080/",
          "height": 286
        },
        "id": "8rIwVxdIIWEV",
        "outputId": "5a8727d2-befa-4d8f-835f-4057558baa49"
      },
      "source": [
        "x, y = next(train_generator)\n",
        "plt.imshow(x[0])\n",
        "plt.imshow(y[0].squeeze(), cmap='gray', alpha=0.5)"
      ],
      "execution_count": 13,
      "outputs": [
        {
          "output_type": "execute_result",
          "data": {
            "text/plain": [
              "<matplotlib.image.AxesImage at 0x7fc0a36d4940>"
            ]
          },
          "metadata": {
            "tags": []
          },
          "execution_count": 13
        },
        {
          "output_type": "display_data",
          "data": {
            "image/png": "[encoded data removed]",
            "text/plain": [
              "<Figure size 432x288 with 1 Axes>"
            ]
          },
          "metadata": {
            "tags": [],
            "needs_background": "light"
          }
        }
      ]
    },
    {
      "cell_type": "markdown",
      "metadata": {
        "id": "CITJQRiZlLjB"
      },
      "source": [
        "<table style=\"font-size: 1em; padding: 0; margin: 0;\">\n",
        "\n",
        "<h1 style=\"width: 100%; text-align: left; padding: 0px 25px;\"><small style=\"color: #182AEB;\">\n",
        "    </small><br/>Optimization strategy: Using Early Stopping<br/>and Adaptive Learning Rates</h1>\n",
        "<br/>\n",
        "<p style=\"border-left: 15px solid #182AEB; text-align:justify; padding: 0 10px;\">\n",
        "    Neural networks can overfit if they train for too long, but it's hard to know how many epochs is too many without a lot of trial and error, which is not efficient. Automatically computing how many training epochs a model needs or, to put it another way, evaluating when to stop training or <em>early stopping</em>, is achieved by monitoring validation loss during training. If loss doesn't improve for a certain number of epochs, called the <em>patience</em>, model training is terminated. Below <em>patience</em> is set to 5. Another common training strategy to prevent overly long training times is to adaptively change the learning rate during model training. This is achieved by starting with a relatively large number and then decreasing it after every training epoch until a specified minimum <em>min_lr</em> at a certain rate of reduction <em>min_delta</em>.</p>\n",
        "        </tr>\n",
        "        </table>"
      ]
    },
    {
      "cell_type": "code",
      "metadata": {
        "id": "8iNFXS-mkZqe"
      },
      "source": [
        "from tensorflow.keras.callbacks import ReduceLROnPlateau, EarlyStopping, ModelCheckpoint"
      ],
      "execution_count": 14,
      "outputs": []
    },
    {
      "cell_type": "code",
      "metadata": {
        "id": "GHWxFQZYk20l"
      },
      "source": [
        "def build_callbacks(filepath, min_delta, min_lr, factor):\n",
        "\n",
        "    earlystop = EarlyStopping(monitor=\"val_loss\", \n",
        "                                  mode=\"min\", patience=5) \n",
        "    \n",
        "    # reduction of learning rate if and when validation scores plateau upon successive epochs\n",
        "    reduceloss_plat = ReduceLROnPlateau(monitor='val_loss', factor=factor, patience=5, \n",
        "                                    verbose=1, mode='auto', min_delta=min_delta, \n",
        "                                    cooldown=5, min_lr=min_lr)\n",
        "\n",
        "    # set checkpoint file \n",
        "    model_checkpoint = ModelCheckpoint(filepath, monitor='val_loss', \n",
        "                                   verbose=0, save_best_only=True, mode='min', \n",
        "                                   save_weights_only = True)\n",
        "        \n",
        "    callbacks = [model_checkpoint, reduceloss_plat, earlystop, PlotLearning()]\n",
        "\n",
        "    return callbacks  "
      ],
      "execution_count": 15,
      "outputs": []
    },
    {
      "cell_type": "code",
      "metadata": {
        "id": "I5IWKRhbkbdV"
      },
      "source": [
        "# a tolerance for the training.\n",
        "min_delta = 0.0001\n",
        "\n",
        "# minimum learning rate (lambda)\n",
        "min_lr = 0.0001\n",
        "\n",
        "# the factor applied to the learning rate when the appropriate triggers are made\n",
        "factor = 0.8\n",
        "\n",
        "batch_size = 8\n",
        "\n",
        "filepath = 'unet'+str(batch_size)+'.h5'"
      ],
      "execution_count": 16,
      "outputs": []
    },
    {
      "cell_type": "markdown",
      "metadata": {
        "id": "jmoMd5t7T4gi"
      },
      "source": [
        "<table style=\"font-size: 1em; padding: 0; margin: 0;\">\n",
        "\n",
        "<h1 style=\"width: 100%; text-align: left; padding: 0px 25px;\"><small style=\"color: #182AEB;\">\n",
        "    </small><br/>Optimization strategy: changing model architecture <br/>using residual connections</h1>\n",
        "<br/>\n",
        "<p style=\"border-left: 15px solid #182AEB; text-align:justify; padding: 0 10px;\">\n",
        "A standard approach is to pass the input image goes through multiple convolutions and obtain high-level features. In a network architecture with <em>residual layers</em> or connections, each layer gets to see both the output from the previous layer (standard) as well as the inputs to that layer. So it not only sees the ouputs but also the data used to learn that output\n",
        "</p>\n",
        "        </tr>\n",
        "        </table>"
      ]
    },
    {
      "cell_type": "markdown",
      "metadata": {
        "id": "566oTTdYT4gj"
      },
      "source": [
        "![](https://cdn-images-1.medium.com/max/1000/1*4wx7szWCBse9-7eemGQJSw.png)\n",
        "\n",
        "Import `Activation` and `Add` layers from keras"
      ]
    },
    {
      "cell_type": "code",
      "metadata": {
        "id": "BUPYE3s5T4gj"
      },
      "source": [
        "from tensorflow.keras.layers import Activation, Add\n",
        "from tensorflow.keras.layers import BatchNormalization"
      ],
      "execution_count": 17,
      "outputs": []
    },
    {
      "cell_type": "markdown",
      "metadata": {
        "id": "g7B6b4HWT4gm"
      },
      "source": [
        "Create a new UNet model function. This time we'll use a few convenience functions"
      ]
    },
    {
      "cell_type": "code",
      "metadata": {
        "id": "-C-ZQBOdho3X"
      },
      "source": [
        "def batchnorm_act(x):\n",
        "    x = BatchNormalization()(x)\n",
        "    return Activation(\"relu\")(x)\n",
        "\n",
        "def conv_block(x, filters, kernel_size=(3, 3), padding=\"same\", strides=1):\n",
        "    conv = batchnorm_act(x)\n",
        "    return Conv2D(filters, kernel_size, padding=padding, strides=strides)(conv)\n",
        "\n",
        "def bottleneck_block(x, filters, kernel_size=(3, 3), padding=\"same\", strides=1):\n",
        "    conv = Conv2D(filters, kernel_size, padding=padding, strides=strides)(x)\n",
        "    conv = conv_block(conv, filters, kernel_size=kernel_size, padding=padding, strides=strides)\n",
        "    \n",
        "    bottleneck = Conv2D(filters, kernel_size=(1, 1), padding=padding, strides=strides)(x)\n",
        "    bottleneck = batchnorm_act(bottleneck)\n",
        "    \n",
        "    return Add()([conv, bottleneck])\n",
        "\n",
        "def res_block(x, filters, kernel_size=(3, 3), padding=\"same\", strides=1):\n",
        "    res = conv_block(x, filters, kernel_size=kernel_size, padding=padding, strides=strides)\n",
        "    res = conv_block(res, filters, kernel_size=kernel_size, padding=padding, strides=1)\n",
        "    \n",
        "    bottleneck = Conv2D(filters, kernel_size=(1, 1), padding=padding, strides=strides)(x)\n",
        "    bottleneck = batchnorm_act(bottleneck)\n",
        "    \n",
        "    return Add()([bottleneck, res])\n",
        "\n",
        "def upsamp_concat_block(x, xskip):\n",
        "    u = UpSampling2D((2, 2))(x)\n",
        "    return Concatenate()([u, xskip])\n",
        "\n",
        "def res_unet(sz, f):\n",
        "    inputs = Input(sz)\n",
        "    \n",
        "    ## downsample  \n",
        "    e1 = bottleneck_block(inputs, f); f = int(f*2)\n",
        "    e2 = res_block(e1, f, strides=2); f = int(f*2)\n",
        "    e3 = res_block(e2, f, strides=2); f = int(f*2)\n",
        "    e4 = res_block(e3, f, strides=2); f = int(f*2)\n",
        "    _ = res_block(e4, f, strides=2)\n",
        "    \n",
        "    ## bottleneck\n",
        "    b0 = conv_block(_, f, strides=1)\n",
        "    _ = conv_block(b0, f, strides=1)\n",
        "    \n",
        "    ## upsample\n",
        "    _ = upsamp_concat_block(_, e4)\n",
        "    _ = res_block(_, f); f = int(f/2)\n",
        "    \n",
        "    _ = upsamp_concat_block(_, e3)\n",
        "    _ = res_block(_, f); f = int(f/2)\n",
        "    \n",
        "    _ = upsamp_concat_block(_, e2)\n",
        "    _ = res_block(_, f); f = int(f/2)\n",
        "    \n",
        "    _ = upsamp_concat_block(_, e1)\n",
        "    _ = res_block(_, f)\n",
        "    \n",
        "    ## classify\n",
        "    outputs = Conv2D(1, (1, 1), padding=\"same\", activation=\"sigmoid\")(_)\n",
        "    \n",
        "    #model creation \n",
        "    model = Model(inputs=[inputs], outputs=[outputs])\n",
        "    return model"
      ],
      "execution_count": 18,
      "outputs": []
    },
    {
      "cell_type": "code",
      "metadata": {
        "colab": {
          "base_uri": "https://localhost:8080/"
        },
        "id": "89fLigFvT4gp",
        "outputId": "03e18863-75b8-4593-e0bb-7427075f20ab"
      },
      "source": [
        "model = res_unet((512, 512, 3), 16)\n",
        "model.compile(optimizer = 'rmsprop', loss = 'binary_crossentropy', metrics = [mean_iou])\n",
        "model.summary()"
      ],
      "execution_count": 19,
      "outputs": [
        {
          "output_type": "stream",
          "text": [
            "Model: \"model_1\"\n",
            "__________________________________________________________________________________________________\n",
            "Layer (type)                    Output Shape         Param #     Connected to                     \n",
            "==================================================================================================\n",
            "input_2 (InputLayer)            [(None, 512, 512, 3) 0                                            \n",
            "__________________________________________________________________________________________________\n",
            "conv2d_27 (Conv2D)              (None, 512, 512, 16) 448         input_2[0][0]                    \n",
            "__________________________________________________________________________________________________\n",
            "batch_normalization (BatchNorma (None, 512, 512, 16) 64          conv2d_27[0][0]                  \n",
            "__________________________________________________________________________________________________\n",
            "conv2d_29 (Conv2D)              (None, 512, 512, 16) 64          input_2[0][0]                    \n",
            "__________________________________________________________________________________________________\n",
            "activation (Activation)         (None, 512, 512, 16) 0           batch_normalization[0][0]        \n",
            "__________________________________________________________________________________________________\n",
            "batch_normalization_1 (BatchNor (None, 512, 512, 16) 64          conv2d_29[0][0]                  \n",
            "__________________________________________________________________________________________________\n",
            "conv2d_28 (Conv2D)              (None, 512, 512, 16) 2320        activation[0][0]                 \n",
            "__________________________________________________________________________________________________\n",
            "activation_1 (Activation)       (None, 512, 512, 16) 0           batch_normalization_1[0][0]      \n",
            "__________________________________________________________________________________________________\n",
            "add (Add)                       (None, 512, 512, 16) 0           conv2d_28[0][0]                  \n",
            "                                                                 activation_1[0][0]               \n",
            "__________________________________________________________________________________________________\n",
            "batch_normalization_2 (BatchNor (None, 512, 512, 16) 64          add[0][0]                        \n",
            "__________________________________________________________________________________________________\n",
            "activation_2 (Activation)       (None, 512, 512, 16) 0           batch_normalization_2[0][0]      \n",
            "__________________________________________________________________________________________________\n",
            "conv2d_30 (Conv2D)              (None, 256, 256, 32) 4640        activation_2[0][0]               \n",
            "__________________________________________________________________________________________________\n",
            "conv2d_32 (Conv2D)              (None, 256, 256, 32) 544         add[0][0]                        \n",
            "__________________________________________________________________________________________________\n",
            "batch_normalization_3 (BatchNor (None, 256, 256, 32) 128         conv2d_30[0][0]                  \n",
            "__________________________________________________________________________________________________\n",
            "batch_normalization_4 (BatchNor (None, 256, 256, 32) 128         conv2d_32[0][0]                  \n",
            "__________________________________________________________________________________________________\n",
            "activation_3 (Activation)       (None, 256, 256, 32) 0           batch_normalization_3[0][0]      \n",
            "__________________________________________________________________________________________________\n",
            "activation_4 (Activation)       (None, 256, 256, 32) 0           batch_normalization_4[0][0]      \n",
            "__________________________________________________________________________________________________\n",
            "conv2d_31 (Conv2D)              (None, 256, 256, 32) 9248        activation_3[0][0]               \n",
            "__________________________________________________________________________________________________\n",
            "add_1 (Add)                     (None, 256, 256, 32) 0           activation_4[0][0]               \n",
            "                                                                 conv2d_31[0][0]                  \n",
            "__________________________________________________________________________________________________\n",
            "batch_normalization_5 (BatchNor (None, 256, 256, 32) 128         add_1[0][0]                      \n",
            "__________________________________________________________________________________________________\n",
            "activation_5 (Activation)       (None, 256, 256, 32) 0           batch_normalization_5[0][0]      \n",
            "__________________________________________________________________________________________________\n",
            "conv2d_33 (Conv2D)              (None, 128, 128, 64) 18496       activation_5[0][0]               \n",
            "__________________________________________________________________________________________________\n",
            "conv2d_35 (Conv2D)              (None, 128, 128, 64) 2112        add_1[0][0]                      \n",
            "__________________________________________________________________________________________________\n",
            "batch_normalization_6 (BatchNor (None, 128, 128, 64) 256         conv2d_33[0][0]                  \n",
            "__________________________________________________________________________________________________\n",
            "batch_normalization_7 (BatchNor (None, 128, 128, 64) 256         conv2d_35[0][0]                  \n",
            "__________________________________________________________________________________________________\n",
            "activation_6 (Activation)       (None, 128, 128, 64) 0           batch_normalization_6[0][0]      \n",
            "__________________________________________________________________________________________________\n",
            "activation_7 (Activation)       (None, 128, 128, 64) 0           batch_normalization_7[0][0]      \n",
            "__________________________________________________________________________________________________\n",
            "conv2d_34 (Conv2D)              (None, 128, 128, 64) 36928       activation_6[0][0]               \n",
            "__________________________________________________________________________________________________\n",
            "add_2 (Add)                     (None, 128, 128, 64) 0           activation_7[0][0]               \n",
            "                                                                 conv2d_34[0][0]                  \n",
            "__________________________________________________________________________________________________\n",
            "batch_normalization_8 (BatchNor (None, 128, 128, 64) 256         add_2[0][0]                      \n",
            "__________________________________________________________________________________________________\n",
            "activation_8 (Activation)       (None, 128, 128, 64) 0           batch_normalization_8[0][0]      \n",
            "__________________________________________________________________________________________________\n",
            "conv2d_36 (Conv2D)              (None, 64, 64, 128)  73856       activation_8[0][0]               \n",
            "__________________________________________________________________________________________________\n",
            "conv2d_38 (Conv2D)              (None, 64, 64, 128)  8320        add_2[0][0]                      \n",
            "__________________________________________________________________________________________________\n",
            "batch_normalization_9 (BatchNor (None, 64, 64, 128)  512         conv2d_36[0][0]                  \n",
            "__________________________________________________________________________________________________\n",
            "batch_normalization_10 (BatchNo (None, 64, 64, 128)  512         conv2d_38[0][0]                  \n",
            "__________________________________________________________________________________________________\n",
            "activation_9 (Activation)       (None, 64, 64, 128)  0           batch_normalization_9[0][0]      \n",
            "__________________________________________________________________________________________________\n",
            "activation_10 (Activation)      (None, 64, 64, 128)  0           batch_normalization_10[0][0]     \n",
            "__________________________________________________________________________________________________\n",
            "conv2d_37 (Conv2D)              (None, 64, 64, 128)  147584      activation_9[0][0]               \n",
            "__________________________________________________________________________________________________\n",
            "add_3 (Add)                     (None, 64, 64, 128)  0           activation_10[0][0]              \n",
            "                                                                 conv2d_37[0][0]                  \n",
            "__________________________________________________________________________________________________\n",
            "batch_normalization_11 (BatchNo (None, 64, 64, 128)  512         add_3[0][0]                      \n",
            "__________________________________________________________________________________________________\n",
            "activation_11 (Activation)      (None, 64, 64, 128)  0           batch_normalization_11[0][0]     \n",
            "__________________________________________________________________________________________________\n",
            "conv2d_39 (Conv2D)              (None, 32, 32, 256)  295168      activation_11[0][0]              \n",
            "__________________________________________________________________________________________________\n",
            "conv2d_41 (Conv2D)              (None, 32, 32, 256)  33024       add_3[0][0]                      \n",
            "__________________________________________________________________________________________________\n",
            "batch_normalization_12 (BatchNo (None, 32, 32, 256)  1024        conv2d_39[0][0]                  \n",
            "__________________________________________________________________________________________________\n",
            "batch_normalization_13 (BatchNo (None, 32, 32, 256)  1024        conv2d_41[0][0]                  \n",
            "__________________________________________________________________________________________________\n",
            "activation_12 (Activation)      (None, 32, 32, 256)  0           batch_normalization_12[0][0]     \n",
            "__________________________________________________________________________________________________\n",
            "activation_13 (Activation)      (None, 32, 32, 256)  0           batch_normalization_13[0][0]     \n",
            "__________________________________________________________________________________________________\n",
            "conv2d_40 (Conv2D)              (None, 32, 32, 256)  590080      activation_12[0][0]              \n",
            "__________________________________________________________________________________________________\n",
            "add_4 (Add)                     (None, 32, 32, 256)  0           activation_13[0][0]              \n",
            "                                                                 conv2d_40[0][0]                  \n",
            "__________________________________________________________________________________________________\n",
            "batch_normalization_14 (BatchNo (None, 32, 32, 256)  1024        add_4[0][0]                      \n",
            "__________________________________________________________________________________________________\n",
            "activation_14 (Activation)      (None, 32, 32, 256)  0           batch_normalization_14[0][0]     \n",
            "__________________________________________________________________________________________________\n",
            "conv2d_42 (Conv2D)              (None, 32, 32, 256)  590080      activation_14[0][0]              \n",
            "__________________________________________________________________________________________________\n",
            "batch_normalization_15 (BatchNo (None, 32, 32, 256)  1024        conv2d_42[0][0]                  \n",
            "__________________________________________________________________________________________________\n",
            "activation_15 (Activation)      (None, 32, 32, 256)  0           batch_normalization_15[0][0]     \n",
            "__________________________________________________________________________________________________\n",
            "conv2d_43 (Conv2D)              (None, 32, 32, 256)  590080      activation_15[0][0]              \n",
            "__________________________________________________________________________________________________\n",
            "up_sampling2d (UpSampling2D)    (None, 64, 64, 256)  0           conv2d_43[0][0]                  \n",
            "__________________________________________________________________________________________________\n",
            "concatenate_6 (Concatenate)     (None, 64, 64, 384)  0           up_sampling2d[0][0]              \n",
            "                                                                 add_3[0][0]                      \n",
            "__________________________________________________________________________________________________\n",
            "batch_normalization_16 (BatchNo (None, 64, 64, 384)  1536        concatenate_6[0][0]              \n",
            "__________________________________________________________________________________________________\n",
            "activation_16 (Activation)      (None, 64, 64, 384)  0           batch_normalization_16[0][0]     \n",
            "__________________________________________________________________________________________________\n",
            "conv2d_44 (Conv2D)              (None, 64, 64, 256)  884992      activation_16[0][0]              \n",
            "__________________________________________________________________________________________________\n",
            "conv2d_46 (Conv2D)              (None, 64, 64, 256)  98560       concatenate_6[0][0]              \n",
            "__________________________________________________________________________________________________\n",
            "batch_normalization_17 (BatchNo (None, 64, 64, 256)  1024        conv2d_44[0][0]                  \n",
            "__________________________________________________________________________________________________\n",
            "batch_normalization_18 (BatchNo (None, 64, 64, 256)  1024        conv2d_46[0][0]                  \n",
            "__________________________________________________________________________________________________\n",
            "activation_17 (Activation)      (None, 64, 64, 256)  0           batch_normalization_17[0][0]     \n",
            "__________________________________________________________________________________________________\n",
            "activation_18 (Activation)      (None, 64, 64, 256)  0           batch_normalization_18[0][0]     \n",
            "__________________________________________________________________________________________________\n",
            "conv2d_45 (Conv2D)              (None, 64, 64, 256)  590080      activation_17[0][0]              \n",
            "__________________________________________________________________________________________________\n",
            "add_5 (Add)                     (None, 64, 64, 256)  0           activation_18[0][0]              \n",
            "                                                                 conv2d_45[0][0]                  \n",
            "__________________________________________________________________________________________________\n",
            "up_sampling2d_1 (UpSampling2D)  (None, 128, 128, 256 0           add_5[0][0]                      \n",
            "__________________________________________________________________________________________________\n",
            "concatenate_7 (Concatenate)     (None, 128, 128, 320 0           up_sampling2d_1[0][0]            \n",
            "                                                                 add_2[0][0]                      \n",
            "__________________________________________________________________________________________________\n",
            "batch_normalization_19 (BatchNo (None, 128, 128, 320 1280        concatenate_7[0][0]              \n",
            "__________________________________________________________________________________________________\n",
            "activation_19 (Activation)      (None, 128, 128, 320 0           batch_normalization_19[0][0]     \n",
            "__________________________________________________________________________________________________\n",
            "conv2d_47 (Conv2D)              (None, 128, 128, 128 368768      activation_19[0][0]              \n",
            "__________________________________________________________________________________________________\n",
            "conv2d_49 (Conv2D)              (None, 128, 128, 128 41088       concatenate_7[0][0]              \n",
            "__________________________________________________________________________________________________\n",
            "batch_normalization_20 (BatchNo (None, 128, 128, 128 512         conv2d_47[0][0]                  \n",
            "__________________________________________________________________________________________________\n",
            "batch_normalization_21 (BatchNo (None, 128, 128, 128 512         conv2d_49[0][0]                  \n",
            "__________________________________________________________________________________________________\n",
            "activation_20 (Activation)      (None, 128, 128, 128 0           batch_normalization_20[0][0]     \n",
            "__________________________________________________________________________________________________\n",
            "activation_21 (Activation)      (None, 128, 128, 128 0           batch_normalization_21[0][0]     \n",
            "__________________________________________________________________________________________________\n",
            "conv2d_48 (Conv2D)              (None, 128, 128, 128 147584      activation_20[0][0]              \n",
            "__________________________________________________________________________________________________\n",
            "add_6 (Add)                     (None, 128, 128, 128 0           activation_21[0][0]              \n",
            "                                                                 conv2d_48[0][0]                  \n",
            "__________________________________________________________________________________________________\n",
            "up_sampling2d_2 (UpSampling2D)  (None, 256, 256, 128 0           add_6[0][0]                      \n",
            "__________________________________________________________________________________________________\n",
            "concatenate_8 (Concatenate)     (None, 256, 256, 160 0           up_sampling2d_2[0][0]            \n",
            "                                                                 add_1[0][0]                      \n",
            "__________________________________________________________________________________________________\n",
            "batch_normalization_22 (BatchNo (None, 256, 256, 160 640         concatenate_8[0][0]              \n",
            "__________________________________________________________________________________________________\n",
            "activation_22 (Activation)      (None, 256, 256, 160 0           batch_normalization_22[0][0]     \n",
            "__________________________________________________________________________________________________\n",
            "conv2d_50 (Conv2D)              (None, 256, 256, 64) 92224       activation_22[0][0]              \n",
            "__________________________________________________________________________________________________\n",
            "conv2d_52 (Conv2D)              (None, 256, 256, 64) 10304       concatenate_8[0][0]              \n",
            "__________________________________________________________________________________________________\n",
            "batch_normalization_23 (BatchNo (None, 256, 256, 64) 256         conv2d_50[0][0]                  \n",
            "__________________________________________________________________________________________________\n",
            "batch_normalization_24 (BatchNo (None, 256, 256, 64) 256         conv2d_52[0][0]                  \n",
            "__________________________________________________________________________________________________\n",
            "activation_23 (Activation)      (None, 256, 256, 64) 0           batch_normalization_23[0][0]     \n",
            "__________________________________________________________________________________________________\n",
            "activation_24 (Activation)      (None, 256, 256, 64) 0           batch_normalization_24[0][0]     \n",
            "__________________________________________________________________________________________________\n",
            "conv2d_51 (Conv2D)              (None, 256, 256, 64) 36928       activation_23[0][0]              \n",
            "__________________________________________________________________________________________________\n",
            "add_7 (Add)                     (None, 256, 256, 64) 0           activation_24[0][0]              \n",
            "                                                                 conv2d_51[0][0]                  \n",
            "__________________________________________________________________________________________________\n",
            "up_sampling2d_3 (UpSampling2D)  (None, 512, 512, 64) 0           add_7[0][0]                      \n",
            "__________________________________________________________________________________________________\n",
            "concatenate_9 (Concatenate)     (None, 512, 512, 80) 0           up_sampling2d_3[0][0]            \n",
            "                                                                 add[0][0]                        \n",
            "__________________________________________________________________________________________________\n",
            "batch_normalization_25 (BatchNo (None, 512, 512, 80) 320         concatenate_9[0][0]              \n",
            "__________________________________________________________________________________________________\n",
            "activation_25 (Activation)      (None, 512, 512, 80) 0           batch_normalization_25[0][0]     \n",
            "__________________________________________________________________________________________________\n",
            "conv2d_53 (Conv2D)              (None, 512, 512, 32) 23072       activation_25[0][0]              \n",
            "__________________________________________________________________________________________________\n",
            "conv2d_55 (Conv2D)              (None, 512, 512, 32) 2592        concatenate_9[0][0]              \n",
            "__________________________________________________________________________________________________\n",
            "batch_normalization_26 (BatchNo (None, 512, 512, 32) 128         conv2d_53[0][0]                  \n",
            "__________________________________________________________________________________________________\n",
            "batch_normalization_27 (BatchNo (None, 512, 512, 32) 128         conv2d_55[0][0]                  \n",
            "__________________________________________________________________________________________________\n",
            "activation_26 (Activation)      (None, 512, 512, 32) 0           batch_normalization_26[0][0]     \n",
            "__________________________________________________________________________________________________\n",
            "activation_27 (Activation)      (None, 512, 512, 32) 0           batch_normalization_27[0][0]     \n",
            "__________________________________________________________________________________________________\n",
            "conv2d_54 (Conv2D)              (None, 512, 512, 32) 9248        activation_26[0][0]              \n",
            "__________________________________________________________________________________________________\n",
            "add_8 (Add)                     (None, 512, 512, 32) 0           activation_27[0][0]              \n",
            "                                                                 conv2d_54[0][0]                  \n",
            "__________________________________________________________________________________________________\n",
            "conv2d_56 (Conv2D)              (None, 512, 512, 1)  33          add_8[0][0]                      \n",
            "==================================================================================================\n",
            "Total params: 4,723,057\n",
            "Trainable params: 4,715,761\n",
            "Non-trainable params: 7,296\n",
            "__________________________________________________________________________________________________\n"
          ],
          "name": "stdout"
        }
      ]
    },
    {
      "cell_type": "markdown",
      "metadata": {
        "id": "3gi-3jDDT4gs"
      },
      "source": [
        "Train the model with the residual connections:"
      ]
    },
    {
      "cell_type": "code",
      "metadata": {
        "colab": {
          "base_uri": "https://localhost:8080/"
        },
        "id": "ZlzUHZh6T4gt",
        "outputId": "9bd14735-a6b6-4f0e-a015-c707379b6cfe"
      },
      "source": [
        "batch_size = 2\n",
        "\n",
        "filepath = 'res_unet'+str(batch_size)+'.h5'\n",
        "\n",
        "train_generator = image_batch_generator(train_files, batch_size = batch_size)\n",
        "test_generator  = image_batch_generator(test_files, batch_size = batch_size)\n",
        "train_steps = len(train_files) //batch_size\n",
        "test_steps = len(test_files) //batch_size\n",
        "print(train_steps)\n",
        "print(test_steps)"
      ],
      "execution_count": 20,
      "outputs": [
        {
          "output_type": "stream",
          "text": [
            "171\n",
            "114\n"
          ],
          "name": "stdout"
        }
      ]
    },
    {
      "cell_type": "code",
      "metadata": {
        "id": "Og2h8uZWho3Z"
      },
      "source": [
        "if load_res_history:\n",
        "  file_id = '1ht_dICAOsp8tDX0osyn1xd_ViGAMealY'\n",
        "  destination = 'opt_model_4_res_hist'\n",
        "  download_file_from_google_drive(file_id, destination)\n",
        "  with open(\"opt_model_4_res_hist\", \"rb\") as file_pi:\n",
        "    res_history = pickle.load(file_pi)\n",
        "else:\n",
        "    res_history = model.fit_generator(train_generator, \n",
        "                                      epochs = 100, steps_per_epoch = train_steps,\n",
        "                                      validation_data = test_generator, \n",
        "                                      validation_steps = test_steps,\n",
        "                                      callbacks = build_callbacks(filepath, min_delta, \n",
        "                                                                  min_lr, factor), \n",
        "                                      verbose = 0,\n",
        "                                      use_multiprocessing=True)"
      ],
      "execution_count": 21,
      "outputs": []
    },
    {
      "cell_type": "code",
      "metadata": {
        "id": "OzLf-obYT4gx"
      },
      "source": [
        "if not load_res_history:\n",
        "  #save model and history to load or graph later\n",
        "  model.save(\"opt_model_4_res\",save_format=\"h5\")\n",
        "  \n",
        "  with open('opt_model_4_res_hist', 'wb') as file_pi:\n",
        "    pickle.dump(res_history.history, file_pi)# save model and history to load or graph later\n",
        "  \n",
        "  del model"
      ],
      "execution_count": 22,
      "outputs": []
    },
    {
      "cell_type": "markdown",
      "metadata": {
        "id": "B0iAQfM8T4g0"
      },
      "source": [
        "Compare the training histories of the baseline and U-Net with residual layers:"
      ]
    },
    {
      "cell_type": "markdown",
      "metadata": {
        "id": "tdjw9DNG9KRE"
      },
      "source": [
        "<table style=\"font-size: 1em; padding: 0; margin: 0;\">\n",
        "\n",
        "<h1 style=\"width: 100%; text-align: left; padding: 0px 25px;\"><small style=\"color: #182AEB;\">\n",
        "    </small><br/>Optimization strategy: Dealing with class imbalance <br/> using dice loss</h1>\n",
        "<br/>\n",
        "<p style=\"border-left: 15px solid #182AEB; text-align:justify; padding: 0 10px;\">\n",
        "    the network tends to <b>ignore smaller classes</b>. A soft dice loss could be used to train a model. Unlike the IoU metric, the numerator is the number of correctly classified pixels, and the denominator is the total number of pixels in a class that is in both estimated and ground truth. Thus it is insensitive to the number of pixels total in each class.  \n",
        "        </tr>\n",
        "        </table>"
      ]
    },
    {
      "cell_type": "code",
      "metadata": {
        "id": "zb_wsYWCT4g3"
      },
      "source": [
        "from tensorflow.keras.layers import Flatten"
      ],
      "execution_count": 23,
      "outputs": []
    },
    {
      "cell_type": "code",
      "metadata": {
        "id": "RyYChIOdT4g5"
      },
      "source": [
        "smooth = 1.\n",
        "\n",
        "def dice_coef(y_true, y_pred):\n",
        "    y_true_f = tf.reshape(tf.dtypes.cast(y_true, tf.float32), [-1])\n",
        "    y_pred_f = tf.reshape(tf.dtypes.cast(y_pred, tf.float32), [-1])\n",
        "    intersection = tf.reduce_sum(y_true_f * y_pred_f)\n",
        "    return (2. * intersection + smooth) / (tf.reduce_sum(y_true_f) + tf.reduce_sum(y_pred_f) + smooth)\n",
        "\n",
        "def dice_coef_loss(y_true, y_pred):\n",
        "    return 1.0 - dice_coef(y_true, y_pred)"
      ],
      "execution_count": 24,
      "outputs": []
    },
    {
      "cell_type": "code",
      "metadata": {
        "colab": {
          "base_uri": "https://localhost:8080/"
        },
        "id": "olAadtwFT4g7",
        "outputId": "0bf12f77-0190-4029-e56a-1973f5694ca0"
      },
      "source": [
        "model = res_unet((512, 512, 3), 32)\n",
        "model.compile(optimizer = 'rmsprop', loss = dice_coef_loss, metrics = [dice_coef])\n",
        "model.summary()"
      ],
      "execution_count": 25,
      "outputs": [
        {
          "output_type": "stream",
          "text": [
            "Model: \"model_2\"\n",
            "__________________________________________________________________________________________________\n",
            "Layer (type)                    Output Shape         Param #     Connected to                     \n",
            "==================================================================================================\n",
            "input_3 (InputLayer)            [(None, 512, 512, 3) 0                                            \n",
            "__________________________________________________________________________________________________\n",
            "conv2d_57 (Conv2D)              (None, 512, 512, 32) 896         input_3[0][0]                    \n",
            "__________________________________________________________________________________________________\n",
            "batch_normalization_28 (BatchNo (None, 512, 512, 32) 128         conv2d_57[0][0]                  \n",
            "__________________________________________________________________________________________________\n",
            "conv2d_59 (Conv2D)              (None, 512, 512, 32) 128         input_3[0][0]                    \n",
            "__________________________________________________________________________________________________\n",
            "activation_28 (Activation)      (None, 512, 512, 32) 0           batch_normalization_28[0][0]     \n",
            "__________________________________________________________________________________________________\n",
            "batch_normalization_29 (BatchNo (None, 512, 512, 32) 128         conv2d_59[0][0]                  \n",
            "__________________________________________________________________________________________________\n",
            "conv2d_58 (Conv2D)              (None, 512, 512, 32) 9248        activation_28[0][0]              \n",
            "__________________________________________________________________________________________________\n",
            "activation_29 (Activation)      (None, 512, 512, 32) 0           batch_normalization_29[0][0]     \n",
            "__________________________________________________________________________________________________\n",
            "add_9 (Add)                     (None, 512, 512, 32) 0           conv2d_58[0][0]                  \n",
            "                                                                 activation_29[0][0]              \n",
            "__________________________________________________________________________________________________\n",
            "batch_normalization_30 (BatchNo (None, 512, 512, 32) 128         add_9[0][0]                      \n",
            "__________________________________________________________________________________________________\n",
            "activation_30 (Activation)      (None, 512, 512, 32) 0           batch_normalization_30[0][0]     \n",
            "__________________________________________________________________________________________________\n",
            "conv2d_60 (Conv2D)              (None, 256, 256, 64) 18496       activation_30[0][0]              \n",
            "__________________________________________________________________________________________________\n",
            "conv2d_62 (Conv2D)              (None, 256, 256, 64) 2112        add_9[0][0]                      \n",
            "__________________________________________________________________________________________________\n",
            "batch_normalization_31 (BatchNo (None, 256, 256, 64) 256         conv2d_60[0][0]                  \n",
            "__________________________________________________________________________________________________\n",
            "batch_normalization_32 (BatchNo (None, 256, 256, 64) 256         conv2d_62[0][0]                  \n",
            "__________________________________________________________________________________________________\n",
            "activation_31 (Activation)      (None, 256, 256, 64) 0           batch_normalization_31[0][0]     \n",
            "__________________________________________________________________________________________________\n",
            "activation_32 (Activation)      (None, 256, 256, 64) 0           batch_normalization_32[0][0]     \n",
            "__________________________________________________________________________________________________\n",
            "conv2d_61 (Conv2D)              (None, 256, 256, 64) 36928       activation_31[0][0]              \n",
            "__________________________________________________________________________________________________\n",
            "add_10 (Add)                    (None, 256, 256, 64) 0           activation_32[0][0]              \n",
            "                                                                 conv2d_61[0][0]                  \n",
            "__________________________________________________________________________________________________\n",
            "batch_normalization_33 (BatchNo (None, 256, 256, 64) 256         add_10[0][0]                     \n",
            "__________________________________________________________________________________________________\n",
            "activation_33 (Activation)      (None, 256, 256, 64) 0           batch_normalization_33[0][0]     \n",
            "__________________________________________________________________________________________________\n",
            "conv2d_63 (Conv2D)              (None, 128, 128, 128 73856       activation_33[0][0]              \n",
            "__________________________________________________________________________________________________\n",
            "conv2d_65 (Conv2D)              (None, 128, 128, 128 8320        add_10[0][0]                     \n",
            "__________________________________________________________________________________________________\n",
            "batch_normalization_34 (BatchNo (None, 128, 128, 128 512         conv2d_63[0][0]                  \n",
            "__________________________________________________________________________________________________\n",
            "batch_normalization_35 (BatchNo (None, 128, 128, 128 512         conv2d_65[0][0]                  \n",
            "__________________________________________________________________________________________________\n",
            "activation_34 (Activation)      (None, 128, 128, 128 0           batch_normalization_34[0][0]     \n",
            "__________________________________________________________________________________________________\n",
            "activation_35 (Activation)      (None, 128, 128, 128 0           batch_normalization_35[0][0]     \n",
            "__________________________________________________________________________________________________\n",
            "conv2d_64 (Conv2D)              (None, 128, 128, 128 147584      activation_34[0][0]              \n",
            "__________________________________________________________________________________________________\n",
            "add_11 (Add)                    (None, 128, 128, 128 0           activation_35[0][0]              \n",
            "                                                                 conv2d_64[0][0]                  \n",
            "__________________________________________________________________________________________________\n",
            "batch_normalization_36 (BatchNo (None, 128, 128, 128 512         add_11[0][0]                     \n",
            "__________________________________________________________________________________________________\n",
            "activation_36 (Activation)      (None, 128, 128, 128 0           batch_normalization_36[0][0]     \n",
            "__________________________________________________________________________________________________\n",
            "conv2d_66 (Conv2D)              (None, 64, 64, 256)  295168      activation_36[0][0]              \n",
            "__________________________________________________________________________________________________\n",
            "conv2d_68 (Conv2D)              (None, 64, 64, 256)  33024       add_11[0][0]                     \n",
            "__________________________________________________________________________________________________\n",
            "batch_normalization_37 (BatchNo (None, 64, 64, 256)  1024        conv2d_66[0][0]                  \n",
            "__________________________________________________________________________________________________\n",
            "batch_normalization_38 (BatchNo (None, 64, 64, 256)  1024        conv2d_68[0][0]                  \n",
            "__________________________________________________________________________________________________\n",
            "activation_37 (Activation)      (None, 64, 64, 256)  0           batch_normalization_37[0][0]     \n",
            "__________________________________________________________________________________________________\n",
            "activation_38 (Activation)      (None, 64, 64, 256)  0           batch_normalization_38[0][0]     \n",
            "__________________________________________________________________________________________________\n",
            "conv2d_67 (Conv2D)              (None, 64, 64, 256)  590080      activation_37[0][0]              \n",
            "__________________________________________________________________________________________________\n",
            "add_12 (Add)                    (None, 64, 64, 256)  0           activation_38[0][0]              \n",
            "                                                                 conv2d_67[0][0]                  \n",
            "__________________________________________________________________________________________________\n",
            "batch_normalization_39 (BatchNo (None, 64, 64, 256)  1024        add_12[0][0]                     \n",
            "__________________________________________________________________________________________________\n",
            "activation_39 (Activation)      (None, 64, 64, 256)  0           batch_normalization_39[0][0]     \n",
            "__________________________________________________________________________________________________\n",
            "conv2d_69 (Conv2D)              (None, 32, 32, 512)  1180160     activation_39[0][0]              \n",
            "__________________________________________________________________________________________________\n",
            "conv2d_71 (Conv2D)              (None, 32, 32, 512)  131584      add_12[0][0]                     \n",
            "__________________________________________________________________________________________________\n",
            "batch_normalization_40 (BatchNo (None, 32, 32, 512)  2048        conv2d_69[0][0]                  \n",
            "__________________________________________________________________________________________________\n",
            "batch_normalization_41 (BatchNo (None, 32, 32, 512)  2048        conv2d_71[0][0]                  \n",
            "__________________________________________________________________________________________________\n",
            "activation_40 (Activation)      (None, 32, 32, 512)  0           batch_normalization_40[0][0]     \n",
            "__________________________________________________________________________________________________\n",
            "activation_41 (Activation)      (None, 32, 32, 512)  0           batch_normalization_41[0][0]     \n",
            "__________________________________________________________________________________________________\n",
            "conv2d_70 (Conv2D)              (None, 32, 32, 512)  2359808     activation_40[0][0]              \n",
            "__________________________________________________________________________________________________\n",
            "add_13 (Add)                    (None, 32, 32, 512)  0           activation_41[0][0]              \n",
            "                                                                 conv2d_70[0][0]                  \n",
            "__________________________________________________________________________________________________\n",
            "batch_normalization_42 (BatchNo (None, 32, 32, 512)  2048        add_13[0][0]                     \n",
            "__________________________________________________________________________________________________\n",
            "activation_42 (Activation)      (None, 32, 32, 512)  0           batch_normalization_42[0][0]     \n",
            "__________________________________________________________________________________________________\n",
            "conv2d_72 (Conv2D)              (None, 32, 32, 512)  2359808     activation_42[0][0]              \n",
            "__________________________________________________________________________________________________\n",
            "batch_normalization_43 (BatchNo (None, 32, 32, 512)  2048        conv2d_72[0][0]                  \n",
            "__________________________________________________________________________________________________\n",
            "activation_43 (Activation)      (None, 32, 32, 512)  0           batch_normalization_43[0][0]     \n",
            "__________________________________________________________________________________________________\n",
            "conv2d_73 (Conv2D)              (None, 32, 32, 512)  2359808     activation_43[0][0]              \n",
            "__________________________________________________________________________________________________\n",
            "up_sampling2d_4 (UpSampling2D)  (None, 64, 64, 512)  0           conv2d_73[0][0]                  \n",
            "__________________________________________________________________________________________________\n",
            "concatenate_10 (Concatenate)    (None, 64, 64, 768)  0           up_sampling2d_4[0][0]            \n",
            "                                                                 add_12[0][0]                     \n",
            "__________________________________________________________________________________________________\n",
            "batch_normalization_44 (BatchNo (None, 64, 64, 768)  3072        concatenate_10[0][0]             \n",
            "__________________________________________________________________________________________________\n",
            "activation_44 (Activation)      (None, 64, 64, 768)  0           batch_normalization_44[0][0]     \n",
            "__________________________________________________________________________________________________\n",
            "conv2d_74 (Conv2D)              (None, 64, 64, 512)  3539456     activation_44[0][0]              \n",
            "__________________________________________________________________________________________________\n",
            "conv2d_76 (Conv2D)              (None, 64, 64, 512)  393728      concatenate_10[0][0]             \n",
            "__________________________________________________________________________________________________\n",
            "batch_normalization_45 (BatchNo (None, 64, 64, 512)  2048        conv2d_74[0][0]                  \n",
            "__________________________________________________________________________________________________\n",
            "batch_normalization_46 (BatchNo (None, 64, 64, 512)  2048        conv2d_76[0][0]                  \n",
            "__________________________________________________________________________________________________\n",
            "activation_45 (Activation)      (None, 64, 64, 512)  0           batch_normalization_45[0][0]     \n",
            "__________________________________________________________________________________________________\n",
            "activation_46 (Activation)      (None, 64, 64, 512)  0           batch_normalization_46[0][0]     \n",
            "__________________________________________________________________________________________________\n",
            "conv2d_75 (Conv2D)              (None, 64, 64, 512)  2359808     activation_45[0][0]              \n",
            "__________________________________________________________________________________________________\n",
            "add_14 (Add)                    (None, 64, 64, 512)  0           activation_46[0][0]              \n",
            "                                                                 conv2d_75[0][0]                  \n",
            "__________________________________________________________________________________________________\n",
            "up_sampling2d_5 (UpSampling2D)  (None, 128, 128, 512 0           add_14[0][0]                     \n",
            "__________________________________________________________________________________________________\n",
            "concatenate_11 (Concatenate)    (None, 128, 128, 640 0           up_sampling2d_5[0][0]            \n",
            "                                                                 add_11[0][0]                     \n",
            "__________________________________________________________________________________________________\n",
            "batch_normalization_47 (BatchNo (None, 128, 128, 640 2560        concatenate_11[0][0]             \n",
            "__________________________________________________________________________________________________\n",
            "activation_47 (Activation)      (None, 128, 128, 640 0           batch_normalization_47[0][0]     \n",
            "__________________________________________________________________________________________________\n",
            "conv2d_77 (Conv2D)              (None, 128, 128, 256 1474816     activation_47[0][0]              \n",
            "__________________________________________________________________________________________________\n",
            "conv2d_79 (Conv2D)              (None, 128, 128, 256 164096      concatenate_11[0][0]             \n",
            "__________________________________________________________________________________________________\n",
            "batch_normalization_48 (BatchNo (None, 128, 128, 256 1024        conv2d_77[0][0]                  \n",
            "__________________________________________________________________________________________________\n",
            "batch_normalization_49 (BatchNo (None, 128, 128, 256 1024        conv2d_79[0][0]                  \n",
            "__________________________________________________________________________________________________\n",
            "activation_48 (Activation)      (None, 128, 128, 256 0           batch_normalization_48[0][0]     \n",
            "__________________________________________________________________________________________________\n",
            "activation_49 (Activation)      (None, 128, 128, 256 0           batch_normalization_49[0][0]     \n",
            "__________________________________________________________________________________________________\n",
            "conv2d_78 (Conv2D)              (None, 128, 128, 256 590080      activation_48[0][0]              \n",
            "__________________________________________________________________________________________________\n",
            "add_15 (Add)                    (None, 128, 128, 256 0           activation_49[0][0]              \n",
            "                                                                 conv2d_78[0][0]                  \n",
            "__________________________________________________________________________________________________\n",
            "up_sampling2d_6 (UpSampling2D)  (None, 256, 256, 256 0           add_15[0][0]                     \n",
            "__________________________________________________________________________________________________\n",
            "concatenate_12 (Concatenate)    (None, 256, 256, 320 0           up_sampling2d_6[0][0]            \n",
            "                                                                 add_10[0][0]                     \n",
            "__________________________________________________________________________________________________\n",
            "batch_normalization_50 (BatchNo (None, 256, 256, 320 1280        concatenate_12[0][0]             \n",
            "__________________________________________________________________________________________________\n",
            "activation_50 (Activation)      (None, 256, 256, 320 0           batch_normalization_50[0][0]     \n",
            "__________________________________________________________________________________________________\n",
            "conv2d_80 (Conv2D)              (None, 256, 256, 128 368768      activation_50[0][0]              \n",
            "__________________________________________________________________________________________________\n",
            "conv2d_82 (Conv2D)              (None, 256, 256, 128 41088       concatenate_12[0][0]             \n",
            "__________________________________________________________________________________________________\n",
            "batch_normalization_51 (BatchNo (None, 256, 256, 128 512         conv2d_80[0][0]                  \n",
            "__________________________________________________________________________________________________\n",
            "batch_normalization_52 (BatchNo (None, 256, 256, 128 512         conv2d_82[0][0]                  \n",
            "__________________________________________________________________________________________________\n",
            "activation_51 (Activation)      (None, 256, 256, 128 0           batch_normalization_51[0][0]     \n",
            "__________________________________________________________________________________________________\n",
            "activation_52 (Activation)      (None, 256, 256, 128 0           batch_normalization_52[0][0]     \n",
            "__________________________________________________________________________________________________\n",
            "conv2d_81 (Conv2D)              (None, 256, 256, 128 147584      activation_51[0][0]              \n",
            "__________________________________________________________________________________________________\n",
            "add_16 (Add)                    (None, 256, 256, 128 0           activation_52[0][0]              \n",
            "                                                                 conv2d_81[0][0]                  \n",
            "__________________________________________________________________________________________________\n",
            "up_sampling2d_7 (UpSampling2D)  (None, 512, 512, 128 0           add_16[0][0]                     \n",
            "__________________________________________________________________________________________________\n",
            "concatenate_13 (Concatenate)    (None, 512, 512, 160 0           up_sampling2d_7[0][0]            \n",
            "                                                                 add_9[0][0]                      \n",
            "__________________________________________________________________________________________________\n",
            "batch_normalization_53 (BatchNo (None, 512, 512, 160 640         concatenate_13[0][0]             \n",
            "__________________________________________________________________________________________________\n",
            "activation_53 (Activation)      (None, 512, 512, 160 0           batch_normalization_53[0][0]     \n",
            "__________________________________________________________________________________________________\n",
            "conv2d_83 (Conv2D)              (None, 512, 512, 64) 92224       activation_53[0][0]              \n",
            "__________________________________________________________________________________________________\n",
            "conv2d_85 (Conv2D)              (None, 512, 512, 64) 10304       concatenate_13[0][0]             \n",
            "__________________________________________________________________________________________________\n",
            "batch_normalization_54 (BatchNo (None, 512, 512, 64) 256         conv2d_83[0][0]                  \n",
            "__________________________________________________________________________________________________\n",
            "batch_normalization_55 (BatchNo (None, 512, 512, 64) 256         conv2d_85[0][0]                  \n",
            "__________________________________________________________________________________________________\n",
            "activation_54 (Activation)      (None, 512, 512, 64) 0           batch_normalization_54[0][0]     \n",
            "__________________________________________________________________________________________________\n",
            "activation_55 (Activation)      (None, 512, 512, 64) 0           batch_normalization_55[0][0]     \n",
            "__________________________________________________________________________________________________\n",
            "conv2d_84 (Conv2D)              (None, 512, 512, 64) 36928       activation_54[0][0]              \n",
            "__________________________________________________________________________________________________\n",
            "add_17 (Add)                    (None, 512, 512, 64) 0           activation_55[0][0]              \n",
            "                                                                 conv2d_84[0][0]                  \n",
            "__________________________________________________________________________________________________\n",
            "conv2d_86 (Conv2D)              (None, 512, 512, 1)  65          add_17[0][0]                     \n",
            "==================================================================================================\n",
            "Total params: 18,855,137\n",
            "Trainable params: 18,840,545\n",
            "Non-trainable params: 14,592\n",
            "__________________________________________________________________________________________________\n"
          ],
          "name": "stdout"
        }
      ]
    },
    {
      "cell_type": "markdown",
      "metadata": {
        "id": "DDqBeG4ZT4g-"
      },
      "source": [
        "Before we start training we need to update out `PlotLearning` class with the new loss metric"
      ]
    },
    {
      "cell_type": "code",
      "metadata": {
        "id": "Ji0zyJa1T4g-"
      },
      "source": [
        "# inheritance for training process plot \n",
        "class PlotLearning(tf.keras.callbacks.Callback):\n",
        "\n",
        "    def on_train_begin(self, logs={}):\n",
        "        self.i = 0\n",
        "        self.x = []\n",
        "        self.losses = []\n",
        "        self.val_losses = []\n",
        "        self.acc = []\n",
        "        self.val_acc = []\n",
        "        #self.fig = plt.figure()\n",
        "        self.logs = []\n",
        "    def on_epoch_end(self, epoch, logs={}):\n",
        "        self.logs.append(logs)\n",
        "        self.x.append(self.i)\n",
        "        self.losses.append(logs.get('loss'))\n",
        "        self.val_losses.append(logs.get('val_loss'))\n",
        "        self.acc.append(logs.get('dice_coef'))\n",
        "        self.val_acc.append(logs.get('val_dice_coef'))\n",
        "        self.i += 1\n",
        "        print('i=',self.i,'loss=',logs.get('loss'),'val_loss=',logs.get('val_loss'),'dice_coef=',logs.get('dice_coef'),'val_dice_coef=',logs.get('val_dice_coef'))\n",
        "        \n",
        "        #choose a random test image and preprocess\n",
        "        path = np.random.choice(test_files)\n",
        "        infile = f'nwpu_images/data/{path}'\n",
        "        raw = Image.open(infile)\n",
        "        raw = np.array(raw.resize((512, 512)))/255.\n",
        "        raw = raw[:,:,0:3]\n",
        "        \n",
        "        #predict the mask \n",
        "        pred = 255*model.predict(np.expand_dims(raw, 0)).squeeze()\n",
        "        print(np.max(pred))\n",
        "                \n",
        "        #mask post-processing \n",
        "        msk  = (pred>60).astype('int') #100       \n",
        "        msk = np.stack((msk,)*3, axis=-1)\n",
        "        \n",
        "        #show the mask and the segmented image \n",
        "        combined = np.concatenate([raw, msk, raw* msk], axis = 1)\n",
        "        plt.axis('off')\n",
        "        plt.imshow(combined)\n",
        "        plt.show()      "
      ],
      "execution_count": 26,
      "outputs": []
    },
    {
      "cell_type": "markdown",
      "metadata": {
        "id": "HQtTKDCPT4hG"
      },
      "source": [
        "Train the Residual-UNet model again, this time with dice loss"
      ]
    },
    {
      "cell_type": "code",
      "metadata": {
        "colab": {
          "base_uri": "https://localhost:8080/"
        },
        "id": "G2NLNAsTT4hH",
        "outputId": "0a0388a5-b0ba-4120-aca8-d8279041701c"
      },
      "source": [
        "batch_size = 2\n",
        "\n",
        "filepath = 'res_dice_unet'+str(batch_size)+'.h5'\n",
        "\n",
        "train_generator = image_batch_generator(train_files, batch_size = batch_size)\n",
        "test_generator  = image_batch_generator(test_files, batch_size = batch_size)\n",
        "train_steps = len(train_files) //batch_size\n",
        "test_steps = len(test_files) //batch_size\n",
        "print(train_steps)\n",
        "print(test_steps)"
      ],
      "execution_count": 27,
      "outputs": [
        {
          "output_type": "stream",
          "text": [
            "171\n",
            "114\n"
          ],
          "name": "stdout"
        }
      ]
    },
    {
      "cell_type": "code",
      "metadata": {
        "id": "JX2amtOHho3c"
      },
      "source": [
        "if load_res_dice_history:\n",
        "  file_id = '1cqmkrD7P3DNvNgAMbk5gqJT68UCnw1k8'\n",
        "  destination = 'opt_model_5_res_dice_hist'\n",
        "  download_file_from_google_drive(file_id, destination)\n",
        "  with open(\"opt_model_5_res_dice_hist\", \"rb\") as file_pi:\n",
        "    res_dice_history = pickle.load(file_pi)\n",
        "else:\n",
        "    res_dice_history = model.fit_generator(train_generator, \n",
        "                    epochs = 100, steps_per_epoch = train_steps,\n",
        "                    validation_data = test_generator, validation_steps = test_steps,\n",
        "                    callbacks = build_callbacks(filepath, min_delta, min_lr, factor), \n",
        "                    verbose = 0,\n",
        "                    use_multiprocessing=True)"
      ],
      "execution_count": 28,
      "outputs": []
    },
    {
      "cell_type": "code",
      "metadata": {
        "id": "LKSyBNF8ho3d"
      },
      "source": [
        "if not load_res_dice_history:\n",
        "  #save model and history to load or graph later\n",
        "  model.save(\"opt_model_5_res_dice\",save_format=\"h5\")\n",
        "  \n",
        "  with open('opt_model_5_res_dice_hist', 'wb') as file_pi:\n",
        "    pickle.dump(res_dice_history.history, file_pi)# save model and history to load or graph later\n",
        "  \n",
        "  del model"
      ],
      "execution_count": 29,
      "outputs": []
    },
    {
      "cell_type": "code",
      "metadata": {
        "colab": {
          "base_uri": "https://localhost:8080/",
          "height": 621
        },
        "id": "toIXIsCIT4hM",
        "outputId": "38d38314-4fe0-45cb-e777-38560da8f98c"
      },
      "source": [
        "# summarize history for iou\n",
        "plt.figure(figsize=(10,10))\n",
        "plt.subplot(121)\n",
        "if load_res_history:\n",
        "    plt.plot(res_history['mean_iou'],'k',lw=1)\n",
        "    plt.plot(res_history['val_mean_iou'],'r',lw=1)\n",
        "else:\n",
        "    plt.plot(res_history.history['mean_iou'],'k',lw=1)\n",
        "    plt.plot(res_history.history['val_mean_iou'],'r',lw=1)    \n",
        "plt.ylim(0,1)\n",
        "plt.axhline(y=0.85)\n",
        "plt.title('Res-UNet IoU')\n",
        "plt.ylabel('IoU')\n",
        "plt.xlabel('Epoch number')\n",
        "plt.legend(['train', 'test'], loc='upper left')\n",
        "\n",
        "plt.subplot(122)\n",
        "if load_res_dice_history:\n",
        "    plt.plot(res_dice_history['dice_coef'],'k',lw=1)\n",
        "    plt.plot(res_dice_history['val_dice_coef'],'r',lw=1)\n",
        "else:\n",
        "    plt.plot(res_dice_history.history['dice_coef'],'k',lw=1)\n",
        "    plt.plot(res_dice_history.history['val_dice_coef'],'r',lw=1)    \n",
        "plt.ylim(0,1)\n",
        "plt.axhline(y=0.85)\n",
        "plt.title('Res-UNet dice coefficient')\n",
        "plt.ylabel('IoU')\n",
        "plt.xlabel('Epoch number')\n",
        "plt.legend(['train', 'test'], loc='upper left')\n",
        "\n",
        "plt.show()"
      ],
      "execution_count": 30,
      "outputs": [
        {
          "output_type": "display_data",
          "data": {
            "image/png": "[encoded data removed]",
            "text/plain": [
              "<Figure size 720x720 with 2 Axes>"
            ]
          },
          "metadata": {
            "tags": [],
            "needs_background": "light"
          }
        }
      ]
    }
  ]
}